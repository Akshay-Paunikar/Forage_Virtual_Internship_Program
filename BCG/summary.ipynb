{
 "cells": [
  {
   "cell_type": "markdown",
   "metadata": {},
   "source": [
    "### BCG Data Science Job Simulation on Forage\n",
    "\n",
    " - Completed a customer churn analysis simulation for XYZ Analytics, demonstrating advanced data analytics skills, identifying essential client data and outlining a strategic investigation approach.\n",
    " - Conducted efficient data analysis using Python, including Pandas and NumPy. Employed data visualization techniques for insightful trend interpretation.\n",
    " - Completed the engineering and optimization of a random forest model, achieving an 85% accuracy rate in predicting customer churn.\n",
    " - Completed a concise executive summary for the Associate Director, delivering actionable insights for informed decision-making based on the analysis."
   ]
  },
  {
   "cell_type": "markdown",
   "metadata": {},
   "source": [
    " - Client: PowerCo, a major gas and electricity utility\n",
    " - Supplies to corporate, SME and residential customers\n",
    " - Hypothesis that churn is driven by customer price sensitivity\n",
    " - Client wants to try discounting strategy\n",
    " -  SME division head suggests that offering customers at high propensity to churn a 20% discount might be effective"
   ]
  },
  {
   "cell_type": "markdown",
   "metadata": {},
   "source": [
    " - Churn is indeed high in the SME division • 9.7% across 14606 customers\n",
    " - Predictive model is able to predict churn but the main driver is not customer price sensitivity • Yearly consumption, forecasted consumption \n",
    "and net margin are the 3 largest drivers.\n",
    " - Discount strategy of 20% is effective but only if targeted appropriately • Offer discount only to high-value customers with high churn probability"
   ]
  }
 ],
 "metadata": {
  "language_info": {
   "name": "python"
  }
 },
 "nbformat": 4,
 "nbformat_minor": 2
}
