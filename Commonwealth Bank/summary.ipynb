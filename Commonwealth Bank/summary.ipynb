{
 "cells": [
  {
   "cell_type": "markdown",
   "metadata": {},
   "source": [
    "### Commonwealth Bank Introduction to Data Science Job Simulation on Forage\n",
    "\n",
    " - Completed a job simulation involving Data Management skills for Commonwealth  Bank's Data Science team.\n",
    " - Demonstrated proficiency in creating data engineering pipelines to aggregate and extract valuable insights from datasets, optimizing data-driven decision-making.\n",
    " - Acquired skills in anonymizing personal data within datasets, ensuring compliance with data privacy regulations.\n",
    " - Proposed effective data analysis approaches, particularly related to social media, and demonstrated the ability to design well-structured databases for efficient information management."
   ]
  },
  {
   "cell_type": "markdown",
   "metadata": {},
   "source": [
    " - Client: Commanwealth Bank\n",
    " - Role: Data Engineer\n",
    " - Task 1: Data Aggregation and Analysis\n",
    " - Task 2: Data Anonymisation\n",
    " - Task 3: Propose Data Analysis Approaches\n",
    " - Task 4: Designing a Database"
   ]
  }
 ],
 "metadata": {
  "kernelspec": {
   "display_name": "Deep_Learning",
   "language": "python",
   "name": "python3"
  },
  "language_info": {
   "name": "python",
   "version": "3.9.18"
  }
 },
 "nbformat": 4,
 "nbformat_minor": 2
}
