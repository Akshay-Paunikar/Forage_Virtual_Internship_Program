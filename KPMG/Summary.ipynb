{
 "cells": [
  {
   "cell_type": "markdown",
   "metadata": {},
   "source": [
    "### KPMG AU Data Analytics Job Simulation on Forage\n",
    "\n",
    " - Completed a simulation focused on advising a client on customer targeting with the Data, Analytics & Modelling team\n",
    " - Assessed data quality and completeness in preparation for analysis\n",
    " - Analysed data to target high-value customers based on demographics and attributes\n",
    " - Developed dashboards to communicate findings with visuals"
   ]
  },
  {
   "cell_type": "markdown",
   "metadata": {},
   "source": [
    "Client Name: Sprocket Central Pty Ltd , a medium size bikes & cycling accessories organisation\n",
    "\n",
    "Sprocket Central Pty Ltd needs help with its customer and transactions data\n",
    "\n",
    "Task 1: Assessment of data quality and completeness in preparation for analysis\n",
    "\n",
    "Task 2: Targeting high value customers based on customer demographics and attributes.\n",
    "\n",
    "Task 3: Using visualisations to present insights"
   ]
  }
 ],
 "metadata": {
  "kernelspec": {
   "display_name": "Deep_Learning",
   "language": "python",
   "name": "python3"
  },
  "language_info": {
   "name": "python",
   "version": "3.9.18"
  }
 },
 "nbformat": 4,
 "nbformat_minor": 2
}
