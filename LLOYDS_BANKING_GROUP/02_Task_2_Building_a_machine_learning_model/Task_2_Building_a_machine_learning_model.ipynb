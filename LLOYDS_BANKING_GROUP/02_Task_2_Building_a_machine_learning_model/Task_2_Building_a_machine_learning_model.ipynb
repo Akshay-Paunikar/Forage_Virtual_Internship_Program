{
 "cells": [
  {
   "cell_type": "markdown",
   "metadata": {},
   "source": [
    "<h2>Task 2: Building a machine learning model</h2>\n",
    "\n",
    "Enhance customer loyalty at Lloyds by building predictive models to identify and retain at-risk customers.\n",
    "\n",
    "<h4>Task overview:</h4>\n",
    "\n",
    "Excellent work on exploring and preparing the data in Task 1! Now, you'll leverage your analytical skills to build a predictive machine learning model, identifying key factors that influence customer churn and evaluating its performance for strategic decision-making.<br>\n",
    "\n",
    "<b>What you'll learn:</b>\n",
    "\n",
    " - Approaches to selecting appropriate machine learning algorithms\n",
    " - Approaches to selecting and building machine learning models suited for classification tasks\n",
    " - Techniques for suggesting ways to evaluate and measure the model’s performance\n",
    "\n",
    "<b>What you'll do:</b>\n",
    "\n",
    " - Select an appropriate machine learning algorithm\n",
    " - Build a model to predict customer churn\n",
    " - Suggest ways to evaluate and measure the model’s performance\n",
    "\n",
    "<h3>Let's get started</h3>\n",
    "\n",
    "You've already laid a solid foundation by exploring and preparing the data. Now, it's time to apply machine learning techniques to build a predictive model for customer churn, a crucial step in enhancing SmartBank's customer retention strategies.\n",
    "\n",
    "In this task, your focus will shift from data preparation to model development. The challenge lies in selecting the right machine learning algorithm and fine-tuning it to accurately predict which customers are at risk of leaving. This model will provide actionable insights, enabling the team to develop targeted interventions to retain valuable customers.\n",
    "\n",
    "Li, your mentor, has emphasised the importance of accuracy and precision in this phase. \"The insights from this model will drive our retention strategies. It’s crucial that we build a model that not only predicts churn but also provides clear indicators of why customers are leaving,\" she explains. This guidance underscores the practical implications of your work; the model you build must be both accurate and interpretable.\n",
    "\n",
    "Your task involves choosing an appropriate algorithm, training the model, and evaluating its performance. Remember, the goal is to create a model that can be easily understood and acted on by business stakeholders. As you work through this task, consider the factors that could influence churn, such as spending habits, service usage, and demographic characteristics.\n",
    "\n",
    "This is a chance to showcase your data science expertise in a real-world scenario. Your efforts will not only enhance your skills but also contribute significantly to the team's understanding of customer behaviour. As you begin, keep in mind the practical impact of your model on SmartBank's strategic decisions. Let's get started and bring your analysis to life!\n",
    "\n",
    "<h3>Approaches to selecting appropriate machine learning algorithms</h3>\n",
    "\n",
    "Selecting the right machine learning algorithm is crucial for building a robust predictive model. Given the complexity of customer churn prediction, where the target variable is categorical, you need to consider several factors that influence the choice of the model. Here are some approaches to help guide your selection.\n",
    "\n",
    "<h4>Understanding the problem type and data characteristics</h4>\n",
    "\n",
    "In churn prediction, you're dealing with a <b>binary classification problem.</b> Key considerations include:\n",
    "\n",
    " - <b>Imbalance in the data set:</b> Customer churn data sets often have an imbalance, where the number of churned customers is significantly less than non-churned. Techniques like <b>resampling, SMOTE (synthetic minority over-sampling technique)</b>, or <b>adjusted class weights</b> in algorithms are crucial for handling this imbalance effectively.\n",
    " - <b>Feature engineering:</b> Advanced feature engineering techniques, such as <b>interaction terms, polynomial features</b>, and <b>dimensionality reduction (e.g., principal component analysis)</b>, can significantly influence the performance of algorithms, especially those sensitive to multicollinearity and high-dimensional spaces, like logistic regression and support vector machines (SVMs).\n",
    "\n",
    "<h4>Algorithm selection and considerations</h4>\n",
    "\n",
    " - <b>Logistic regression:</b> Preferred for its simplicity and interpretability, logistic regression can be enhanced with <b>regularisation techniques (L1, L2)</b> to prevent overfitting, especially in high-dimensional data sets.\n",
    " - <b>Decision trees and random forests:</b> These are powerful for capturing non-linear relationships and interactions between features. Random forests, an ensemble of decision trees, provide robustness against overfitting and allow for <b>feature importance analysis</b>, which can be crucial in understanding which factors contribute most to churn.\n",
    " - <b>SVMs:</b> Effective in high-dimensional spaces and when the decision boundary is not linear. The use of <b>kernel tricks (e.g., RBF, polynomial)</b> allows SVMs to handle non-linear relationships, but they require careful tuning of hyperparameters such as <b>C (regularisation parameter)</b> and <b>gamma.</b>\n",
    " - <b>Neural networks:</b> While potentially offering high accuracy, especially with complex data patterns, they require large amounts of data and computational power. Techniques like <b>dropout, batch normalisation</b>, and <b>early stopping</b> are essential to prevent overfitting.\n",
    "\n",
    "<h4>Model evaluation and tuning</h4>\n",
    "\n",
    " - <b>Cross-validation:</b> Advanced cross-validation techniques, such as <b>stratified k-fold</b>, ensure that each fold has a representative distribution of the target class, crucial for imbalanced data sets.\n",
    " - <b>Hyperparameter tuning:</b> Employ <b>grid search</b> or <b>random search</b> for systematic exploration of the hyperparameter space. For more efficient optimisation, consider using <b>Bayesian optimisation</b> or <b>automated machine learning (AutoML)</b> tools.\n",
    "\n",
    "<h4>Scalability and practical considerations</h4>\n",
    "\n",
    " - <b>Model deployment:</b> Consider the model's scalability and integration into the business workflow. This includes <b>real-time prediction capabilities</b>, ease of updating the model with new data, and computational efficiency.\n",
    " - <b>Interpretability vs. accuracy trade-offs:</b> In practice, balancing interpretability with predictive power is often necessary, especially when model decisions need to be transparent to stakeholders.\n",
    "\n",
    "By delving into these advanced considerations, you'll be better equipped to select and fine-tune machine learning algorithms that are both accurate and aligned with the practical needs of the business context in which they will be deployed.\n",
    "\n",
    "<h3>Approaches to selecting and building machine learning models for classification tasks</h3>\n",
    "\n",
    "Building a machine learning model for classification tasks, such as predicting customer churn, requires a deep understanding of both the algorithmic foundation and the practical nuances of implementation. Here are some advanced approaches to guide you through this process.\n",
    "\n",
    "<h4>Feature selection and engineering</h4>\n",
    "\n",
    " - <b>Dimensionality reduction:</b> Techniques such as <b>principal component analysis (PCA)</b> or <b>t-distributed stochastic neighbour embedding (t-SNE)</b> can be used to reduce the feature space, mitigating the curse of dimensionality and enhancing model performance.\n",
    " - <b>Feature importance analysis:</b> Algorithms like random forests provide intrinsic measures of feature importance, which can guide the selection of the most predictive features. This step is crucial for simplifying the model and improving interpretability without sacrificing accuracy.\n",
    " - <b>Interaction terms and polynomial features:</b> Introducing interaction terms and polynomial features can capture non-linear relationships between variables, which are often missed in linear models. This is particularly useful in models like logistic regression, where extending the feature space can significantly enhance predictive capability.\n",
    "\n",
    "<h4>Model selection and evaluation</h4>\n",
    "\n",
    "Choosing the right model involves balancing several factors:\n",
    "\n",
    " - <b>Algorithm suitability:</b> While logistic regression and decision trees offer simplicity and interpretability, they may lack the predictive power of more complex models like <b>gradient boosting machines (GBMs), XGBoost</b>, or <b>neural networks</b>. The choice often depends on the trade-off between model performance and explainability.\n",
    " - <b>Model evaluation metrics:</b> In the context of imbalanced data sets, traditional metrics like accuracy are often misleading. Use metrics such as <b>precision, recall, F1-score</b>, and <b>ROC-AUC</b> to get a more accurate picture of model performance. Additionally, the <b>confusion matrix</b> provides detailed insights into the true positives, false positives, true negatives, and false negatives, which are critical for understanding model behaviour.\n",
    "\n",
    "<h4>Advanced model tuning techniques</h4>\n",
    "\n",
    "Optimising model performance involves fine-tuning hyperparameters:\n",
    "\n",
    " - <b>Grid search and random search:</b> These methods are standard for hyperparameter optimisation but can be computationally expensive. Grid search is exhaustive, covering all combinations of specified hyperparameters, while random search samples a wide range but in a more computationally efficient manner.\n",
    " - <b>Bayesian optimisation:</b> For more efficient hyperparameter tuning, Bayesian optimisation offers a probabilistic approach to finding the optimal parameters, often outperforming traditional methods in terms of both accuracy and computational cost.\n",
    " - <b>Cross-validation:</b> Use <b>stratified k-fold cross-validation</b> to ensure that each fold has the same proportion of classes as the original data set, which is crucial for imbalanced classification tasks. This approach helps in validating that the model generalises well to unseen data.\n",
    "\n",
    "<h4>Model implementation and scalability</h4>\n",
    "\n",
    "Once a model is selected and tuned, consider its deployment and scalability:\n",
    "\n",
    " - <b>Pipeline integration:</b> Incorporate the model into a robust data pipeline, ensuring it can handle real-time data streams and integrate seamlessly with existing systems. This includes automating data preprocessing, model prediction, and output generation.\n",
    " - <b>Model monitoring and maintenance:</b> Post-deployment, continuously monitor model performance to detect drifts in data distribution or declines in accuracy. Implementing version control for models, along with retraining strategies, ensures the model remains accurate and relevant as new data becomes available.\n",
    "\n",
    "By integrating these advanced techniques, you'll build a classification model that is not only accurate and robust but also scalable and maintainable, ensuring long-term value for the business.\n",
    "\n",
    "<h3>Techniques for suggesting ways to evaluate and measure the model's performance</h3>\n",
    "\n",
    "Evaluating and measuring the performance of a machine learning model, especially in classification tasks like predicting customer churn, is crucial for understanding its effectiveness and reliability. Here are some advanced techniques and metrics to ensure comprehensive evaluation.\n",
    "\n",
    "<h4>Choosing the right evaluation metrics</h4>\n",
    "\n",
    "Selecting appropriate metrics depends on the specific characteristics of the data set and the business objectives:\n",
    "\n",
    " - <b>Precision and recall:</b> These metrics are particularly important in imbalanced data sets where false positives and false negatives carry different costs. Precision measures the proportion of true positive predictions among all positive predictions, while recall measures the proportion of true positives identified out of all actual positives.\n",
    " - <b>F1 score:</b> The F1 score balances precision and recall, offering a single metric that accounts for both false positives and false negatives. This is particularly useful when the costs of these errors are similar.\n",
    " - <b>ROC-AUC (receiver operating characteristic - area under curve):</b> The ROC-AUC score evaluates the trade-off between true positive rates and false positive rates across different threshold settings. A higher AUC indicates better model performance across various decision thresholds.\n",
    " - <b>Confusion matrix:</b> This matrix offers a detailed breakdown of the true positives, false positives, true negatives, and false negatives. It is a fundamental tool for understanding model performance, especially in terms of misclassification types.\n",
    "\n",
    "<h4>Model calibration and validation</h4>\n",
    "\n",
    " - <b>Calibration curves:</b> To assess how well predicted probabilities align with actual outcomes, use calibration curves. These curves compare predicted probabilities with actual outcome frequencies, helping to adjust the model to improve probability estimation.\n",
    " - <b>Cross-validation:</b> Beyond simple training-validation splits, k-fold cross-validation ensures that the model's performance is consistently evaluated across different subsets of the data. This technique reduces the likelihood of overfitting and ensures that the model generalises well to unseen data.\n",
    " - <b>Bootstrapping:</b> This statistical method involves repeatedly resampling the data set with replacement to estimate the distribution of model performance metrics. Bootstrapping provides insights into the variability and robustness of the model's predictions.\n",
    "\n",
    "<h4>Post-model analysis</h4>\n",
    "\n",
    " - <b>Feature importance and SHAP values:</b> Understanding why a model makes certain predictions is crucial, especially in business contexts where decisions must be justified. <b>Feature importance</b> metrics in models like random forests and <b>SHAP (SHapley Additive exPlanations) values</b> provide insights into how each feature contributes to the model’s decisions.\n",
    " - <b>Error analysis:</b> Conduct a thorough analysis of the model's errors, focusing on cases where the model performs poorly. This analysis can reveal data patterns that the model misses, leading to insights for further feature engineering or model adjustments.\n",
    " - <b>Business impact analysis:</b> Beyond statistical metrics, evaluate the model's performance in terms of business outcomes. For example, measure the impact of the model on customer retention rates or revenue. This analysis helps assess the model's practical value.\n",
    "\n",
    "<h4>Continuous monitoring and reassessment</h4>\n",
    "\n",
    " - <b>Model drift detection:</b> Implement systems to detect model drift, which occurs when the data distribution changes over time, leading to a decline in model performance. Techniques like monitoring prediction probabilities or feature distributions can help the early detection of drift.\n",
    " - <b>Retraining strategies:</b> Based on performance monitoring, establish criteria for retraining the model. This could involve periodic retraining or retraining triggered by specific performance thresholds or detected drifts.\n",
    "\n",
    "By employing these advanced techniques for model evaluation and measurement, you ensure that the predictive model not only performs well statistically but also aligns with business goals, providing actionable insights and reliable predictions.\n",
    "\n",
    "<h3>Crafting the predictive blueprint</h3>\n",
    "\n",
    "As you delve deeper into the intricacies of data science, Task 2 offers a critical opportunity to influence the strategic direction of Lloyds Banking Group. Your work in this phase will pivot from EDA to the construction of a predictive model that could significantly shape the bank's customer retention strategies.\n",
    "\n",
    "The urgency and importance of this task cannot be overstated. Lloyds has seen a subtle but concerning trend in customer attrition, which, if not addressed, could have substantial implications for its market standing and profitability. This project is a real-world application where your findings could directly influence business decisions and outcomes.\n",
    "\n",
    "<h4>Team collaboration and strategic impact</h4>\n",
    "\n",
    "Working closely with Li and the Data Science & Analytics team, you are stepping into a role where your technical expertise merges with strategic business needs. The team has identified key areas where predictive insights could allow for proactive interventions, thus reducing churn and enhancing customer loyalty. Li underscores the strategic importance of your task, noting, \"Our ability to predict churn allows us to personalise our engagement strategies, tailoring our approach to meet the needs and preferences of our customers. This is critical for maintaining a competitive edge.\"\n",
    "\n",
    "<h4>Integrating analytical insights into business strategies</h4>\n",
    "\n",
    "Your task involves selecting the most appropriate machine learning algorithm, which balances predictive accuracy with interpretability. This balance is crucial; while complex models may offer high accuracy, they can be challenging to explain to non-technical stakeholders who need to trust and act on these insights. Therefore, the choice of algorithm must consider not only the statistical performance but also the business context and usability.\n",
    "\n",
    "Building the model is where your analytical skills will shine. Using the preprocessed data from Task 1, you'll train the model to identify patterns indicative of potential churn. This involves iterating on various models, tuning hyperparameters, and validating the model to ensure it generalises well to new data.\n",
    "\n",
    "<h4>Evaluating and communicating model performance</h4>\n",
    "\n",
    "Beyond building the model, it's essential to suggest robust evaluation metrics. The goal is to provide a comprehensive view of the model's performance, highlighting its strengths and identifying any limitations. Metrics like precision, recall, and F1 score will be key, especially in the context of imbalanced data sets where simple accuracy might be misleading. Furthermore, explaining the model's predictions through feature importance or other interpretability tools will be vital for aligning the model's outputs with business decisions.\n",
    "\n",
    "<h4>Delivering actionable insights</h4>\n",
    "\n",
    "The culmination of your work will be a detailed report. This report should present the technical aspects of the model and translate these findings into actionable business insights. Your ability to communicate complex data science concepts in a clear and actionable manner will be crucial in ensuring that the strategic implications of your work are understood and implemented by the business.\n",
    "\n",
    "This task is a critical component of Lloyds' broader strategy to harness data-driven insights for business growth. Your contributions will play a pivotal role in shaping how the bank understands and responds to customer needs, ultimately driving customer satisfaction and loyalty. As you embark on this task, remember that your work has the potential to make a significant impact, both analytically and strategically.\n",
    "\n",
    "<h3>Task instructions</h3>\n",
    "\n",
    "<h4>Introduction</h4>\n",
    "\n",
    "In this task, you will focus on developing a robust machine learning model to predict customer churn. Your objective is to select an appropriate algorithm, train and validate the model, and propose evaluation metrics that will help assess its performance. This task is pivotal for providing actionable insights that can inform business strategies at Lloyds Banking Group.\n",
    "\n",
    "<h4>Instructions</h4>\n",
    "\n",
    "<b>Select an appropriate machine learning algorithm:</b>\n",
    "\n",
    " - Review the characteristics of the data set and the nature of the churn prediction problem.\n",
    " - Consider algorithms such as logistic regression, decision trees, random forests, gradient boosting machines, or neural networks.\n",
    " - Choose an algorithm that balances accuracy and interpretability, suitable for the business context.\n",
    "\n",
    "<b>Build and train the model:</b>\n",
    "\n",
    " - Use the preprocessed data set from Task 1 to train your chosen model.\n",
    " - Implement techniques like cross-validation to ensure the model generalises well to unseen data.\n",
    " - Perform hyperparameter tuning to optimise the model’s performance.\n",
    "\n",
    "<b>Evaluate model performance:</b>\n",
    "\n",
    " - Select appropriate metrics to evaluate the model's performance, such as precision, recall, F1 score, ROC-AUC, and confusion matrix analysis.\n",
    " - Consider the implications of each metric in the context of imbalanced data sets, ensuring that the evaluation provides a comprehensive view of the model's effectiveness.\n",
    "\n",
    "<b>Suggest ways to improve and utilise the model:</b>\n",
    "\n",
    " - Provide recommendations on how the model can be used by the business to identify at-risk customers and develop retention strategies.\n",
    " - Discuss any potential improvements or adjustments to the model that could enhance its accuracy or applicability in different business scenarios.\n",
    "\n",
    "<h4>Deliverable:</h4>\n",
    "\n",
    "<b>Report submission:</b> Compile a comprehensive report that includes:\n",
    "\n",
    " - A detailed description of the selected algorithm and the rationale behind its choice.\n",
    " - The trained model, along with performance metrics and evaluation results.\n",
    " - Suggested ways to utilise the model's predictions for business decision-making and potential areas for improvement.\n",
    "\n",
    "Ensure that your report is clear, concise, and well-organised, effectively communicating both the technical aspects of the model and its practical applications for the business. This report will be a critical tool for stakeholders to understand and leverage the predictive insights generated by your model."
   ]
  },
  {
   "cell_type": "code",
   "execution_count": 1,
   "metadata": {},
   "outputs": [],
   "source": [
    "# import required libraries\n",
    "import numpy as np\n",
    "import pandas as pd\n",
    "import matplotlib.pyplot as plt\n",
    "%matplotlib inline\n",
    "import seaborn as sns"
   ]
  },
  {
   "cell_type": "code",
   "execution_count": 2,
   "metadata": {},
   "outputs": [
    {
     "data": {
      "text/html": [
       "<div>\n",
       "<style scoped>\n",
       "    .dataframe tbody tr th:only-of-type {\n",
       "        vertical-align: middle;\n",
       "    }\n",
       "\n",
       "    .dataframe tbody tr th {\n",
       "        vertical-align: top;\n",
       "    }\n",
       "\n",
       "    .dataframe thead th {\n",
       "        text-align: right;\n",
       "    }\n",
       "</style>\n",
       "<table border=\"1\" class=\"dataframe\">\n",
       "  <thead>\n",
       "    <tr style=\"text-align: right;\">\n",
       "      <th></th>\n",
       "      <th>Age</th>\n",
       "      <th>Gender</th>\n",
       "      <th>MaritalStatus</th>\n",
       "      <th>IncomeLevel</th>\n",
       "      <th>AmountSpent</th>\n",
       "      <th>ProductCategory</th>\n",
       "      <th>InteractionType</th>\n",
       "      <th>ResolutionStatus</th>\n",
       "      <th>LoginFrequency</th>\n",
       "      <th>ServiceUsage</th>\n",
       "      <th>ChurnStatus</th>\n",
       "    </tr>\n",
       "  </thead>\n",
       "  <tbody>\n",
       "    <tr>\n",
       "      <th>0</th>\n",
       "      <td>62</td>\n",
       "      <td>M</td>\n",
       "      <td>Single</td>\n",
       "      <td>Low</td>\n",
       "      <td>416.50</td>\n",
       "      <td>Electronics</td>\n",
       "      <td>Inquiry</td>\n",
       "      <td>Resolved</td>\n",
       "      <td>34</td>\n",
       "      <td>Mobile App</td>\n",
       "      <td>0</td>\n",
       "    </tr>\n",
       "    <tr>\n",
       "      <th>1</th>\n",
       "      <td>65</td>\n",
       "      <td>M</td>\n",
       "      <td>Married</td>\n",
       "      <td>Low</td>\n",
       "      <td>54.96</td>\n",
       "      <td>Clothing</td>\n",
       "      <td>Inquiry</td>\n",
       "      <td>Resolved</td>\n",
       "      <td>5</td>\n",
       "      <td>Website</td>\n",
       "      <td>1</td>\n",
       "    </tr>\n",
       "    <tr>\n",
       "      <th>2</th>\n",
       "      <td>65</td>\n",
       "      <td>M</td>\n",
       "      <td>Married</td>\n",
       "      <td>Low</td>\n",
       "      <td>197.50</td>\n",
       "      <td>Electronics</td>\n",
       "      <td>Inquiry</td>\n",
       "      <td>Resolved</td>\n",
       "      <td>5</td>\n",
       "      <td>Website</td>\n",
       "      <td>1</td>\n",
       "    </tr>\n",
       "    <tr>\n",
       "      <th>3</th>\n",
       "      <td>65</td>\n",
       "      <td>M</td>\n",
       "      <td>Married</td>\n",
       "      <td>Low</td>\n",
       "      <td>101.31</td>\n",
       "      <td>Furniture</td>\n",
       "      <td>Inquiry</td>\n",
       "      <td>Resolved</td>\n",
       "      <td>5</td>\n",
       "      <td>Website</td>\n",
       "      <td>1</td>\n",
       "    </tr>\n",
       "    <tr>\n",
       "      <th>4</th>\n",
       "      <td>65</td>\n",
       "      <td>M</td>\n",
       "      <td>Married</td>\n",
       "      <td>Low</td>\n",
       "      <td>397.37</td>\n",
       "      <td>Clothing</td>\n",
       "      <td>Inquiry</td>\n",
       "      <td>Resolved</td>\n",
       "      <td>5</td>\n",
       "      <td>Website</td>\n",
       "      <td>1</td>\n",
       "    </tr>\n",
       "  </tbody>\n",
       "</table>\n",
       "</div>"
      ],
      "text/plain": [
       "   Age Gender MaritalStatus IncomeLevel  AmountSpent ProductCategory  \\\n",
       "0   62      M        Single         Low       416.50     Electronics   \n",
       "1   65      M       Married         Low        54.96        Clothing   \n",
       "2   65      M       Married         Low       197.50     Electronics   \n",
       "3   65      M       Married         Low       101.31       Furniture   \n",
       "4   65      M       Married         Low       397.37        Clothing   \n",
       "\n",
       "  InteractionType ResolutionStatus  LoginFrequency ServiceUsage  ChurnStatus  \n",
       "0         Inquiry         Resolved              34   Mobile App            0  \n",
       "1         Inquiry         Resolved               5      Website            1  \n",
       "2         Inquiry         Resolved               5      Website            1  \n",
       "3         Inquiry         Resolved               5      Website            1  \n",
       "4         Inquiry         Resolved               5      Website            1  "
      ]
     },
     "execution_count": 2,
     "metadata": {},
     "output_type": "execute_result"
    }
   ],
   "source": [
    "# load the final data for preprocessing\n",
    "new_data = pd.read_csv(\"new_data.csv\")\n",
    "new_data.head()"
   ]
  },
  {
   "cell_type": "code",
   "execution_count": 3,
   "metadata": {},
   "outputs": [
    {
     "data": {
      "text/plain": [
       "Age                 0\n",
       "Gender              0\n",
       "MaritalStatus       0\n",
       "IncomeLevel         0\n",
       "AmountSpent         0\n",
       "ProductCategory     0\n",
       "InteractionType     0\n",
       "ResolutionStatus    0\n",
       "LoginFrequency      0\n",
       "ServiceUsage        0\n",
       "ChurnStatus         0\n",
       "dtype: int64"
      ]
     },
     "execution_count": 3,
     "metadata": {},
     "output_type": "execute_result"
    }
   ],
   "source": [
    "new_data.isnull().sum()"
   ]
  },
  {
   "cell_type": "code",
   "execution_count": 4,
   "metadata": {},
   "outputs": [
    {
     "data": {
      "text/plain": [
       "0"
      ]
     },
     "execution_count": 4,
     "metadata": {},
     "output_type": "execute_result"
    }
   ],
   "source": [
    "new_data.duplicated().sum()"
   ]
  },
  {
   "cell_type": "code",
   "execution_count": 5,
   "metadata": {},
   "outputs": [],
   "source": [
    "# Let's preprocess our data for model building\n",
    "from sklearn.model_selection import train_test_split, StratifiedKFold, GridSearchCV\n",
    "from sklearn.preprocessing import StandardScaler, OneHotEncoder\n",
    "from sklearn.compose import ColumnTransformer\n",
    "from sklearn.pipeline import Pipeline\n",
    "from sklearn.ensemble import RandomForestClassifier\n",
    "from xgboost import XGBClassifier\n",
    "from sklearn.metrics import classification_report, confusion_matrix, roc_auc_score\n",
    "from sklearn.utils.class_weight import compute_class_weight"
   ]
  },
  {
   "cell_type": "code",
   "execution_count": 6,
   "metadata": {},
   "outputs": [],
   "source": [
    "# Separate features and target variable\n",
    "X = new_data.drop(columns='ChurnStatus')\n",
    "y = new_data['ChurnStatus']"
   ]
  },
  {
   "cell_type": "code",
   "execution_count": 7,
   "metadata": {},
   "outputs": [],
   "source": [
    "# Identify columns by type\n",
    "numeric_features = X.select_dtypes(exclude=\"object\").columns\n",
    "categorical_features = X.select_dtypes(include=\"object\").columns"
   ]
  },
  {
   "cell_type": "code",
   "execution_count": 8,
   "metadata": {},
   "outputs": [],
   "source": [
    "# Define preprocessing for numerical data (scaling) and categorical data (one-hot encoding)\n",
    "preprocessor = ColumnTransformer(\n",
    "    transformers=[\n",
    "        ('num', StandardScaler(), numeric_features),\n",
    "        ('cat', OneHotEncoder(handle_unknown='ignore'), categorical_features)\n",
    "    ]\n",
    ")"
   ]
  },
  {
   "cell_type": "code",
   "execution_count": 9,
   "metadata": {},
   "outputs": [],
   "source": [
    "# Create a preprocessing and model training pipeline\n",
    "pipeline = Pipeline(steps=[('preprocessor', preprocessor)])"
   ]
  },
  {
   "cell_type": "code",
   "execution_count": 10,
   "metadata": {},
   "outputs": [],
   "source": [
    "# Apply transformations\n",
    "X_preprocessed = pipeline.fit_transform(X)"
   ]
  },
  {
   "cell_type": "code",
   "execution_count": 11,
   "metadata": {},
   "outputs": [],
   "source": [
    "# Split the preprocessed data into train and test sets\n",
    "X_train, X_test, y_train, y_test = train_test_split(X_preprocessed, y, stratify=y, test_size=0.2, random_state=42)"
   ]
  },
  {
   "cell_type": "code",
   "execution_count": 12,
   "metadata": {},
   "outputs": [
    {
     "name": "stdout",
     "output_type": "stream",
     "text": [
      "(5222, 27)\n",
      "(1306, 27)\n",
      "(5222,)\n",
      "(1306,)\n"
     ]
    }
   ],
   "source": [
    "print(X_train.shape)\n",
    "print(X_test.shape)\n",
    "print(y_train.shape)\n",
    "print(y_test.shape)"
   ]
  },
  {
   "cell_type": "markdown",
   "metadata": {},
   "source": [
    "### Build and Train the Model:\n",
    "\n",
    "Let’s proceed with Random Forest and XGBoost since these methods perform well on imbalanced data, and both provide useful feature importance scores."
   ]
  },
  {
   "cell_type": "markdown",
   "metadata": {},
   "source": [
    "#### Random Forest Model with Cross-Validation and Hyperparameter Tuning"
   ]
  },
  {
   "cell_type": "code",
   "execution_count": 13,
   "metadata": {},
   "outputs": [
    {
     "name": "stdout",
     "output_type": "stream",
     "text": [
      "Best parameters for Random Forest: {'max_depth': 20, 'min_samples_split': 2, 'n_estimators': 300}\n"
     ]
    }
   ],
   "source": [
    "# Define model with initial parameters\n",
    "rf = RandomForestClassifier(class_weight='balanced', random_state=42)\n",
    "\n",
    "# Define parameter grid for hyperparameter tuning\n",
    "param_grid_rf = {\n",
    "    'n_estimators': [100, 200, 300],\n",
    "    'max_depth': [10, 20, None],\n",
    "    'min_samples_split': [2, 5, 10]\n",
    "}\n",
    "\n",
    "# Set up stratified cross-validation\n",
    "cv = StratifiedKFold(n_splits=5, shuffle=True, random_state=42)\n",
    "\n",
    "# Use GridSearchCV for hyperparameter tuning\n",
    "grid_search_rf = GridSearchCV(estimator=rf, param_grid=param_grid_rf, cv=cv, scoring='roc_auc', n_jobs=-1)\n",
    "grid_search_rf.fit(X_train, y_train)\n",
    "\n",
    "# Get best parameters and model\n",
    "best_rf = grid_search_rf.best_estimator_\n",
    "print(\"Best parameters for Random Forest:\", grid_search_rf.best_params_)"
   ]
  },
  {
   "cell_type": "markdown",
   "metadata": {},
   "source": [
    "#### XGBoost Model with Cross-Validation and Hyperparameter Tuning"
   ]
  },
  {
   "cell_type": "code",
   "execution_count": 14,
   "metadata": {},
   "outputs": [
    {
     "name": "stdout",
     "output_type": "stream",
     "text": [
      "Best parameters for XGBoost: {'learning_rate': 0.2, 'max_depth': 10, 'n_estimators': 200}\n"
     ]
    }
   ],
   "source": [
    "# Define model with initial parameters\n",
    "xgb = XGBClassifier(scale_pos_weight=len(y_train[y_train == 0]) / len(y_train[y_train == 1]), random_state=42)\n",
    "\n",
    "# Define parameter grid for hyperparameter tuning\n",
    "param_grid_xgb = {\n",
    "    'n_estimators': [100, 200, 300],\n",
    "    'max_depth': [3, 6, 10],\n",
    "    'learning_rate': [0.01, 0.1, 0.2]\n",
    "}\n",
    "\n",
    "# Use GridSearchCV for hyperparameter tuning\n",
    "grid_search_xgb = GridSearchCV(estimator=xgb, param_grid=param_grid_xgb, cv=cv, scoring='roc_auc', n_jobs=-1)\n",
    "grid_search_xgb.fit(X_train, y_train)\n",
    "\n",
    "# Get best parameters and model\n",
    "best_xgb = grid_search_xgb.best_estimator_\n",
    "print(\"Best parameters for XGBoost:\", grid_search_xgb.best_params_)"
   ]
  },
  {
   "cell_type": "markdown",
   "metadata": {},
   "source": [
    "### Model Evaluation\n",
    "We will use precision, recall, F1-score, ROC-AUC, and the confusion matrix as evaluation metrics."
   ]
  },
  {
   "cell_type": "code",
   "execution_count": 15,
   "metadata": {},
   "outputs": [],
   "source": [
    "# Predict on test data\n",
    "y_pred_rf = best_rf.predict(X_test)\n",
    "y_pred_xgb = best_xgb.predict(X_test)"
   ]
  },
  {
   "cell_type": "code",
   "execution_count": 16,
   "metadata": {},
   "outputs": [
    {
     "name": "stdout",
     "output_type": "stream",
     "text": [
      "Random Forest Model:\n",
      "Classification Report: \n",
      "               precision    recall  f1-score   support\n",
      "\n",
      "           0       0.97      1.00      0.98      1050\n",
      "           1       0.99      0.86      0.92       256\n",
      "\n",
      "    accuracy                           0.97      1306\n",
      "   macro avg       0.98      0.93      0.95      1306\n",
      "weighted avg       0.97      0.97      0.97      1306\n",
      "\n",
      "Confusion Matrix: \n",
      " [[1048    2]\n",
      " [  36  220]]\n",
      "ROC-AUC Score:\n",
      " 0.9969847470238096\n"
     ]
    }
   ],
   "source": [
    "# Evaluation Metrics for Random Forest\n",
    "print(\"Random Forest Model:\")\n",
    "print(\"Classification Report: \\n\", classification_report(y_test, y_pred_rf))\n",
    "print(\"Confusion Matrix: \\n\", confusion_matrix(y_test, y_pred_rf))\n",
    "print(\"ROC-AUC Score:\\n\", roc_auc_score(y_test, best_rf.predict_proba(X_test)[:, 1]))"
   ]
  },
  {
   "cell_type": "code",
   "execution_count": 17,
   "metadata": {},
   "outputs": [
    {
     "name": "stdout",
     "output_type": "stream",
     "text": [
      "XGBoost Model:\n",
      "Classification Report: \n",
      "               precision    recall  f1-score   support\n",
      "\n",
      "           0       0.99      1.00      0.99      1050\n",
      "           1       0.98      0.97      0.97       256\n",
      "\n",
      "    accuracy                           0.99      1306\n",
      "   macro avg       0.99      0.98      0.98      1306\n",
      "weighted avg       0.99      0.99      0.99      1306\n",
      "\n",
      "Confusion Matrix: \n",
      " [[1045    5]\n",
      " [   8  248]]\n",
      "ROC-AUC Score: \n",
      " 0.9943638392857143\n"
     ]
    }
   ],
   "source": [
    "# Evaluation Metrics for XGBoost\n",
    "print(\"XGBoost Model:\")\n",
    "print(\"Classification Report: \\n\", classification_report(y_test, y_pred_xgb))\n",
    "print(\"Confusion Matrix: \\n\", confusion_matrix(y_test, y_pred_xgb))\n",
    "print(\"ROC-AUC Score: \\n\", roc_auc_score(y_test, best_xgb.predict_proba(X_test)[:, 1]))"
   ]
  },
  {
   "cell_type": "markdown",
   "metadata": {},
   "source": [
    "### Deep Learning Model (Using Keras)"
   ]
  },
  {
   "cell_type": "code",
   "execution_count": 18,
   "metadata": {},
   "outputs": [],
   "source": [
    "import tensorflow as tf\n",
    "from tensorflow.keras.models import Sequential\n",
    "from tensorflow.keras.layers import Dense, Dropout\n",
    "from tensorflow.keras.callbacks import EarlyStopping\n",
    "from sklearn.utils import class_weight\n",
    "from sklearn.metrics import classification_report, confusion_matrix, roc_auc_score"
   ]
  },
  {
   "cell_type": "code",
   "execution_count": 19,
   "metadata": {},
   "outputs": [
    {
     "name": "stdout",
     "output_type": "stream",
     "text": [
      "Class Weights: {0: 0.6222592945662536, 1: 2.5448343079922027}\n"
     ]
    }
   ],
   "source": [
    "# Compute class weights\n",
    "class_weights = class_weight.compute_class_weight(\n",
    "    'balanced', classes=[0, 1], y=y_train\n",
    ")\n",
    "class_weights_dict = {0: class_weights[0], 1: class_weights[1]}\n",
    "print(\"Class Weights:\", class_weights_dict)"
   ]
  },
  {
   "cell_type": "code",
   "execution_count": 20,
   "metadata": {},
   "outputs": [],
   "source": [
    "def build_model(input_shape):\n",
    "    model = Sequential()\n",
    "    model.add(Dense(64, activation='relu', input_shape=(input_shape,)))\n",
    "    model.add(Dropout(0.3))  # Dropout layer to prevent overfitting\n",
    "    model.add(Dense(32, activation='relu'))\n",
    "    model.add(Dropout(0.3))\n",
    "    model.add(Dense(16, activation='relu'))\n",
    "    model.add(Dense(1, activation='sigmoid'))  # Sigmoid for binary classification\n",
    "    return model"
   ]
  },
  {
   "cell_type": "code",
   "execution_count": 21,
   "metadata": {},
   "outputs": [],
   "source": [
    "# Initialize the model\n",
    "model = build_model(X_train.shape[1])\n",
    "\n",
    "# Compile the model\n",
    "model.compile(optimizer='adam', loss='binary_crossentropy', metrics=['accuracy', tf.keras.metrics.AUC()])"
   ]
  },
  {
   "cell_type": "code",
   "execution_count": 22,
   "metadata": {},
   "outputs": [
    {
     "name": "stdout",
     "output_type": "stream",
     "text": [
      "Epoch 1/100\n",
      "131/131 [==============================] - 6s 6ms/step - loss: 0.6996 - accuracy: 0.5226 - auc: 0.5205 - val_loss: 0.7026 - val_accuracy: 0.4699 - val_auc: 0.5542\n",
      "Epoch 2/100\n",
      "131/131 [==============================] - 0s 2ms/step - loss: 0.6917 - accuracy: 0.5267 - auc: 0.5466 - val_loss: 0.6817 - val_accuracy: 0.5636 - val_auc: 0.6038\n",
      "Epoch 3/100\n",
      "131/131 [==============================] - 0s 2ms/step - loss: 0.6810 - accuracy: 0.5705 - auc: 0.5949 - val_loss: 0.6789 - val_accuracy: 0.5512 - val_auc: 0.6159\n",
      "Epoch 4/100\n",
      "131/131 [==============================] - 0s 3ms/step - loss: 0.6737 - accuracy: 0.5679 - auc: 0.6204 - val_loss: 0.6748 - val_accuracy: 0.5522 - val_auc: 0.6328\n",
      "Epoch 5/100\n",
      "131/131 [==============================] - 0s 3ms/step - loss: 0.6659 - accuracy: 0.5937 - auc: 0.6386 - val_loss: 0.6575 - val_accuracy: 0.5770 - val_auc: 0.6443\n",
      "Epoch 6/100\n",
      "131/131 [==============================] - 0s 2ms/step - loss: 0.6592 - accuracy: 0.5818 - auc: 0.6531 - val_loss: 0.6020 - val_accuracy: 0.6861 - val_auc: 0.6632\n",
      "Epoch 7/100\n",
      "131/131 [==============================] - 0s 2ms/step - loss: 0.6574 - accuracy: 0.6158 - auc: 0.6542 - val_loss: 0.6730 - val_accuracy: 0.5818 - val_auc: 0.6811\n",
      "Epoch 8/100\n",
      "131/131 [==============================] - 0s 3ms/step - loss: 0.6441 - accuracy: 0.6227 - auc: 0.6847 - val_loss: 0.6481 - val_accuracy: 0.6057 - val_auc: 0.7020\n",
      "Epoch 9/100\n",
      "131/131 [==============================] - 0s 2ms/step - loss: 0.6294 - accuracy: 0.6244 - auc: 0.7047 - val_loss: 0.6174 - val_accuracy: 0.6565 - val_auc: 0.7223\n",
      "Epoch 10/100\n",
      "131/131 [==============================] - 0s 3ms/step - loss: 0.6257 - accuracy: 0.6445 - auc: 0.7094 - val_loss: 0.6538 - val_accuracy: 0.6000 - val_auc: 0.7355\n",
      "Epoch 11/100\n",
      "131/131 [==============================] - 0s 2ms/step - loss: 0.6103 - accuracy: 0.6557 - auc: 0.7309 - val_loss: 0.5984 - val_accuracy: 0.6766 - val_auc: 0.7487\n",
      "Epoch 12/100\n",
      "131/131 [==============================] - 0s 2ms/step - loss: 0.5998 - accuracy: 0.6730 - auc: 0.7405 - val_loss: 0.6324 - val_accuracy: 0.6344 - val_auc: 0.7543\n",
      "Epoch 13/100\n",
      "131/131 [==============================] - 0s 2ms/step - loss: 0.5839 - accuracy: 0.6780 - auc: 0.7602 - val_loss: 0.6081 - val_accuracy: 0.6593 - val_auc: 0.7657\n",
      "Epoch 14/100\n",
      "131/131 [==============================] - 0s 3ms/step - loss: 0.5814 - accuracy: 0.6770 - auc: 0.7649 - val_loss: 0.5627 - val_accuracy: 0.7110 - val_auc: 0.7762\n",
      "Epoch 15/100\n",
      "131/131 [==============================] - 0s 3ms/step - loss: 0.5819 - accuracy: 0.6849 - auc: 0.7623 - val_loss: 0.5648 - val_accuracy: 0.7081 - val_auc: 0.7901\n",
      "Epoch 16/100\n",
      "131/131 [==============================] - 0s 3ms/step - loss: 0.5631 - accuracy: 0.7094 - auc: 0.7829 - val_loss: 0.5602 - val_accuracy: 0.7033 - val_auc: 0.7829\n",
      "Epoch 17/100\n",
      "131/131 [==============================] - 0s 2ms/step - loss: 0.5447 - accuracy: 0.7079 - auc: 0.7988 - val_loss: 0.5493 - val_accuracy: 0.7100 - val_auc: 0.7878\n",
      "Epoch 18/100\n",
      "131/131 [==============================] - 0s 2ms/step - loss: 0.5464 - accuracy: 0.7230 - auc: 0.8020 - val_loss: 0.5833 - val_accuracy: 0.6679 - val_auc: 0.7903\n",
      "Epoch 19/100\n",
      "131/131 [==============================] - 0s 4ms/step - loss: 0.5457 - accuracy: 0.7192 - auc: 0.8010 - val_loss: 0.5346 - val_accuracy: 0.7435 - val_auc: 0.7947\n",
      "Epoch 20/100\n",
      "131/131 [==============================] - 0s 3ms/step - loss: 0.5317 - accuracy: 0.7242 - auc: 0.8120 - val_loss: 0.5162 - val_accuracy: 0.7388 - val_auc: 0.8039\n",
      "Epoch 21/100\n",
      "131/131 [==============================] - 0s 2ms/step - loss: 0.5323 - accuracy: 0.7285 - auc: 0.8128 - val_loss: 0.5172 - val_accuracy: 0.7263 - val_auc: 0.8059\n",
      "Epoch 22/100\n",
      "131/131 [==============================] - 0s 3ms/step - loss: 0.5149 - accuracy: 0.7288 - auc: 0.8223 - val_loss: 0.5322 - val_accuracy: 0.7206 - val_auc: 0.8084\n",
      "Epoch 23/100\n",
      "131/131 [==============================] - 0s 2ms/step - loss: 0.5164 - accuracy: 0.7261 - auc: 0.8243 - val_loss: 0.5135 - val_accuracy: 0.7368 - val_auc: 0.8150\n",
      "Epoch 24/100\n",
      "131/131 [==============================] - 0s 3ms/step - loss: 0.5050 - accuracy: 0.7438 - auc: 0.8331 - val_loss: 0.5208 - val_accuracy: 0.7388 - val_auc: 0.8166\n",
      "Epoch 25/100\n",
      "131/131 [==============================] - 0s 3ms/step - loss: 0.5032 - accuracy: 0.7359 - auc: 0.8352 - val_loss: 0.5019 - val_accuracy: 0.7483 - val_auc: 0.8222\n",
      "Epoch 26/100\n",
      "131/131 [==============================] - 0s 3ms/step - loss: 0.4828 - accuracy: 0.7541 - auc: 0.8504 - val_loss: 0.4716 - val_accuracy: 0.7675 - val_auc: 0.8267\n",
      "Epoch 27/100\n",
      "131/131 [==============================] - 0s 2ms/step - loss: 0.4917 - accuracy: 0.7462 - auc: 0.8439 - val_loss: 0.5229 - val_accuracy: 0.7206 - val_auc: 0.8301\n",
      "Epoch 28/100\n",
      "131/131 [==============================] - 0s 2ms/step - loss: 0.4801 - accuracy: 0.7572 - auc: 0.8516 - val_loss: 0.4891 - val_accuracy: 0.7531 - val_auc: 0.8374\n",
      "Epoch 29/100\n",
      "131/131 [==============================] - 0s 3ms/step - loss: 0.4626 - accuracy: 0.7697 - auc: 0.8624 - val_loss: 0.4785 - val_accuracy: 0.7512 - val_auc: 0.8359\n",
      "Epoch 30/100\n",
      "131/131 [==============================] - 0s 3ms/step - loss: 0.4645 - accuracy: 0.7721 - auc: 0.8640 - val_loss: 0.5005 - val_accuracy: 0.7416 - val_auc: 0.8358\n",
      "Epoch 31/100\n",
      "131/131 [==============================] - 0s 3ms/step - loss: 0.4654 - accuracy: 0.7654 - auc: 0.8617 - val_loss: 0.4542 - val_accuracy: 0.7847 - val_auc: 0.8435\n",
      "Epoch 32/100\n",
      "131/131 [==============================] - 0s 3ms/step - loss: 0.4556 - accuracy: 0.7699 - auc: 0.8668 - val_loss: 0.4746 - val_accuracy: 0.7608 - val_auc: 0.8466\n",
      "Epoch 33/100\n",
      "131/131 [==============================] - 0s 3ms/step - loss: 0.4499 - accuracy: 0.7764 - auc: 0.8718 - val_loss: 0.4984 - val_accuracy: 0.7426 - val_auc: 0.8509\n",
      "Epoch 34/100\n",
      "131/131 [==============================] - 0s 3ms/step - loss: 0.4357 - accuracy: 0.7759 - auc: 0.8802 - val_loss: 0.4482 - val_accuracy: 0.7876 - val_auc: 0.8600\n",
      "Epoch 35/100\n",
      "131/131 [==============================] - 0s 3ms/step - loss: 0.4200 - accuracy: 0.7989 - auc: 0.8901 - val_loss: 0.4321 - val_accuracy: 0.7914 - val_auc: 0.8656\n",
      "Epoch 36/100\n",
      "131/131 [==============================] - 0s 3ms/step - loss: 0.4250 - accuracy: 0.7862 - auc: 0.8842 - val_loss: 0.5004 - val_accuracy: 0.7407 - val_auc: 0.8666\n",
      "Epoch 37/100\n",
      "131/131 [==============================] - 0s 3ms/step - loss: 0.4317 - accuracy: 0.7893 - auc: 0.8829 - val_loss: 0.4635 - val_accuracy: 0.7732 - val_auc: 0.8638\n",
      "Epoch 38/100\n",
      "131/131 [==============================] - 0s 3ms/step - loss: 0.4114 - accuracy: 0.8003 - auc: 0.8936 - val_loss: 0.4751 - val_accuracy: 0.7627 - val_auc: 0.8675\n",
      "Epoch 39/100\n",
      "131/131 [==============================] - 0s 3ms/step - loss: 0.4165 - accuracy: 0.7953 - auc: 0.8944 - val_loss: 0.4434 - val_accuracy: 0.7895 - val_auc: 0.8686\n",
      "Epoch 40/100\n",
      "131/131 [==============================] - 0s 2ms/step - loss: 0.4007 - accuracy: 0.8116 - auc: 0.9013 - val_loss: 0.4021 - val_accuracy: 0.8191 - val_auc: 0.8769\n",
      "Epoch 41/100\n",
      "131/131 [==============================] - 0s 3ms/step - loss: 0.4037 - accuracy: 0.7982 - auc: 0.8974 - val_loss: 0.3994 - val_accuracy: 0.8191 - val_auc: 0.8741\n",
      "Epoch 42/100\n",
      "131/131 [==============================] - 0s 4ms/step - loss: 0.4118 - accuracy: 0.8013 - auc: 0.8952 - val_loss: 0.4194 - val_accuracy: 0.8000 - val_auc: 0.8773\n",
      "Epoch 43/100\n",
      "131/131 [==============================] - 0s 3ms/step - loss: 0.3945 - accuracy: 0.8073 - auc: 0.9025 - val_loss: 0.4239 - val_accuracy: 0.7981 - val_auc: 0.8822\n",
      "Epoch 44/100\n",
      "131/131 [==============================] - 0s 3ms/step - loss: 0.3968 - accuracy: 0.7963 - auc: 0.9026 - val_loss: 0.3727 - val_accuracy: 0.8450 - val_auc: 0.8847\n",
      "Epoch 45/100\n",
      "131/131 [==============================] - 0s 2ms/step - loss: 0.3772 - accuracy: 0.8236 - auc: 0.9128 - val_loss: 0.4080 - val_accuracy: 0.8010 - val_auc: 0.8890\n",
      "Epoch 46/100\n",
      "131/131 [==============================] - 0s 3ms/step - loss: 0.3849 - accuracy: 0.8159 - auc: 0.9090 - val_loss: 0.4202 - val_accuracy: 0.8010 - val_auc: 0.8906\n",
      "Epoch 47/100\n",
      "131/131 [==============================] - 0s 3ms/step - loss: 0.3788 - accuracy: 0.8149 - auc: 0.9122 - val_loss: 0.4117 - val_accuracy: 0.8105 - val_auc: 0.8927\n",
      "Epoch 48/100\n",
      "131/131 [==============================] - 0s 2ms/step - loss: 0.3745 - accuracy: 0.8226 - auc: 0.9141 - val_loss: 0.3895 - val_accuracy: 0.8249 - val_auc: 0.8946\n",
      "Epoch 49/100\n",
      "131/131 [==============================] - 0s 3ms/step - loss: 0.3642 - accuracy: 0.8264 - auc: 0.9179 - val_loss: 0.3791 - val_accuracy: 0.8211 - val_auc: 0.8956\n",
      "Epoch 50/100\n",
      "131/131 [==============================] - 0s 3ms/step - loss: 0.3607 - accuracy: 0.8214 - auc: 0.9190 - val_loss: 0.3958 - val_accuracy: 0.8124 - val_auc: 0.9004\n",
      "Epoch 51/100\n",
      "131/131 [==============================] - 0s 3ms/step - loss: 0.3634 - accuracy: 0.8188 - auc: 0.9184 - val_loss: 0.3910 - val_accuracy: 0.8191 - val_auc: 0.9000\n",
      "Epoch 52/100\n",
      "131/131 [==============================] - 0s 2ms/step - loss: 0.3589 - accuracy: 0.8329 - auc: 0.9212 - val_loss: 0.3916 - val_accuracy: 0.8144 - val_auc: 0.9012\n",
      "Epoch 53/100\n",
      "131/131 [==============================] - 0s 3ms/step - loss: 0.3477 - accuracy: 0.8295 - auc: 0.9252 - val_loss: 0.3779 - val_accuracy: 0.8278 - val_auc: 0.9015\n",
      "Epoch 54/100\n",
      "131/131 [==============================] - 0s 3ms/step - loss: 0.3483 - accuracy: 0.8274 - auc: 0.9252 - val_loss: 0.3760 - val_accuracy: 0.8182 - val_auc: 0.9028\n"
     ]
    }
   ],
   "source": [
    "# Early stopping callback\n",
    "early_stopping = EarlyStopping(monitor='val_loss', patience=10, restore_best_weights=True)\n",
    "\n",
    "# Train the model\n",
    "history = model.fit(\n",
    "    X_train, y_train,\n",
    "    epochs=100,\n",
    "    batch_size=32,\n",
    "    validation_split=0.2,\n",
    "    class_weight=class_weights_dict,\n",
    "    callbacks=[early_stopping],\n",
    "    verbose=1\n",
    ")"
   ]
  },
  {
   "cell_type": "code",
   "execution_count": 23,
   "metadata": {},
   "outputs": [
    {
     "name": "stdout",
     "output_type": "stream",
     "text": [
      "Classification Report:\n",
      "              precision    recall  f1-score   support\n",
      "\n",
      "           0       0.96      0.86      0.91      1050\n",
      "           1       0.60      0.86      0.71       256\n",
      "\n",
      "    accuracy                           0.86      1306\n",
      "   macro avg       0.78      0.86      0.81      1306\n",
      "weighted avg       0.89      0.86      0.87      1306\n",
      "\n",
      "Confusion Matrix:\n",
      "[[905 145]\n",
      " [ 36 220]]\n",
      "ROC-AUC Score: 0.930093005952381\n"
     ]
    }
   ],
   "source": [
    "# Make predictions on the test data\n",
    "y_pred_probs = model.predict(X_test).flatten()  # Probabilities for ROC-AUC\n",
    "y_pred = (y_pred_probs > 0.5).astype(int)  # Convert probabilities to binary output\n",
    "\n",
    "# Print classification report and confusion matrix\n",
    "print(\"Classification Report:\")\n",
    "print(classification_report(y_test, y_pred))\n",
    "\n",
    "print(\"Confusion Matrix:\")\n",
    "print(confusion_matrix(y_test, y_pred))\n",
    "\n",
    "# Calculate and print ROC-AUC score\n",
    "roc_auc = roc_auc_score(y_test, y_pred_probs)\n",
    "print(\"ROC-AUC Score:\", roc_auc)"
   ]
  },
  {
   "cell_type": "code",
   "execution_count": 24,
   "metadata": {},
   "outputs": [
    {
     "data": {
      "image/png": "[encoded data removed]",
      "text/plain": [
       "<Figure size 1500x600 with 2 Axes>"
      ]
     },
     "metadata": {},
     "output_type": "display_data"
    }
   ],
   "source": [
    "plt.figure(figsize=(15,6))\n",
    "# Plot loss\n",
    "plt.subplot(1,2,1)\n",
    "plt.plot(history.history['loss'], label='Train Loss')\n",
    "plt.plot(history.history['val_loss'], label='Validation Loss')\n",
    "plt.xlabel('Epochs')\n",
    "plt.ylabel('Loss')\n",
    "plt.legend()\n",
    "plt.title('Training and Validation Loss')\n",
    "# plt.show()\n",
    "\n",
    "# Plot AUC\n",
    "plt.subplot(1,2,2)\n",
    "plt.plot(history.history['auc'], label='Train AUC')\n",
    "plt.plot(history.history['val_auc'], label='Validation AUC')\n",
    "plt.xlabel('Epochs')\n",
    "plt.ylabel('AUC')\n",
    "plt.legend()\n",
    "plt.title('Training and Validation AUC')\n",
    "plt.show()"
   ]
  },
  {
   "cell_type": "markdown",
   "metadata": {},
   "source": [
    "#### Based on the model performance metrics, here's a quick breakdown of the results:\n",
    "\n",
    "<b>Random Forest Model:</b>\n",
    "\n",
    " - <b>Precision:</b> High for both classes.\n",
    " - <b>Recall:</b> Excellent for class 0 (non-churned) but lower for class 1 (churned).\n",
    " - <b>F1-Score:</b> Strong overall, but some room for improvement on class 1.\n",
    " - <b>ROC-AUC Score:</b> 0.997, indicating excellent discriminatory power.\n",
    " - <b>Confusion Matrix:</b> Misclassified only a few churned customers.\n",
    "\n",
    "<b>XGBoost Model:</b>\n",
    "\n",
    " - <b>Precision and Recall:</b> High precision and recall for both classes, with a slightly better balance across both classes than Random Forest.\n",
    " - <b>F1-Score:</b> High for both classes, with a more balanced score compared to Random Forest.\n",
    " - <b>ROC-AUC Score:</b> 0.994, close to Random Forest but slightly lower.\n",
    " - <b>Confusion Matrix:</b> Only a few misclassifications, with strong accuracy for churned customers.\n",
    "\n",
    "<b>Neural Network:</b>\n",
    "\n",
    " - <b>Precision and Recall:</b> Lower performance on class 1 (churned) with more misclassifications.\n",
    " - <b>F1-Score:</b> Lower, particularly for the churned class, suggesting the model isn’t as balanced.\n",
    " - <b>ROC-AUC Score:</b> 0.945, indicating good performance but not as high as the tree-based models.\n",
    "\n",
    "#### Recommendation:\n",
    "\n",
    "The <b>XGBoost Model</b> is the best choice for your final selection based on the following reasons:\n",
    "\n",
    " - <b>Balanced performance:</b> It provides high precision, recall, and F1-scores for both classes, indicating it captures churned customers well while maintaining high accuracy on non-churned customers.\n",
    " - <b>High ROC-AUC Score:</b> A score of 0.994 demonstrates strong overall predictive power.\n",
    " - <b>Interpretability and Robustness:</b> XGBoost is interpretable, and feature importance scores can help identify key drivers of churn, which is valuable for business insights.\n",
    " \n",
    "This model is ideal for deployment, as it balances accuracy, interpretability, and robustness effectively for customer churn prediction."
   ]
  }
 ],
 "metadata": {
  "kernelspec": {
   "display_name": "Deep_Learning",
   "language": "python",
   "name": "python3"
  },
  "language_info": {
   "codemirror_mode": {
    "name": "ipython",
    "version": 3
   },
   "file_extension": ".py",
   "mimetype": "text/x-python",
   "name": "python",
   "nbconvert_exporter": "python",
   "pygments_lexer": "ipython3",
   "version": "3.9.18"
  }
 },
 "nbformat": 4,
 "nbformat_minor": 2
}
