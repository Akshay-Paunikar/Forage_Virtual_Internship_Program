{
 "cells": [
  {
   "cell_type": "markdown",
   "metadata": {},
   "source": [
    "## Customer Churn Prediction Report\n",
    "\n",
    "### Overview\n",
    "\n",
    "In this project, a machine learning model was developed to predict customer churn, focusing on the likelihood of a customer leaving Lloyds Banking Group. Predicting churn enables the company to proactively identify at-risk customers and implement retention strategies to improve long-term customer loyalty.\n",
    "\n",
    "### Selected Algorithm and Rationale\n",
    "\n",
    "After evaluating various algorithms, including Random Forest, XGBoost, and Neural Network models, the <b>XGBoost algorithm</b> was selected for the following reasons:\n",
    "\n",
    " - <b>Performance:</b> XGBoost provided the highest F1-score across both churned and non-churned classes, achieving a balanced performance suitable for our imbalanced dataset.\n",
    " - <b>Interpretability:</b> XGBoost offers feature importance, enabling us to identify the most influential factors contributing to churn, which can guide targeted intervention strategies.\n",
    " - <b>Robustness and Scalability:</b> XGBoost performs well on large datasets with minimal parameter tuning, making it an efficient choice for long-term use.\n",
    "\n",
    "### Model Training and Performance Metrics\n",
    "\n",
    "The model was trained on the preprocessed data, which included techniques for handling class imbalance (using SMOTE oversampling), feature scaling, and encoding of categorical variables. A 5-fold cross-validation approach was implemented to assess model generalizability.\n",
    "\n",
    "#### Performance Metrics:\n",
    "\n",
    " - <b>Precision:</b> High precision in both churned and non-churned classes, indicating low false-positive rates.\n",
    " - <b>Recall:</b> High recall for both classes, demonstrating the model's effectiveness in identifying churned customers accurately.\n",
    " - <b>F1-score:</b> Balanced F1-score for both classes, confirming the model's reliability in handling imbalanced data.\n",
    " - <b>ROC-AUC Score:</b> The model achieved a ROC-AUC score of 0.994, showcasing strong discriminatory power in distinguishing between churned and non-churned customers.\n",
    " - <b>Confusion Matrix:</b>\n",
    "\n",
    "    - True Negatives: 1,045\n",
    "    - True Positives: 248\n",
    "    - False Positives: 5\n",
    "    - False Negatives: 8\n",
    "\n",
    "The model’s high accuracy and low rate of misclassification indicate that it is well-suited for accurately predicting churn, enabling targeted intervention.\n",
    "\n",
    "### Model Utilization and Business Implications\n",
    "\n",
    "The predictions from this model can provide actionable insights for Lloyds Banking Group to enhance customer retention by:\n",
    "\n",
    " - <b>Identifying High-Risk Customers:</b> By flagging customers with a high likelihood of churning, the model helps focus retention efforts on at-risk individuals, enabling personalized retention campaigns.\n",
    " - <b>Personalized Interventions:</b> With information on key drivers (e.g., low engagement, specific transaction types), the model can inform customized offers or service improvements tailored to customer needs.\n",
    " - <b>Resource Allocation:</b> The model enables efficient allocation of resources toward retention strategies, focusing on high-risk segments to maximize return on investment.\n",
    "\n",
    "### Suggested Areas for Improvement\n",
    "\n",
    "While the XGBoost model demonstrated strong performance, further enhancements could improve its accuracy and applicability:\n",
    "\n",
    " - <b>Additional Features:</b> Incorporating more customer interaction data or social engagement metrics could further refine the model’s predictions.\n",
    " - <b>Regular Model Updates:</b> Retraining the model periodically with new data would ensure it adapts to shifting customer behavior trends.\n",
    " - <b>Model Interpretability Tools:</b> Integrating tools like SHAP (SHapley Additive exPlanations) would provide deeper insights into feature contributions, enhancing transparency and trust among stakeholders."
   ]
  }
 ],
 "metadata": {
  "kernelspec": {
   "display_name": "Deep_Learning",
   "language": "python",
   "name": "python3"
  },
  "language_info": {
   "name": "python",
   "version": "3.9.7"
  }
 },
 "nbformat": 4,
 "nbformat_minor": 2
}
