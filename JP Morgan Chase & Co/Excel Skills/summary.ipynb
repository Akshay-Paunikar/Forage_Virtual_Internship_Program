{
 "cells": [
  {
   "cell_type": "markdown",
   "metadata": {},
   "source": [
    "### JPMorgan Chase & Co. Excel Skills Job Simulation on Forage\n",
    "\n",
    " - Acquired proficient command of Excel functionalities and data analysis techniques, including data cleansing, and manipulation, and onditional formatting techniques.\n",
    " - Acquired proficiency in automation by learning to record macros and script in Visual Basic for Applications (VBA), developing two functional macros integrated with buttons using account sales data.\n",
    " - Gained expertise in data visualization and storytelling using Excel and PowerPoint by creating impactful charts and interactive dashboards."
   ]
  },
  {
   "cell_type": "markdown",
   "metadata": {},
   "source": [
    " - While our overall sales performance has been good, it could be much better.  \n",
    " - Closing some very poorly performing accounts would free up sales and marketing resources that would be more profitably invested elsewhere.\n",
    " - Over the last five years, our strongest sales growth has shifted to the online retailer account type.\n",
    " - Investing the freed-up sales and marketing resources into our online retailer accounts would drive the most sales growth.\n",
    " - We recommend closing these underperforming accounts immediately and launching an effort to identify the highest potential online retailer accounts for increased sales and marketing investment."
   ]
  }
 ],
 "metadata": {
  "kernelspec": {
   "display_name": "Deep_Learning",
   "language": "python",
   "name": "python3"
  },
  "language_info": {
   "name": "python",
   "version": "3.9.18"
  }
 },
 "nbformat": 4,
 "nbformat_minor": 2
}
