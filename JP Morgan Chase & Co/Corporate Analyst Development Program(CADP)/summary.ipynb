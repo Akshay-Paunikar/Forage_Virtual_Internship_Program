{
 "cells": [
  {
   "cell_type": "markdown",
   "metadata": {},
   "source": [
    "### JPMorgan Chase & Co. Corporate Analyst Development Program (CADP) virtual experience program on Forage\n",
    "\n",
    " - Completed a job simulation focused on understanding the Corporate Analyst Development Program at JPMorgan Chase & Co.\n",
    " - Built a visualization dashboard using Tableau\n",
    " - Documented a business process and identified and communicated opportunities for improvement\n",
    " - Developed a PowerPoint presentation to communicate key ideas and talking points and tell a compelling story"
   ]
  },
  {
   "cell_type": "markdown",
   "metadata": {},
   "source": [
    " - Task 1: Data Analysis and Simple Visualization in Excel\n",
    " - Task 2: Data Visualization Dashboard\n",
    " - Task 3: Process Mapping and Improvement\n",
    " - Task 4: Storytelling with PowerPoint\n",
    " - Task 5: Project Update Video"
   ]
  },
  {
   "cell_type": "markdown",
   "metadata": {},
   "source": [
    " - 77% of borrowers in the dataset have loan-to-value ratios of 80 or less. \n",
    " - Annual incomes show a wide range of variation, possibly reflecting an imperfect sampling of target area mortgages when the dataset was constructed.\n",
    " - Combining LTV and annual income criteria generates 59 qualified, high income sales prospects, which is just under 12% of the total borrowers in this dataset.\n",
    " - Home values appear normally distributed with an average of about $430K. \n",
    " - There are 85 borrowers in locations with a minority population greater than 50% in the dataset, representing potential targets for community outreach and support. "
   ]
  },
  {
   "cell_type": "markdown",
   "metadata": {},
   "source": [
    "#### Process Improvement Opportunities\n",
    "\n",
    " - Manage underwriting risk differently by utilizing nontraditional sources of data: payroll companies, social media presence, property management companies, etc.\n",
    " - Use AI to review and process documents with intelligent automation\n",
    " - Reduce underwriting risk using AI / machine learning to identify risks\n",
    " - Use a mobile app to organize and manage customer interactions, so they can answer questions and see progress anytime, anywhere\n",
    " - Automate pre-qualification step\n",
    " - Receive all documents digitally\n",
    " - Interface IT systems with title and insurance company partners directly\n",
    " - Automate rate contracting and negotiation steps with standard packages and pre-defined alternatives, up-sells and cross-sells."
   ]
  }
 ],
 "metadata": {
  "kernelspec": {
   "display_name": "Deep_Learning",
   "language": "python",
   "name": "python3"
  },
  "language_info": {
   "name": "python",
   "version": "3.9.18"
  }
 },
 "nbformat": 4,
 "nbformat_minor": 2
}
