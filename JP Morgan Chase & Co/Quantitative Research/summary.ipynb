{
 "cells": [
  {
   "cell_type": "markdown",
   "metadata": {},
   "source": [
    "### JPMorgan Chase & Co. Quantitative Research Virtual Experience Program on Forage\n",
    "\n",
    " - Completed a simulation focused on quantitative research methods \n",
    " - Analyzed a book of loans to estimate a customer's probability of default\n",
    " - Used dynamic programming to convert FICO scores into categorical data to predict defaults"
   ]
  },
  {
   "cell_type": "markdown",
   "metadata": {},
   "source": [
    " - Task 1: Investigate and analyze price data\n",
    " - Task 2: Price a commodity storage contract\n",
    " - Task 3: Credit risk analysis\n",
    " - Task 4: Bucket FICO scores"
   ]
  }
 ],
 "metadata": {
  "language_info": {
   "name": "python"
  }
 },
 "nbformat": 4,
 "nbformat_minor": 2
}
