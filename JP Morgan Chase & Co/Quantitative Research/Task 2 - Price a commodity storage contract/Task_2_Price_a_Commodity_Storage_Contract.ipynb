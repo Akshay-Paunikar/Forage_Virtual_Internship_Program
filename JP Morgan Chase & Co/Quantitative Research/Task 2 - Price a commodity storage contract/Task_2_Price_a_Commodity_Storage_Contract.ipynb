{
 "cells": [
  {
   "cell_type": "code",
   "execution_count": 1,
   "metadata": {},
   "outputs": [],
   "source": [
    "import numpy as np"
   ]
  },
  {
   "cell_type": "code",
   "execution_count": 6,
   "metadata": {},
   "outputs": [],
   "source": [
    "# all the prices mentioned will be for 1 MMBtu and based on the volume of gas\n",
    "\n",
    "def predict_nat_gas_price(\n",
    "    injection_date:int,\n",
    "    withdrawl_date:int,\n",
    "    purchase_price:int,\n",
    "    rate_of_injection:int,\n",
    "    max_volume_stored:int,\n",
    "    storage_cost:int\n",
    "):\n",
    "    nat_gas_volume = int(input())\n",
    "    purchase_price = purchase_price * nat_gas_volume\n",
    "    rate_of_injection = rate_of_injection * nat_gas_volume\n",
    "    max_volume_stored = max_volume_stored * nat_gas_volume\n",
    "    storage_cost = storage_cost * nat_gas_volume\n",
    "    if injection_date <= 180 and withdrawl_date<=180:\n",
    "        selling_price = purchase_price*1.5\n",
    "    else:\n",
    "        selling_price = purchase_price*2\n",
    "    value_of_contract = selling_price - purchase_price - rate_of_injection - max_volume_stored - storage_cost\n",
    "    return value_of_contract \n",
    "    "
   ]
  },
  {
   "cell_type": "markdown",
   "metadata": {},
   "source": [
    "Now we will use following data as input to our function(all in $):\n",
    "\n",
    " - injection_date=200 \n",
    " - withdrawl_date=250 \n",
    " - purchase_price=10 \n",
    " - rate_of_injection=0.01 \n",
    " - max_volume_stored=1 \n",
    " - storage_cost=1.5\n",
    " - nat_gas_volume = 1000000"
   ]
  },
  {
   "cell_type": "code",
   "execution_count": 7,
   "metadata": {},
   "outputs": [
    {
     "data": {
      "text/plain": [
       "7490000.0"
      ]
     },
     "execution_count": 7,
     "metadata": {},
     "output_type": "execute_result"
    }
   ],
   "source": [
    "predict_nat_gas_price(injection_date=200, withdrawl_date=250, purchase_price=10, rate_of_injection=0.01, max_volume_stored=1, storage_cost=1.5)"
   ]
  },
  {
   "cell_type": "markdown",
   "metadata": {},
   "source": [
    "As you can see that if we purchased 1000000 MMBtu of natural gas at the purchase price of 10$ per MMBtu then our value of contract after all the deductions is 7490000 i.e. 7.49 million $ if we sell that after roughly 6-8 months of storage."
   ]
  },
  {
   "cell_type": "markdown",
   "metadata": {},
   "source": [
    "Now we will use following data as input to our function(all in $):\n",
    "\n",
    " - injection_date=15 \n",
    " - withdrawl_date=50 \n",
    " - purchase_price=10 \n",
    " - rate_of_injection=0.01 \n",
    " - max_volume_stored=1 \n",
    " - storage_cost=1.5\n",
    " - nat_gas_volume = 1000000"
   ]
  },
  {
   "cell_type": "code",
   "execution_count": 8,
   "metadata": {},
   "outputs": [
    {
     "data": {
      "text/plain": [
       "2490000.0"
      ]
     },
     "execution_count": 8,
     "metadata": {},
     "output_type": "execute_result"
    }
   ],
   "source": [
    "predict_nat_gas_price(injection_date=15, withdrawl_date=50, purchase_price=10, rate_of_injection=0.01, max_volume_stored=1, storage_cost=1.5)"
   ]
  },
  {
   "cell_type": "markdown",
   "metadata": {},
   "source": [
    "As you can see that if we purchased 1000000 MMBtu of natural gas at the purchase price of 10$ per MMBtu then our value of contract after all the deductions is 2490000 i.e. 2.49 million $ if we sell that within 2-3 months of storage."
   ]
  },
  {
   "cell_type": "markdown",
   "metadata": {},
   "source": []
  }
 ],
 "metadata": {
  "kernelspec": {
   "display_name": "Deep_Learning",
   "language": "python",
   "name": "python3"
  },
  "language_info": {
   "codemirror_mode": {
    "name": "ipython",
    "version": 3
   },
   "file_extension": ".py",
   "mimetype": "text/x-python",
   "name": "python",
   "nbconvert_exporter": "python",
   "pygments_lexer": "ipython3",
   "version": "3.9.17"
  },
  "orig_nbformat": 4
 },
 "nbformat": 4,
 "nbformat_minor": 2
}
