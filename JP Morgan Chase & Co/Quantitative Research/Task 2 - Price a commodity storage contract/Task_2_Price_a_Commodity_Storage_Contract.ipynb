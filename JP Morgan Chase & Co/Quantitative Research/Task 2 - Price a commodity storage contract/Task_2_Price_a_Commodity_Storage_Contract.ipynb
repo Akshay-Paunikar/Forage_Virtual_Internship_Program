{
 "cells": [
  {
   "cell_type": "code",
   "execution_count": 1,
   "metadata": {},
   "outputs": [],
   "source": [
    "import numpy as np"
   ]
  },
  {
   "cell_type": "code",
   "execution_count": 6,
   "metadata": {},
   "outputs": [],
   "source": [
    "# all the prices mentioned will be for 1 MMBtu and based on the volume of gas\n",
    "\n",
    "def predict_nat_gas_price(\n",
    "    injection_date:int,\n",
    "    withdrawl_date:int,\n",
    "    purchase_price:int,\n",
    "    rate_of_injection:int,\n",
    "    max_volume_stored:int,\n",
    "    storage_cost:int\n",
    "):\n",
    "    nat_gas_volume = int(input())\n",
    "    purchase_price = purchase_price * nat_gas_volume\n",
    "    rate_of_injection = rate_of_injection * nat_gas_volume\n",
    "    max_volume_stored = max_volume_stored * nat_gas_volume\n",
    "    storage_cost = storage_cost * nat_gas_volume\n",
    "    if injection_date <= 180 and withdrawl_date<=180:\n",
    "        selling_price = purchase_price*1.5\n",
    "    else:\n",
    "        selling_price = purchase_price*2\n",
    "    value_of_contract = selling_price - purchase_price - rate_of_injection - max_volume_stored - storage_cost\n",
    "    return value_of_contract \n",
    "    "
   ]
  },
  {
   "cell_type": "markdown",
   "metadata": {},
   "source": [
    "Now we will use following data as input to our function(all in $):\n",
    "\n",
    " - injection_date=200 \n",
    " - withdrawl_date=250 \n",
    " - purchase_price=10 \n",
    " - rate_of_injection=0.01 \n",
    " - max_volume_stored=1 \n",
    " - storage_cost=1.5\n",
    " - nat_gas_volume = 1000000"
   ]
  },
  {
   "cell_type": "code",
   "execution_count": 7,
   "metadata": {},
   "outputs": [
    {
     "data": {
      "text/plain": [
       "7490000.0"
      ]
     },
     "execution_count": 7,
     "metadata": {},
     "output_type": "execute_result"
    }
   ],
   "source": [
    "predict_nat_gas_price(injection_date=200, withdrawl_date=250, purchase_price=10, rate_of_injection=0.01, max_volume_stored=1, storage_cost=1.5)"
   ]
  },
  {
   "cell_type": "markdown",
   "metadata": {},
   "source": [
    "As you can see that if we purchased 1000000 MMBtu of natural gas at the purchase price of 10$ per MMBtu then our value of contract after all the deductions is 7490000 i.e. 7.49 million $ if we sell that after roughly 6-8 months of storage."
   ]
  },
  {
   "cell_type": "markdown",
   "metadata": {},
   "source": [
    "Now we will use following data as input to our function(all in $):\n",
    "\n",
    " - injection_date=15 \n",
    " - withdrawl_date=50 \n",
    " - purchase_price=10 \n",
    " - rate_of_injection=0.01 \n",
    " - max_volume_stored=1 \n",
    " - storage_cost=1.5\n",
    " - nat_gas_volume = 1000000"
   ]
  },
  {
   "cell_type": "code",
   "execution_count": 8,
   "metadata": {},
   "outputs": [
    {
     "data": {
      "text/plain": [
       "2490000.0"
      ]
     },
     "execution_count": 8,
     "metadata": {},
     "output_type": "execute_result"
    }
   ],
   "source": [
    "predict_nat_gas_price(injection_date=15, withdrawl_date=50, purchase_price=10, rate_of_injection=0.01, max_volume_stored=1, storage_cost=1.5)"
   ]
  },
  {
   "cell_type": "markdown",
   "metadata": {},
   "source": [
    "As you can see that if we purchased 1000000 MMBtu of natural gas at the purchase price of 10$ per MMBtu then our value of contract after all the deductions is 2490000 i.e. 2.49 million $ if we sell that within 2-3 months of storage."
   ]
  },
  {
   "cell_type": "markdown",
   "metadata": {},
   "source": [
    "### Example Answer:"
   ]
  },
  {
   "cell_type": "code",
   "execution_count": 1,
   "metadata": {},
   "outputs": [],
   "source": [
    "from datetime import date\n",
    "import math"
   ]
  },
  {
   "cell_type": "code",
   "execution_count": 3,
   "metadata": {},
   "outputs": [],
   "source": [
    "def price_contract(in_dates, in_prices, out_dates, out_prices, rate, storage_cost_rate, total_vol, injection_withdrawal_cost_rate):\n",
    "    volume = 0\n",
    "    buy_cost = 0\n",
    "    cash_in = 0\n",
    "    last_date = min(min(in_dates), min(out_dates))\n",
    "    \n",
    "    # Ensure dates are in sequence\n",
    "    all_dates = sorted(set(in_dates + out_dates))\n",
    "    \n",
    "    for i in range(len(all_dates)):\n",
    "        # processing code for each date\n",
    "        start_date = all_dates[i]\n",
    "\n",
    "        if start_date in in_dates:\n",
    "            # Inject on these dates and sum up cash flows\n",
    "            if volume <= total_vol - rate:\n",
    "                volume += rate\n",
    "\n",
    "                # Cost to purchase gas\n",
    "                buy_cost += rate * in_prices[in_dates.index(start_date)]\n",
    "                # Injection cost\n",
    "                injection_cost = rate * injection_withdrawal_cost_rate\n",
    "                buy_cost += injection_cost\n",
    "                print('Injected gas on %s at a price of %s'%(start_date, in_prices[in_dates.index(start_date)]))\n",
    "\n",
    "            else:\n",
    "                # We do not want to inject when rate is greater than total volume minus volume\n",
    "                print('Injection is not possible on date %s as there is insufficient space in the storage facility'%start_date)\n",
    "        elif start_date in out_dates:\n",
    "            #Withdraw on these dates and sum cash flows\n",
    "            if volume >= rate:\n",
    "                volume -= rate\n",
    "                cash_in += rate * out_prices[out_dates.index(start_date)]\n",
    "                # Withdrawal cost\n",
    "                withdrawal_cost = rate * injection_withdrawal_cost_rate\n",
    "                cash_in -= withdrawal_cost\n",
    "                print('Extracted gas on %s at a price of %s'%(start_date, out_prices[out_dates.index(start_date)]))\n",
    "            else:\n",
    "                # we cannot withdraw more gas than is actually stored\n",
    "                print('Extraction is not possible on date %s as there is insufficient volume of gas stored'%start_date)\n",
    "                \n",
    "    store_cost = math.ceil((max(out_dates) - min(in_dates)).days // 30) * storage_cost_rate\n",
    "    return cash_in - store_cost - buy_cost"
   ]
  },
  {
   "cell_type": "code",
   "execution_count": 4,
   "metadata": {},
   "outputs": [
    {
     "name": "stdout",
     "output_type": "stream",
     "text": [
      "Injected gas on 2022-01-01 at a price of 20\n",
      "Extracted gas on 2022-01-27 at a price of 23\n",
      "Injected gas on 2022-02-01 at a price of 21\n",
      "Extracted gas on 2022-02-15 at a price of 19\n",
      "Injected gas on 2022-02-21 at a price of 20.5\n",
      "Extracted gas on 2022-03-20 at a price of 21\n",
      "Injected gas on 2022-04-01 at a price of 22\n",
      "Extracted gas on 2022-06-01 at a price of 25\n",
      "\n",
      "The value of the contract is: $399600.0\n"
     ]
    }
   ],
   "source": [
    "# Example usage of price_contract()\n",
    "in_dates = [date(2022, 1, 1), date(2022, 2, 1), date(2022, 2, 21), date(2022, 4, 1)] #injection dates\n",
    "in_prices = [20, 21, 20.5, 22]#prices on the injection days\n",
    "out_dates = [date(2022, 1, 27), date(2022, 2, 15), date(2022, 3, 20), date(2022, 6, 1)] # extraction dates\n",
    "out_prices = [23, 19, 21, 25] # prices on the extraction days\n",
    "rate = 100000  # rate of gas in cubic feet per day\n",
    "storage_cost_rate = 10000  # total volume in cubic feet\n",
    "injection_withdrawal_cost_rate = 0.0005  # $/cf\n",
    "max_storage_volume = 500000 # maximum storage capacity of the storage facility\n",
    "result = price_contract(in_dates, in_prices, out_dates, out_prices, rate, storage_cost_rate, max_storage_volume, injection_withdrawal_cost_rate)\n",
    "print()\n",
    "print(f\"The value of the contract is: ${result}\")"
   ]
  },
  {
   "cell_type": "code",
   "execution_count": null,
   "metadata": {},
   "outputs": [],
   "source": []
  }
 ],
 "metadata": {
  "kernelspec": {
   "display_name": "Deep_Learning",
   "language": "python",
   "name": "python3"
  },
  "language_info": {
   "codemirror_mode": {
    "name": "ipython",
    "version": 3
   },
   "file_extension": ".py",
   "mimetype": "text/x-python",
   "name": "python",
   "nbconvert_exporter": "python",
   "pygments_lexer": "ipython3",
   "version": "3.9.17"
  },
  "orig_nbformat": 4
 },
 "nbformat": 4,
 "nbformat_minor": 2
}
