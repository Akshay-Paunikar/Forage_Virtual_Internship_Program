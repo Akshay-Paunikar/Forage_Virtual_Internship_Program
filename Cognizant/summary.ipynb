{
 "cells": [
  {
   "cell_type": "markdown",
   "metadata": {},
   "source": [
    "### Cognizant Artificial Intelligence Job Simulation on Forage\n",
    "\n",
    " - Completed a job simulation focused on AI for Cognizant’s Data Science team.\n",
    " - Conducted exploratory data analysis using Python and Google Colab for one of Cognizant’s technology-led clients, Gala Groceries.\n",
    " - Prepare a Python module that contains code to train a model and output the performance metrics for the Machine Learning engineering team.\n",
    " - Communicated findings and analysis in the form of a PowerPoint slide to present the results back to the business."
   ]
  },
  {
   "cell_type": "markdown",
   "metadata": {},
   "source": [
    " - Client: Gala Groceries - technology-led grocery store chain based in the USA\n",
    " - Gala Groceries approached Cognizant to help them with a supply chain issue. Groceries are highly perishable items. If you overstock, you are wasting money on excessive storage and waste, but if you understock, then you risk losing customers. They want to know how to better stock the items that they sell.\n",
    " - Task 1: Exploratory Data Analysis\n",
    " - Task 2: Data Modeling\n",
    " - Task 3: Model Building and Interpretation\n",
    " - Task 4: Machine Learning Production\n",
    " - Task 5: Quality Assurance"
   ]
  },
  {
   "cell_type": "markdown",
   "metadata": {},
   "source": [
    " - Fruit & vegetables are the 2 most frequently bought product categories \n",
    " - Non-members are the most frequent buyers within the store \n",
    " - Cash is the most frequently used payment method \n",
    " - 11am is the busiest hour with regards to number of transactions\n",
    " - The important features to predict the stock levels are: unit_price, temperature, hour, quantity, date, day."
   ]
  }
 ],
 "metadata": {
  "language_info": {
   "name": "python"
  }
 },
 "nbformat": 4,
 "nbformat_minor": 2
}
