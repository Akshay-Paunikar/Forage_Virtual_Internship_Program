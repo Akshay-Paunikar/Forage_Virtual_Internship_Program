{
 "cells": [
  {
   "cell_type": "markdown",
   "metadata": {},
   "source": [
    "### Accenture North America Data Analytics and Visualization\n",
    "\n",
    " - Completed a simulation focused on advising a hypothetical social media client as a Data Analyst at Accenture\n",
    " - Cleaned, modelled and analyzed 7 datasets to uncover insights into content trends to inform strategic decisions\n",
    " - Prepared a PowerPoint deck and video presentation to communicate key insights for the client and internal stakeholders"
   ]
  },
  {
   "cell_type": "markdown",
   "metadata": {},
   "source": [
    " - Client Name: Social Buzz\n",
    " - Client industry: Social media & content creation\n",
    " - Role: Data Analyst\n",
    " - Social Buzz emphasizes content by keeping all users anonymous, only tracking user reactions on every piece of content. There are over 100 ways that users can react to content, spanning beyond the traditional reactions of likes, dislikes, and comments. This ensures that trending content, as opposed to individual users, is at the forefront of user feeds.\n",
    " - The client has reached a massive scale within recent years and does not have the resources internally to handle it.\n",
    " - Audit of big data practice, recommendations for IPO, analysis of popular content.\n",
    " - Analysis of sample data sets with visualizations to understand the popularity of different content categories\n",
    " - Reaction, Content, Reaction Types\n",
    " - Create a final data set by merging your three tables together\n",
    " - Figure out the Top 5 performing categories\n",
    " - 'Technology', 'Animals', 'Travel', 'Science', 'Culture'"
   ]
  }
 ],
 "metadata": {
  "language_info": {
   "name": "python"
  }
 },
 "nbformat": 4,
 "nbformat_minor": 2
}
