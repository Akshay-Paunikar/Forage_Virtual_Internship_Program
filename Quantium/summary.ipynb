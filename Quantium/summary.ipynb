{
 "cells": [
  {
   "cell_type": "markdown",
   "metadata": {},
   "source": [
    "### Quantium Data Analytics Job Simulation on Forage\n",
    "\n",
    " - Completed a job simulation focused on Data Analytics and Commercial Insights for the data science team.\n",
    " - Developed expertise in data preparation and customer analytics, utilizing transaction datasets to extract valuable insights and deliver data-driven commercial recommendations.\n",
    " - Extended analytical capabilities to identify benchmark stores for conducting uplift testing on trial store layouts, enabling evidence-based decision-making.\n",
    " - Leveraged acquired data analytics and insights from previous tasks to create comprehensive reports for the Category Manager, facilitating informed strategic decisions and enhancing commercial applications."
   ]
  },
  {
   "cell_type": "markdown",
   "metadata": {},
   "source": [
    "- Client: Category Manager - Chips Company\n",
    "- Task 1: Data preparation and customer analytics\n",
    "- Task 2: Experimentation and uplift testing\n",
    "- Task 3: Analytics and commercial application"
   ]
  },
  {
   "cell_type": "markdown",
   "metadata": {},
   "source": [
    " - Chips Category Review:\n",
    "    - The number of chips transactions dramatically increases prior to Christmas. Thus, added visibility to customers via a promotional display or Gondola end would increase purchases driving sales growth over this holiday period. \n",
    "    - Mainstream Young Singles & Couples are the primary shopper of chips. \n",
    "    - Young and Older Families make up 26% of Chips shoppes and on average purchase larger baskets. There is more opportunity for sales with these shoppers.\n",
    "\n",
    " - Trial Store Analysis:\n",
    "    - A control store was constructed to reflect the prior performance of the selected trial store. \n",
    "    - After implementing the new store layout the performance of the trial store and the control store were compared. The trial store saw significant uplift from the new store layout. "
   ]
  }
 ],
 "metadata": {
  "language_info": {
   "name": "python"
  }
 },
 "nbformat": 4,
 "nbformat_minor": 2
}
