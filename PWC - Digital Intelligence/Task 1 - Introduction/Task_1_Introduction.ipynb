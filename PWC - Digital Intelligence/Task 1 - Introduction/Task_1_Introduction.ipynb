{
 "cells": [
  {
   "cell_type": "markdown",
   "metadata": {},
   "source": [
    "I  hope to learn and grow skills related to data science and analytics like data analysis, data strategy, model training and tuning, deep dive into customer analytics to find pattern and potential areas for growth and as this specific program is divided into following areas: Evaluate AI algorithm, Valuation of a portfolio, Data strategy development, handle large healthcare datasets, Evaluate insurance risks using predictive and statistical modelling."
   ]
  }
 ],
 "metadata": {
  "kernelspec": {
   "display_name": "Deep_Learning",
   "language": "python",
   "name": "python3"
  },
  "language_info": {
   "name": "python",
   "version": "3.9.17"
  }
 },
 "nbformat": 4,
 "nbformat_minor": 2
}
