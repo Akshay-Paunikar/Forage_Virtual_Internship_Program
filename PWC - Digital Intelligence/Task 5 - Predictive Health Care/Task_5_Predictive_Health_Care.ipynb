{
 "cells": [
  {
   "cell_type": "markdown",
   "metadata": {},
   "source": [
    "<h3>Task 5 - Predictive Health Care</h3>\n",
    "Comparing adverse effects of pain medicaments\n",
    "\n",
    "<h3>Task Overview</h3>\n",
    "\n",
    "<b>What you'll learn</b>\n",
    " - How to analyze adverse drug effects using provided data.\n",
    "\n",
    "<b>What you'll do</b>\n",
    " - Analyze 2019 FAERS data to find the top 10 Tramal adverse effects.\n",
    " - Compare Tramal and Lyrica's adverse effects.\n",
    " - Suggest further investigations based on dataset findings."
   ]
  },
  {
   "cell_type": "code",
<<<<<<< HEAD
   "execution_count": 1,
=======
   "execution_count": 64,
>>>>>>> d80faa3 (updated)
   "metadata": {},
   "outputs": [],
   "source": [
    "# import required libraries\n",
    "import numpy as np\n",
    "import pandas as pd\n",
    "import matplotlib.pyplot as plt\n",
    "%matplotlib inline\n",
    "import seaborn as sns"
   ]
  },
  {
   "cell_type": "code",
<<<<<<< HEAD
   "execution_count": null,
   "metadata": {},
   "outputs": [],
   "source": []
=======
   "execution_count": 65,
   "metadata": {},
   "outputs": [],
   "source": [
    "# import the datasets (Quarter 1)\n",
    "DEMO19Q1 = pd.read_csv(\"E:\\Forage_Virtual_Internship_Program\\PWC - Digital Intelligence\\Task 5 - Predictive Health Care\\Dataset\\Q1\\DEMO19Q1.txt\", delimiter=\"$\", low_memory=False)\n",
    "DRUG19Q1 = pd.read_csv(\"E:\\Forage_Virtual_Internship_Program\\PWC - Digital Intelligence\\Task 5 - Predictive Health Care\\Dataset\\Q1\\DRUG19Q1.txt\", delimiter=\"$\", low_memory=False)\n",
    "REAC19Q1 = pd.read_csv(\"E:\\Forage_Virtual_Internship_Program\\PWC - Digital Intelligence\\Task 5 - Predictive Health Care\\Dataset\\Q1\\REAC19Q1.txt\", delimiter=\"$\", low_memory=False)"
   ]
  },
  {
   "cell_type": "code",
   "execution_count": 66,
   "metadata": {},
   "outputs": [
    {
     "data": {
      "text/plain": [
       "(226536, 4)"
      ]
     },
     "execution_count": 66,
     "metadata": {},
     "output_type": "execute_result"
    }
   ],
   "source": [
    "DEMO19Q1 = DEMO19Q1[[\"primaryid\", \"caseid\", \"age\", \"sex\"]]\n",
    "DRUG19Q1 = DRUG19Q1[[\"primaryid\", \"caseid\", \"drugname\"]]\n",
    "REAC19Q1 = REAC19Q1.drop([\"drug_rec_act\"], axis=1)"
   ]
  },
  {
   "cell_type": "code",
   "execution_count": 72,
   "metadata": {},
   "outputs": [
    {
     "data": {
      "text/plain": [
       "(885924, 5)"
      ]
     },
     "execution_count": 72,
     "metadata": {},
     "output_type": "execute_result"
    }
   ],
   "source": [
    "Quarter1 = pd.merge(left=DEMO19Q1, right=DRUG19Q1, how=\"inner\", on=[\"primaryid\", \"caseid\"])\n",
    "Quarter1.shape"
   ]
  },
  {
   "cell_type": "code",
   "execution_count": 73,
   "metadata": {},
   "outputs": [
    {
     "data": {
      "text/plain": [
       "(4407726, 6)"
      ]
     },
     "execution_count": 73,
     "metadata": {},
     "output_type": "execute_result"
    }
   ],
   "source": [
    "QUARTER1 = pd.merge(left=Quarter1, right=REAC19Q1, how=\"inner\", on=[\"primaryid\", \"caseid\"])\n",
    "QUARTER1.shape"
   ]
>>>>>>> d80faa3 (updated)
  }
 ],
 "metadata": {
  "kernelspec": {
   "display_name": "Deep_Learning",
   "language": "python",
   "name": "python3"
  },
  "language_info": {
   "codemirror_mode": {
    "name": "ipython",
    "version": 3
   },
   "file_extension": ".py",
   "mimetype": "text/x-python",
   "name": "python",
   "nbconvert_exporter": "python",
   "pygments_lexer": "ipython3",
   "version": "3.9.18"
  }
 },
 "nbformat": 4,
 "nbformat_minor": 2
}
