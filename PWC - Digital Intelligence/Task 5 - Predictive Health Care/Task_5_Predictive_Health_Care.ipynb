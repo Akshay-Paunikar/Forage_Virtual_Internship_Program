{
 "cells": [
  {
   "cell_type": "markdown",
   "metadata": {},
   "source": [
    "<h3>Task 5 - Predictive Health Care</h3>\n",
    "Comparing adverse effects of pain medicaments\n",
    "\n",
    "<h3>Task Overview</h3>\n",
    "\n",
    "<b>What you'll learn</b>\n",
    " - How to analyze adverse drug effects using provided data.\n",
    "\n",
    "<b>What you'll do</b>\n",
    " - Analyze 2019 FAERS data to find the top 10 Tramal adverse effects.\n",
    " - Compare Tramal and Lyrica's adverse effects.\n",
    " - Suggest further investigations based on dataset findings.\n",
    "\n",
    "<h3>Here is your task:</h3>\n",
    "\n",
    "<b>Jakob asks you to create a PowerPoint slide deck while tackling the following steps. Use screenshots and diagrams to illustrate your findings as well.</b>\n",
    "\n",
    "<b>Step 1</b>\n",
    "\n",
    "Create a descriptive overview of adverse effects of tramal based on the available FAERS datasets, which you’ll find in your resource section. For your analysis, only use the FAERS data from the year 2019.\n",
    "\n",
    "Show the 10 most common adverse effects as they are reported in the FAERS database. Jakob loves bar plots, so would be great if you use one.\n",
    "\n",
    "<b>Step 2</b>\n",
    "\n",
    "Compare tramal to another medication called lyrica that is also commonly used to treat neurological pain. Are the adverse effects similar?\n",
    "\n",
    "Use Rscript to solve the task and make sure using it in your presentation.\n",
    "\n",
    "</b>Step 3</b>\n",
    "\n",
    "Define what further investigations might be helpful in determining whether a certain drug might be more preferable over another drug. Base your solution on the results of your dataset work."
   ]
  },
  {
   "cell_type": "code",
   "execution_count": 119,
   "metadata": {},
   "outputs": [],
   "source": [
    "# import required libraries\n",
    "import numpy as np\n",
    "import pandas as pd\n",
    "import matplotlib.pyplot as plt\n",
    "%matplotlib inline\n",
    "import seaborn as sns"
   ]
  },
  {
   "cell_type": "code",
   "execution_count": 120,
   "metadata": {},
   "outputs": [],
   "source": [
    "# read the dataset (Quarter 1)\n",
    "DEMO19Q1 = pd.read_csv(\"E:\\iNeuron\\Dataset\\Q1\\DEMO19Q1.txt\", delimiter=\"$\", low_memory=False)\n",
    "DRUG19Q1 = pd.read_csv(\"E:\\iNeuron\\Dataset\\Q1\\DRUG19Q1.txt\", delimiter=\"$\", low_memory=False)\n",
    "REAC19Q1 = pd.read_csv(\"E:\\iNeuron\\Dataset\\Q1\\REAC19Q1.txt\", delimiter=\"$\", low_memory=False)"
   ]
  },
  {
   "cell_type": "code",
   "execution_count": 121,
   "metadata": {},
   "outputs": [],
   "source": [
    "# select columns necessary for our analysis\n",
    "DEMO19Q1 = DEMO19Q1[[\"primaryid\", \"caseid\", \"age\", \"sex\"]]\n",
    "DRUG19Q1 = DRUG19Q1[[\"primaryid\", \"caseid\", \"drugname\"]]\n",
    "REAC19Q1 = REAC19Q1[[\"primaryid\", \"caseid\", \"pt\"]]"
   ]
  },
  {
   "cell_type": "code",
   "execution_count": 122,
   "metadata": {},
   "outputs": [],
   "source": [
    "# create a function to clean the data\n",
    "def primary_clean(data):\n",
    "    data = data.drop_duplicates()\n",
    "    data = data.dropna()\n",
    "    print(data.shape)\n",
    "    print(data.isnull().sum())\n",
    "    print(data.duplicated().sum())\n",
    "    return data"
   ]
  },
  {
   "cell_type": "code",
   "execution_count": 123,
   "metadata": {},
   "outputs": [
    {
     "name": "stdout",
     "output_type": "stream",
     "text": [
      "(226536, 4)\n",
      "primaryid    0\n",
      "caseid       0\n",
      "age          0\n",
      "sex          0\n",
      "dtype: int64\n",
      "0\n"
     ]
    }
   ],
   "source": [
    "# clean each dataset\n",
    "DEMO19Q1 = primary_clean(DEMO19Q1)"
   ]
  },
  {
   "cell_type": "code",
   "execution_count": 124,
   "metadata": {},
   "outputs": [
    {
     "name": "stdout",
     "output_type": "stream",
     "text": [
      "(1381706, 3)\n",
      "primaryid    0\n",
      "caseid       0\n",
      "drugname     0\n",
      "dtype: int64\n",
      "0\n"
     ]
    }
   ],
   "source": [
    "# clean each dataset\n",
    "DRUG19Q1 = primary_clean(DRUG19Q1)"
   ]
  },
  {
   "cell_type": "code",
   "execution_count": 125,
   "metadata": {},
   "outputs": [
    {
     "name": "stdout",
     "output_type": "stream",
     "text": [
      "(1303521, 3)\n",
      "primaryid    0\n",
      "caseid       0\n",
      "pt           0\n",
      "dtype: int64\n",
      "0\n"
     ]
    }
   ],
   "source": [
    "# clean each dataset\n",
    "REAC19Q1 = primary_clean(REAC19Q1)"
   ]
  },
  {
   "cell_type": "code",
   "execution_count": 126,
   "metadata": {},
   "outputs": [],
   "source": [
    "# create a function to merge and clean dataset\n",
    "def merge_data(data1, data2, data3):\n",
    "    data = pd.merge(left=data1, right=data2, how=\"inner\", on=[\"primaryid\", \"caseid\"])\n",
    "    final = pd.merge(left=data, right=data3, how=\"inner\", on=[\"primaryid\", \"caseid\"])\n",
    "    final = final.drop_duplicates()\n",
    "    final = final.dropna()\n",
    "    print(final.shape)\n",
    "    print(final.isnull().sum())\n",
    "    print(final.duplicated().sum())\n",
    "    final[\"drugname\"] = final[\"drugname\"].replace(to_replace=\"GABAPENTIN.\", value=\"GABAPENTIN\")\n",
    "    final = final[(final['drugname']==\"GABAPENTIN\") | (final['drugname']==\"LYRICA\") | (final['drugname']==\"TRAMAL\")]\n",
    "    final = final.reset_index(drop=\"index\")\n",
    "    print(final.shape)\n",
    "    return final"
   ]
  },
  {
   "cell_type": "code",
   "execution_count": 127,
   "metadata": {},
   "outputs": [
    {
     "name": "stdout",
     "output_type": "stream",
     "text": [
      "(4407726, 6)\n",
      "primaryid    0\n",
      "caseid       0\n",
      "age          0\n",
      "sex          0\n",
      "drugname     0\n",
      "pt           0\n",
      "dtype: int64\n",
      "0\n",
      "(50134, 6)\n"
     ]
    }
   ],
   "source": [
    "# merge and clean\n",
    "Quarter1 = merge_data(DEMO19Q1, DRUG19Q1, REAC19Q1)"
   ]
  },
  {
   "cell_type": "code",
   "execution_count": 128,
   "metadata": {},
   "outputs": [],
   "source": [
    "# read the dataset (Quarter 2)\n",
    "DEMO19Q2 = pd.read_csv(\"E:\\iNeuron\\Dataset\\Q2\\DEMO19Q2.txt\", delimiter=\"$\", low_memory=False)\n",
    "DRUG19Q2 = pd.read_csv(\"E:\\iNeuron\\Dataset\\Q2\\DRUG19Q2.txt\", delimiter=\"$\", low_memory=False)\n",
    "REAC19Q2 = pd.read_csv(\"E:\\iNeuron\\Dataset\\Q2\\REAC19Q2.txt\", delimiter=\"$\", low_memory=False)"
   ]
  },
  {
   "cell_type": "code",
   "execution_count": 129,
   "metadata": {},
   "outputs": [],
   "source": [
    "# select columns necessary for our analysis\n",
    "DEMO19Q2 = DEMO19Q2[[\"primaryid\", \"caseid\", \"age\", \"sex\"]]\n",
    "DRUG19Q2 = DRUG19Q2[[\"primaryid\", \"caseid\", \"drugname\"]]\n",
    "REAC19Q2 = REAC19Q2[[\"primaryid\", \"caseid\", \"pt\"]]"
   ]
  },
  {
   "cell_type": "code",
   "execution_count": 130,
   "metadata": {},
   "outputs": [
    {
     "name": "stdout",
     "output_type": "stream",
     "text": [
      "(241381, 4)\n",
      "primaryid    0\n",
      "caseid       0\n",
      "age          0\n",
      "sex          0\n",
      "dtype: int64\n",
      "0\n"
     ]
    }
   ],
   "source": [
    "# clean each dataset\n",
    "DEMO19Q2 = primary_clean(DEMO19Q2)"
   ]
  },
  {
   "cell_type": "code",
   "execution_count": 131,
   "metadata": {},
   "outputs": [
    {
     "name": "stdout",
     "output_type": "stream",
     "text": [
      "(1551080, 3)\n",
      "primaryid    0\n",
      "caseid       0\n",
      "drugname     0\n",
      "dtype: int64\n",
      "0\n"
     ]
    }
   ],
   "source": [
    "# clean each dataset\n",
    "DRUG19Q2 = primary_clean(DRUG19Q2)"
   ]
  },
  {
   "cell_type": "code",
   "execution_count": 132,
   "metadata": {},
   "outputs": [
    {
     "name": "stdout",
     "output_type": "stream",
     "text": [
      "(1408475, 3)\n",
      "primaryid    0\n",
      "caseid       0\n",
      "pt           0\n",
      "dtype: int64\n",
      "0\n"
     ]
    }
   ],
   "source": [
    "# clean each dataset\n",
    "REAC19Q2 = primary_clean(REAC19Q2)"
   ]
  },
  {
   "cell_type": "code",
   "execution_count": 133,
   "metadata": {},
   "outputs": [
    {
     "name": "stdout",
     "output_type": "stream",
     "text": [
      "(4892508, 6)\n",
      "primaryid    0\n",
      "caseid       0\n",
      "age          0\n",
      "sex          0\n",
      "drugname     0\n",
      "pt           0\n",
      "dtype: int64\n",
      "0\n",
      "(59589, 6)\n"
     ]
    }
   ],
   "source": [
    "# merge and clean\n",
    "Quarter2 = merge_data(DEMO19Q2, DRUG19Q2, REAC19Q2)"
   ]
  },
  {
   "cell_type": "code",
   "execution_count": 134,
   "metadata": {},
   "outputs": [],
   "source": [
    "# read the dataset (Quarter 3)\n",
    "DEMO19Q3 = pd.read_csv(\"E:\\iNeuron\\Dataset\\Q3\\DEMO19Q3.txt\", delimiter=\"$\", low_memory=False)\n",
    "REAC19Q3 = pd.read_csv(\"E:\\iNeuron\\Dataset\\Q3\\REAC19Q3.txt\", delimiter=\"$\", low_memory=False)\n",
    "DRUG19Q3 = pd.read_csv(\"E:\\iNeuron\\Dataset\\Q3\\DRUG19Q3.txt\", delimiter=\"$\", low_memory=False, encoding_errors='ignore')"
   ]
  },
  {
   "cell_type": "code",
   "execution_count": 135,
   "metadata": {},
   "outputs": [],
   "source": [
    "# select columns necessary for our analysis\n",
    "DEMO19Q3 = DEMO19Q3[[\"primaryid\", \"caseid\", \"age\", \"sex\"]]\n",
    "DRUG19Q3 = DRUG19Q3[[\"primaryid\", \"caseid\", \"drugname\"]]\n",
    "REAC19Q3 = REAC19Q3[[\"primaryid\", \"caseid\", \"pt\"]]"
   ]
  },
  {
   "cell_type": "code",
   "execution_count": 136,
   "metadata": {},
   "outputs": [
    {
     "name": "stdout",
     "output_type": "stream",
     "text": [
      "(253952, 4)\n",
      "primaryid    0\n",
      "caseid       0\n",
      "age          0\n",
      "sex          0\n",
      "dtype: int64\n",
      "0\n"
     ]
    }
   ],
   "source": [
    "# clean each dataset\n",
    "DEMO19Q3 = primary_clean(DEMO19Q3)"
   ]
  },
  {
   "cell_type": "code",
   "execution_count": 137,
   "metadata": {},
   "outputs": [
    {
     "name": "stdout",
     "output_type": "stream",
     "text": [
      "(1651755, 3)\n",
      "primaryid    0\n",
      "caseid       0\n",
      "drugname     0\n",
      "dtype: int64\n",
      "0\n"
     ]
    }
   ],
   "source": [
    "# clean each dataset\n",
    "DRUG19Q3 = primary_clean(DRUG19Q3)"
   ]
  },
  {
   "cell_type": "code",
   "execution_count": 138,
   "metadata": {},
   "outputs": [
    {
     "name": "stdout",
     "output_type": "stream",
     "text": [
      "(1504784, 3)\n",
      "primaryid    0\n",
      "caseid       0\n",
      "pt           0\n",
      "dtype: int64\n",
      "0\n"
     ]
    }
   ],
   "source": [
    "# clean each dataset\n",
    "REAC19Q3 = primary_clean(REAC19Q3)"
   ]
  },
  {
   "cell_type": "code",
   "execution_count": 139,
   "metadata": {},
   "outputs": [
    {
     "name": "stdout",
     "output_type": "stream",
     "text": [
      "(5540978, 6)\n",
      "primaryid    0\n",
      "caseid       0\n",
      "age          0\n",
      "sex          0\n",
      "drugname     0\n",
      "pt           0\n",
      "dtype: int64\n",
      "0\n",
      "(62882, 6)\n"
     ]
    }
   ],
   "source": [
    "# merge and clean\n",
    "Quarter3 = merge_data(DEMO19Q3, DRUG19Q3, REAC19Q3)"
   ]
  },
  {
   "cell_type": "code",
   "execution_count": 140,
   "metadata": {},
   "outputs": [],
   "source": [
    "# read the dataset (Quarter 4)\n",
    "DEMO19Q4 = pd.read_csv(\"E:\\iNeuron\\Dataset\\Q4\\DEMO19Q4.txt\", delimiter=\"$\", low_memory=False)\n",
    "REAC19Q4 = pd.read_csv(\"E:\\iNeuron\\Dataset\\Q4\\REAC19Q4.txt\", delimiter=\"$\", low_memory=False)\n",
    "DRUG19Q4 = pd.read_csv(\"E:\\iNeuron\\Dataset\\Q4\\DRUG19Q4.txt\", delimiter=\"$\", low_memory=False)"
   ]
  },
  {
   "cell_type": "code",
   "execution_count": 141,
   "metadata": {},
   "outputs": [],
   "source": [
    "# select columns necessary for our analysis\n",
    "DEMO19Q4 = DEMO19Q4[[\"primaryid\", \"caseid\", \"age\", \"sex\"]]\n",
    "DRUG19Q4 = DRUG19Q4[[\"primaryid\", \"caseid\", \"drugname\"]]\n",
    "REAC19Q4 = REAC19Q4[[\"primaryid\", \"caseid\", \"pt\"]]"
   ]
  },
  {
   "cell_type": "code",
   "execution_count": 142,
   "metadata": {},
   "outputs": [
    {
     "name": "stdout",
     "output_type": "stream",
     "text": [
      "(245213, 4)\n",
      "primaryid    0\n",
      "caseid       0\n",
      "age          0\n",
      "sex          0\n",
      "dtype: int64\n",
      "0\n"
     ]
    }
   ],
   "source": [
    "# clean each dataset\n",
    "DEMO19Q4 = primary_clean(DEMO19Q4)"
   ]
  },
  {
   "cell_type": "code",
   "execution_count": 143,
   "metadata": {},
   "outputs": [
    {
     "name": "stdout",
     "output_type": "stream",
     "text": [
      "(1417965, 3)\n",
      "primaryid    0\n",
      "caseid       0\n",
      "drugname     0\n",
      "dtype: int64\n",
      "0\n"
     ]
    }
   ],
   "source": [
    "# clean each dataset\n",
    "DRUG19Q4 = primary_clean(DRUG19Q4)"
   ]
  },
  {
   "cell_type": "code",
   "execution_count": 144,
   "metadata": {},
   "outputs": [
    {
     "name": "stdout",
     "output_type": "stream",
     "text": [
      "(1359912, 3)\n",
      "primaryid    0\n",
      "caseid       0\n",
      "pt           0\n",
      "dtype: int64\n",
      "0\n"
     ]
    }
   ],
   "source": [
    "# clean each dataset\n",
    "REAC19Q4 = primary_clean(REAC19Q4)"
   ]
  },
  {
   "cell_type": "code",
   "execution_count": 145,
   "metadata": {},
   "outputs": [
    {
     "name": "stdout",
     "output_type": "stream",
     "text": [
      "(4879124, 6)\n",
      "primaryid    0\n",
      "caseid       0\n",
      "age          0\n",
      "sex          0\n",
      "drugname     0\n",
      "pt           0\n",
      "dtype: int64\n",
      "0\n",
      "(53822, 6)\n"
     ]
    }
   ],
   "source": [
    "# merge and clean\n",
    "Quarter4 = merge_data(DEMO19Q4, DRUG19Q4, REAC19Q4)"
   ]
  },
  {
   "cell_type": "code",
   "execution_count": 146,
   "metadata": {},
   "outputs": [
    {
     "name": "stdout",
     "output_type": "stream",
     "text": [
      "primaryid    0\n",
      "caseid       0\n",
      "age          0\n",
      "sex          0\n",
      "drugname     0\n",
      "pt           0\n",
      "dtype: int64\n",
      "0\n"
     ]
    },
    {
     "data": {
      "text/plain": [
       "(226427, 6)"
      ]
     },
     "execution_count": 146,
     "metadata": {},
     "output_type": "execute_result"
    }
   ],
   "source": [
    "# concatenate all Quarter data into one for our analysis\n",
    "final_data = pd.concat([Quarter1, Quarter2, Quarter3, Quarter4], ignore_index=True)\n",
    "\n",
    "# check null/missing values\n",
    "print(final_data.isnull().sum())\n",
    "\n",
    "# check any duplicate records\n",
    "print(final_data.duplicated().sum())\n",
    "\n",
    "# check the dimension of data\n",
    "final_data.shape"
   ]
  }
 ],
 "metadata": {
  "kernelspec": {
   "display_name": "Deep_Learning",
   "language": "python",
   "name": "python3"
  },
  "language_info": {
   "codemirror_mode": {
    "name": "ipython",
    "version": 3
   },
   "file_extension": ".py",
   "mimetype": "text/x-python",
   "name": "python",
   "nbconvert_exporter": "python",
   "pygments_lexer": "ipython3",
   "version": "3.9.18"
  }
 },
 "nbformat": 4,
 "nbformat_minor": 2
}
