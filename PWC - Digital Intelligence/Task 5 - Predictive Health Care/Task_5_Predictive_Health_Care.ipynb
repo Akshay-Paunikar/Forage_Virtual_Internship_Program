{
 "cells": [
  {
   "cell_type": "markdown",
   "metadata": {},
   "source": [
    "<h3>Task 5 - Predictive Health Care</h3>\n",
    "Comparing adverse effects of pain medicaments\n",
    "\n",
    "<h3>Task Overview</h3>\n",
    "\n",
    "<b>What you'll learn</b>\n",
    " - How to analyze adverse drug effects using provided data.\n",
    "\n",
    "<b>What you'll do</b>\n",
    " - Analyze 2019 FAERS data to find the top 10 Tramal adverse effects.\n",
    " - Compare Tramal and Lyrica's adverse effects.\n",
    " - Suggest further investigations based on dataset findings."
   ]
  },
  {
   "cell_type": "code",
   "execution_count": 1,
   "metadata": {},
   "outputs": [],
   "source": [
    "# import required libraries\n",
    "import numpy as np\n",
    "import pandas as pd\n",
    "import matplotlib.pyplot as plt\n",
    "%matplotlib inline\n",
    "import seaborn as sns"
   ]
  },
  {
   "cell_type": "code",
   "execution_count": null,
   "metadata": {},
   "outputs": [],
   "source": []
  }
 ],
 "metadata": {
  "kernelspec": {
   "display_name": "Deep_Learning",
   "language": "python",
   "name": "python3"
  },
  "language_info": {
   "codemirror_mode": {
    "name": "ipython",
    "version": 3
   },
   "file_extension": ".py",
   "mimetype": "text/x-python",
   "name": "python",
   "nbconvert_exporter": "python",
   "pygments_lexer": "ipython3",
   "version": "3.9.18"
  }
 },
 "nbformat": 4,
 "nbformat_minor": 2
}
