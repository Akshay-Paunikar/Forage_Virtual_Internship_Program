{
 "cells": [
  {
   "cell_type": "markdown",
   "metadata": {},
   "source": [
    "<h3>Task 5 - Predictive Health Care</h3>\n",
    "Comparing adverse effects of pain medicaments\n",
    "\n",
    "<h3>Task Overview</h3>\n",
    "\n",
    "<b>What you'll learn</b>\n",
    " - How to analyze adverse drug effects using provided data.\n",
    "\n",
    "<b>What you'll do</b>\n",
    " - Analyze 2019 FAERS data to find the top 10 Tramal adverse effects.\n",
    " - Compare Tramal and Lyrica's adverse effects.\n",
    " - Suggest further investigations based on dataset findings.\n",
    "\n",
    "<h3>Here is your task:</h3>\n",
    "\n",
    "<b>Jakob asks you to create a PowerPoint slide deck while tackling the following steps. Use screenshots and diagrams to illustrate your findings as well.</b>\n",
    "\n",
    "<b>Step 1</b>\n",
    "\n",
    "Create a descriptive overview of adverse effects of tramal based on the available FAERS datasets, which you’ll find in your resource section. For your analysis, only use the FAERS data from the year 2019.\n",
    "\n",
    "Show the 10 most common adverse effects as they are reported in the FAERS database. Jakob loves bar plots, so would be great if you use one.\n",
    "\n",
    "<b>Step 2</b>\n",
    "\n",
    "Compare tramal to another medication called lyrica that is also commonly used to treat neurological pain. Are the adverse effects similar?\n",
    "\n",
    "Use Rscript to solve the task and make sure using it in your presentation.\n",
    "\n",
    "</b>Step 3</b>\n",
    "\n",
    "Define what further investigations might be helpful in determining whether a certain drug might be more preferable over another drug. Base your solution on the results of your dataset work."
   ]
  },
  {
   "cell_type": "markdown",
   "metadata": {},
   "source": []
  }
 ],
 "metadata": {
  "kernelspec": {
   "display_name": "Deep_Learning",
   "language": "python",
   "name": "python3"
  },
  "language_info": {
   "name": "python",
   "version": "3.9.18"
  }
 },
 "nbformat": 4,
 "nbformat_minor": 2
}
