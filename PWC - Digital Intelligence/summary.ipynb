{
 "cells": [
  {
   "cell_type": "markdown",
   "metadata": {},
   "source": [
    "### PwC Switzerland Digital Intelligence Job Simulation on Forage\n",
    " - Completed a job simulation involving data analysis and modeling for the Digital Intelligence team.\n",
    " - Built Python classification models, analyzed feature importance, and created visual representations.\n",
    " - Developed a valuation document, analyzed historical data, forecasted cash flows, and determined portfolio present value.\n",
    " - Collaborated on a client's data strategy proposal, analyzed medical data for adverse effects, compared medications, and suggested further investigations"
   ]
  },
  {
   "cell_type": "markdown",
   "metadata": {},
   "source": [
    "- Client: Insurance and Healthcare Provider\n",
    "- Task 1: Introduction\n",
    "- Task 2: Responsible AI\n",
    "- Task 3: Quant Finance Modelling\n",
    "- Task 4: Data Analytics Strategy\n",
    "- Task 5: Predictive Health Care\n",
    "- Task 6: Predictive and Statistical Modelling"
   ]
  }
 ],
 "metadata": {
  "kernelspec": {
   "display_name": "Deep_Learning",
   "language": "python",
   "name": "python3"
  },
  "language_info": {
   "name": "python",
   "version": "3.9.18"
  }
 },
 "nbformat": 4,
 "nbformat_minor": 2
}
