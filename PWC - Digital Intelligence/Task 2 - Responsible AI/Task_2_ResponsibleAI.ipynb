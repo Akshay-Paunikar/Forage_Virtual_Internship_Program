{
 "cells": [
  {
   "cell_type": "markdown",
   "metadata": {},
   "source": [
    "<h2>Task 2 - Responsible AI</h2>\n",
    "Understanding how AI leads to better decisions.\n",
    "\n",
    "<h3>Bank Marketing</h3>\n",
    "<h4>Abstract:</h4>\n",
    "The data is related with direct marketing campaigns (phone calls) of a Portuguese banking institution. The classification goal is to predict if the client will subscribe a term deposit (variable y).\n",
    "\n",
    "<h4>Attribute Information:</h4>\n",
    "Bank client data:\n",
    "\n",
    " - Age (numeric)\n",
    " - Job : type of job (categorical: 'admin.', 'blue-collar', 'entrepreneur', 'housemaid', 'management', 'retired', 'self-employed', 'services', 'student', 'technician', 'unemployed', 'unknown')\n",
    " - Marital : marital status (categorical: 'divorced', 'married', 'single', 'unknown' ; note: 'divorced' means divorced or widowed)\n",
    " - Education (categorical: 'basic.4y', 'basic.6y', 'basic.9y', 'high.school', 'illiterate', 'professional.course', 'university.degree', 'unknown')\n",
    " - Default: has credit in default? (categorical: 'no', 'yes', 'unknown')\n",
    " - Housing: has housing loan? (categorical: 'no', 'yes', 'unknown')\n",
    " - Loan: has personal loan? (categorical: 'no', 'yes', 'unknown')\n",
    "\n",
    "Related with the last contact of the current campaign:\n",
    "\n",
    " - Contact: contact communication type (categorical:'cellular','telephone')\n",
    " - Month: last contact month of year (categorical: 'jan', 'feb', 'mar',…, 'nov', 'dec')\n",
    " - Day_of_week: last contact day of the week (categorical:'mon','tue','wed','thu','fri')\n",
    " - Duration: last contact duration, in seconds (numeric). Important\n",
    "note: this attribute highly affects the output target (e.g., if duration=0 then y='no'). Yet, the duration is not known before a call is performed. Also, after the end of the call y is obviously known. Thus, this input should only be included for benchmark purposes and should be discarded if the intention is to have a realistic predictive model.\n",
    "\n",
    "Other attributes:\n",
    "\n",
    " - Campaign: number of contacts performed during this campaign and for this client (numeric, includes last contact)\n",
    " - Pdays: number of days that passed by after the client was last contacted from a previous campaign (numeric; 999 means client was not previously contacted)\n",
    " - Previous: number of contacts performed before this campaign and for this client (numeric)\n",
    " - Poutcome: outcome of the previous marketing campaign (categorical: 'failure','nonexistent','success')\n",
    "\n",
    "Social and economic context attributes:\n",
    "\n",
    " - Emp.var.rate: employment variation rate - quarterly indicator (numeric)\n",
    " - Cons.price.idx: consumer price index - monthly indicator (numeric)\n",
    " - Cons.conf.idx: consumer confidence index - monthly indicator (numeric)\n",
    " - Euribor3m: euribor 3 month rate - daily indicator (numeric)\n",
    " - Nr.employed: number of employees - quarterly indicator (numeric)\n",
    "\n",
    "Output variable (desired target):\n",
    "\n",
    " - y - has the client subscribed a term deposit? (binary: 'yes', 'no')\n",
    "\n",
    "Analysis Steps:\n",
    " - Atribute information Analysis.\n",
    " - Machine Learning (Logistic Regression, KNN, SVM, Decision Tree,\n",
    " - Random Forest, Naive Bayes)\n",
    " - Deep Learning (ANN)\n",
    "\n",
    "Source: Dataset from : http://archive.ics.uci.edu/ml/datasets/Bank+Marketing#"
   ]
  },
  {
   "cell_type": "markdown",
   "metadata": {},
   "source": []
  }
 ],
 "metadata": {
  "kernelspec": {
   "display_name": "Deep_Learning",
   "language": "python",
   "name": "python3"
  },
  "language_info": {
   "name": "python",
   "version": "3.9.17"
  }
 },
 "nbformat": 4,
 "nbformat_minor": 2
}
