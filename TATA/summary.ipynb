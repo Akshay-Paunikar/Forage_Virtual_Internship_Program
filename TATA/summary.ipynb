{
 "cells": [
  {
   "cell_type": "markdown",
   "metadata": {},
   "source": [
    "### Tata Data Visualisation: Empowering Business with Effective Insights Job Simulation on Forage\n",
    "\n",
    " - Completed a simulation involving creating data visualizations for Tata Consultancy Services\n",
    " - Prepared questions for a meeting with client senior leadership\n",
    " - Created visuals for data analysis to help executives with effective decision making"
   ]
  },
  {
   "cell_type": "markdown",
   "metadata": {},
   "source": [
    " - Client - Online Retail Store\n",
    " - An online retail store has hired you as a consultant to review their data and provide insights that would be valuable to the CEO and CMO of the business. The business has been performing well and the management wants to analyse what the major contributing factors are to the revenue so they can strategically plan for next year.\n",
    " - Task 1: Framing the Business Scenario\n",
    " - Task 2: Choosing the Right Visuals\n",
    " - Task 3: Creating Effective Visuals\n",
    " - Task 4: Communicating Insights and Analysis"
   ]
  }
 ],
 "metadata": {
  "kernelspec": {
   "display_name": "Deep_Learning",
   "language": "python",
   "name": "python3"
  },
  "language_info": {
   "name": "python",
   "version": "3.9.18"
  }
 },
 "nbformat": 4,
 "nbformat_minor": 2
}
