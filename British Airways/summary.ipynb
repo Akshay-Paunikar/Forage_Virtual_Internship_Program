{
 "cells": [
  {
   "cell_type": "markdown",
   "metadata": {},
   "source": [
    "### British Airways Data Science Job Simulation on Forage"
   ]
  },
  {
   "cell_type": "markdown",
   "metadata": {},
   "source": [
    " - Completed a simulation focussing on how data science is a critical component of British Airways success\n",
    " - Scraped and analysed customer review data to uncover findings\n",
    " - Built a predictive model to understand factors that influence buying behaviour"
   ]
  },
  {
   "cell_type": "markdown",
   "metadata": {},
   "source": [
    " - Client: British Airways\n",
    " - Role: Data Scientist\n",
    " - Task 1: Web scraping to gain company insights\n",
    " - Task 2: Predicting customer buying behaviour"
   ]
  },
  {
   "cell_type": "markdown",
   "metadata": {},
   "source": [
    " - The key topics within the reviews include “service”, “seat”, “crew” and “staff”, showing that people are actively talking about their experience and staff.\n",
    " - Out of 1000 reviews, 546 were positive - 55%, 437 were negative - 43% and 17 were neutral - 2%. This means the majority of reviews were polarised as either positive or negative.\n",
    " - The most important variable in the model was purchase_lead, that is the time between purchase and departure.\n",
    " - Information about the flight, e.g. flight time and duration was also significant, however booking origin of the customer was not important\n",
    " - The accuracy of the model was approximately 0.7 (Precision) and 0.003 (Recall), showing that this model requires more improvement. I suggest adding more customer-centric features into the model."
   ]
  }
 ],
 "metadata": {
  "kernelspec": {
   "display_name": "Deep_Learning",
   "language": "python",
   "name": "python3"
  },
  "language_info": {
   "name": "python",
   "version": "3.9.18"
  }
 },
 "nbformat": 4,
 "nbformat_minor": 2
}
