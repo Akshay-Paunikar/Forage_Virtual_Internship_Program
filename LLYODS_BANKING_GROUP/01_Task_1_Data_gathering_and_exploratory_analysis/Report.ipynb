{
 "cells": [
  {
   "cell_type": "markdown",
   "metadata": {},
   "source": [
    "## Customer Churn Analysis: Data Preparation and Exploratory Insights:"
   ]
  },
  {
   "cell_type": "markdown",
   "metadata": {},
   "source": [
    "### Summary of the Data Sets Selected and Rationale for Inclusion:\n",
    "\n",
    " - <b>Customer Data:</b> Contains demographic information (e.g., age, gender, marital status, income level) crucial for understanding customer segments and potential risk factors related to churn.\n",
    " - <b>Transaction Data:</b> Records each transaction's details, including the amount spent and product category. This data reveals customer spending patterns and preferences, which can impact loyalty.\n",
    " - <b>Service Data:</b> Tracks customer interactions with the service team, categorized by interaction type and resolution status. Helps assess how customer support experiences might influence churn.\n",
    " - <b>Activity Data:</b> Logs each customer's engagement level (e.g., login frequency, service usage). Indicates the level of customer activity and engagement with the platform, potentially predicting churn.\n",
    " - <b>Churn Data:</b> A binary indicator of whether the customer has churned or not. This is the target variable for building predictive models.\n",
    "\n",
    "### Visualizations and Statistical Summaries from EDA:\n",
    "\n",
    "#### Customer Data:\n",
    "\n",
    " - <b>Age Distribution:</b> Displayed a fairly even spread, providing insight into age-based customer segmentation.\n",
    " - <b>Income Level Counts:</b> Categories (‘Low’, ‘Medium’, ‘High’) were relatively balanced, indicating diversity in economic segments.\n",
    " - <b>Gender and Marital Status:</b> Proportions across gender and marital status revealed slight variations with potential churn implications.\n",
    "\n",
    "#### Transaction Data:\n",
    "\n",
    " - <b>Transaction Counts and Total Amount by Product Category:</b> Groceries had the highest spending, followed closely by Books, providing insights into product category popularity.\n",
    " - <b>Monthly Trends:</b> Spending peaked in July and December, with potential seasonal effects on spending habits.\n",
    " - <b>Heatmap by Category and Month:</b> Highlighted consistent spending patterns in each product category across months, with notable spikes in specific months.\n",
    "\n",
    "#### Service Data:\n",
    "\n",
    " - <b>Interaction Type Distribution:</b> Feedback interactions were most frequent, followed by complaints and inquiries, shedding light on customer interaction trends.\n",
    " - <b>Resolution Status:</b> High proportion of unresolved cases, potentially influencing churn.\n",
    " - <b>Interaction Type vs. Resolution Status:</b> Complaints were more likely unresolved, indicating an area of concern for customer satisfaction.\n",
    " - <b>Heatmap by Month and Interaction Type:</b> Monthly distribution revealed peaks in feedback during summer months, with some seasonality in complaints and inquiries.\n",
    "\n",
    "#### Activity Data:\n",
    "\n",
    " - <b>Service Usage Counts:</b> Usage was distributed across Mobile App, Website, and Online Banking, with Online Banking slightly leading.\n",
    " - <b>Login Frequency by Service:</b> Online Banking had the highest login frequency, reflecting its popularity and engagement level.\n",
    " - <b>Average Monthly Login Frequency by Service:</b> Heatmap analysis showed peaks in login activity, especially on Online Banking, indicating high engagement through this channel.\n",
    "\n",
    "#### Churn Status:\n",
    "\n",
    " - <b>Churn Rate:</b> 20.4% churn rate, indicating room for improvement in customer retention strategies.\n",
    " - <b>Churn by Gender and Marital Status:</b> Slightly higher churn rates among single and widowed customers, with potential links to relationship status and loyalty.\n",
    "\n",
    "#### Merged Data:\n",
    "\n",
    " - <b>Amount Spent by Income Level:</b> Similar spending levels across income categories, indicating stable spending patterns regardless of income.\n",
    " - <b>Service Usage vs. Churn:</b> Higher churn rates in Mobile App users, suggesting a possible target for churn prevention efforts.\n",
    " - <b>Resolution Status vs. Churn:</b> Higher churn among customers with unresolved issues, underscoring the importance of effective resolution.\n",
    " - <b>Interaction Type vs. Churn:</b> Complaint-related churn was notably higher, indicating a key area to address for retention.\n",
    " - <b>Heatmap by Churn, Gender, and Marital Status:</b> Gender and marital status appeared to impact churn likelihood, with males and single or widowed customers more likely to churn.\n",
    "\n",
    "### Data Cleaning and Preprocessing Steps:\n",
    "\n",
    " - <b>Data Merging:</b> Combined the Customer, Transaction, Service, Activity, and Churn datasets using the 'CustomerID' column, ensuring that each record includes a complete view of customer attributes and behaviors.\n",
    " - <b>Missing Values Handling:</b> Replaced missing categorical values with 'unknown' to retain all records without imputing potentially misleading values. This choice maintains data integrity, especially in categorical fields where NaN could represent unobserved behavior.\n",
    " - <b>Data Type Conversion:</b> Ensured consistency in data types for each feature (e.g., converting date columns to datetime format).\n",
    " - <b>Target Variable Encoding:</b> Churn status is retained as a binary indicator, suitable for classification models.\n",
    "\n",
    "### Preprocessing for Model Building:\n",
    "\n",
    " - <b>Encoding Categorical Variables:</b> Used one-hot encoding for categorical variables (Gender, MaritalStatus, IncomeLevel, ProductCategory, InteractionType, ResolutionStatus, ServiceUsage) to prepare them for machine learning algorithms.\n",
    " - <b>Scaling Numerical Features:</b> Applied standard scaling to numerical variables (Age, AmountSpent, LoginFrequency) to ensure they’re on a comparable scale, enhancing model performance.\n",
    "\n",
    "### Final Cleaned and Preprocessed Dataset:\n",
    "The cleaned dataset is now ready, featuring scaled and encoded variables, with no missing values and consistent data types. This dataset can now be directly used for model training."
   ]
  }
 ],
 "metadata": {
  "kernelspec": {
   "display_name": "Deep_Learning",
   "language": "python",
   "name": "python3"
  },
  "language_info": {
   "name": "python",
   "version": "3.9.18"
  }
 },
 "nbformat": 4,
 "nbformat_minor": 2
}
