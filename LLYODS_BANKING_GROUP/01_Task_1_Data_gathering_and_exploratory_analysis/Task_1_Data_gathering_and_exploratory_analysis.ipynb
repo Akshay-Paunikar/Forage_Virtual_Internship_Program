{
 "cells": [
  {
   "cell_type": "markdown",
   "metadata": {},
   "source": [
    "<h2>Task 1: Data gathering and exploratory analysis</h2>\n",
    "\n",
    "Enhance Customer retention strategies by mastering data analysis and uncovering key insights into customer behaviour\n",
    "\n",
    "<h3>Task overview:</h3>\n",
    "\n",
    "Welcome! In this task, you will focus on gathering and analysing data to understand customer behaviour, with the goal of uncovering key insights that will inform the development of a predictive model for customer churn.\n",
    "\n",
    "<b>What you'll learn:</b>\n",
    "\n",
    " - Techniques for identifying and collecting relevant data from various sources\n",
    " - Methods for performing exploratory data analysis (EDA) to uncover patterns and insights\n",
    " - Best practices for cleaning and preparing data for machine learning models\n",
    "\n",
    "<b>What you'll do:</b>\n",
    "\n",
    " - Identify and gather data from provided sources relevant to predicting customer churn\n",
    " - Perform EDA to understand the data and identify key features\n",
    " - Clean and preprocess the data to ensure it is ready for model building\n",
    "\n",
    "<h3>Let's get started:</h3>\n",
    "\n",
    "As you step into the role of a data science graduate at Lloyds Banking Group, you're immediately thrust into a real-world scenario with significant implications for our business. The Data Science & Analytics team, under the leadership of Li, a seasoned senior data scientist, is currently grappling with a critical project: predicting customer churn to enhance retention strategies.\n",
    "\n",
    "Li briefs you on the situation, \"We've observed a worrying trend of customers, particularly young professionals and small business owners, leaving for competitors. This project aims to reverse that trend by identifying at-risk customers and implementing targeted interventions.\"\n",
    "\n",
    "Your task is crucial. You'll begin by gathering and analysing data to understand the factors contributing to customer churn to uncover actionable insights that can inform strategic decisions. The pressure is on, as SmartBank, a key subsidiary, has reported a decline in retention rates, and there's mounting pressure from senior management to deliver solutions swiftly.\n",
    "\n",
    "Li emphasises the importance of this task, noting, \"Our findings will directly impact the strategies we deploy to retain our customers. We need accurate, insightful analysis to inform these strategies.\"\n",
    "\n",
    "You're not alone in this; the team is here to guide and support you. This is your opportunity to apply your skills, contributing to a project that could shape the future of customer engagement at Lloyds.\n",
    "\n",
    "<h3>Techniques for identifying and collecting data:</h3>\n",
    "\n",
    "<h4>Understanding the data landscape:</h4>\n",
    "\n",
    "The first step in data collection is to understand the landscape of available data. In a corporate environment, data can come from a variety of sources, including internal databases, customer relationship management (CRM) systems, financial records, web analytics, and external data sets. Knowing where data resides and how it can be accessed is crucial for gathering relevant information efficiently.\n",
    "\n",
    "<h4>Defining data requirements:</h4>\n",
    "\n",
    "Clearly define what you need to know before you begin. To predict customer churn, identify key variables such as customer demographics, transaction history, customer service interactions, and usage patterns. This will help focus your efforts on collecting the most relevant and useful data for your analysis.\n",
    "\n",
    "<h4>Data collection methods:</h4>\n",
    "\n",
    "Data can be collected through several methods:\n",
    "\n",
    " - <b>Primary data collection:</b> This involves gathering data directly from the source. For example, conducting surveys and interviews, or direct observation. While primary data is specific and relevant, it can be time-consuming and costly to obtain.\n",
    " - <b>Secondary data collection:</b> Involves using existing data collected for another purpose. This could include historical data, third-party data sets, or data obtained from public sources. Secondary data is often easier and quicker to access but may require more careful consideration to ensure its relevance and accuracy.\n",
    " - <b>Automated data collection:</b> Using tools such as web scraping, application programming interfaces (APIs), or data integration platforms to automatically gather data from online sources or databases. This method is efficient for collecting large volumes of data and keeping it up-to-date.\n",
    "\n",
    "<h4>Evaluating data quality:</h4>\n",
    "\n",
    "Once data is collected, it's essential to evaluate its quality. Consider the following aspects:\n",
    "\n",
    " - <b>Accuracy:</b> Ensure that the data accurately reflects the real-world scenarios you are studying.\n",
    " - <b>Completeness:</b> Check for missing values or incomplete records that might skew your analysis.\n",
    " - <b>Consistency:</b> Ensure that data is consistent across different sources and time periods.\n",
    " - <b>Timeliness:</b> Data should be current and relevant to the time frame of your analysis.\n",
    "\n",
    "<h4>Data integration and storage:</h4>\n",
    "\n",
    "After collecting data from various sources, the next step is to integrate it into a cohesive data set. This may involve merging data sets, transforming data formats, or cleaning data to ensure uniformity. Once integrated, store the data securely, ensuring that it is organised and easily accessible for analysis.\n",
    "\n",
    "By mastering these techniques, you'll be well-prepared to gather and utilise data effectively, setting the stage for a successful data analysis project.\n",
    "\n",
    "<h3>Methods for performing exploratory data analysis to uncover patterns and insights:</h3>\n",
    "\n",
    "Exploratory data analysis (EDA) is a crucial stage in the data science process. It allows you to understand the underlying configuration of your data and identify key patterns and relationships. EDA involves using statistical techniques and data visualisation to summarise the main characteristics of the data set.\n",
    "\n",
    "<h4>Descriptive statistics:</h4>\n",
    "\n",
    "Begin your EDA by calculating descriptive statistics, which provide a summary of the basic features of your data. Key metrics include:\n",
    "\n",
    " - <b>Mean, median, and mode:</b> These measures of central tendency help you understand the typical value in your data set.\n",
    " - <b>Standard deviation and variance:</b> These metrics indicate the spread or dispersion of your data, showing how much variation exists from the average.\n",
    " - <b>Min, max, and range:</b> These values provide insights into the bounds of your data, highlighting any potential outliers.\n",
    "\n",
    "<h4>Data visualisation:</h4>\n",
    "\n",
    "Visualisation is a powerful tool in EDA, helping you to quickly grasp complex data distributions and relationships. Common visualisation techniques include:\n",
    "\n",
    " - <b>Histograms and density plots:</b> Useful for understanding the distribution of a single variable, including its central tendency and spread.\n",
    " - <b>Box plots:</b> Help identify the spread and outliers in your data by showing the quartiles and median.\n",
    " - <b>Scatter plots:</b> Ideal for examining relationships between two continuous variables, helping you identify potential correlations or trends.\n",
    " - <b>Bar charts and heatmaps:</b> Useful for categorical data, showing the frequency or proportion of categories and the relationships between categorical variables.\n",
    "\n",
    "<h4>Correlation analysis:</h4>\n",
    "\n",
    "To uncover relationships between variables, perform a correlation analysis. This involves calculating correlation coefficients, such as Pearson’s or Spearman’s, which quantify the strength and direction of the relationship between variables. Understanding these correlations can help you identify key predictors of customer churn.\n",
    "\n",
    "<h4>Data profiling and anomaly detection:</h4>\n",
    "\n",
    "Data profiling involves examining data for anomalies, missing values, or inconsistencies. This phase is essential for ensuring data quality before proceeding to model building. Look for patterns in missing data, which could indicate underlying data collection issues or important missing information.\n",
    "\n",
    "<h4>Hypothesis generation:</h4>\n",
    "\n",
    "Based on the insights gained from descriptive statistics and visualisations, formulate hypotheses about your data. For example, you might hypothesise that high customer service interaction frequency is related to increased churn rates. These hypotheses can guide your subsequent analysis and model-building efforts.\n",
    "\n",
    "Employing these methods can help you uncover critical insights from your data, guiding your understanding and informing your decision-making process as you prepare for more advanced data analysis stages.\n",
    "\n",
    "<h3>Best practices for cleaning and preparing data for machine learning models:</h3>\n",
    "\n",
    "Properly cleaning and preparing data is essential for building reliable and accurate machine learning models. This process ensures that the data used in model training is of high quality, which directly impacts the model's performance.\n",
    "\n",
    "<h4>Handling missing data:</h4>\n",
    "\n",
    "Missing data is a typical problem that can significantly affect your model's accuracy. Here are a few strategies to address this problem:\n",
    "\n",
    " - <b>Imputation:</b> Replace missing values with a statistical measure such as the mean, median, or mode of the column. For categorical variables, the most frequent category can be used.\n",
    " - <b>Deletion:</b> Remove rows or columns with missing values, particularly if the proportion of missing data is small. However, this should be done cautiously to avoid losing valuable information.\n",
    " - <b>Flagging:</b> Create a new binary column that flags whether data was missing in the original data set. This can help your model learn if the absence of data is itself informative.\n",
    "\n",
    "<h4>Outlier detection and treatment:</h4>\n",
    "\n",
    "Outliers can skew the results of your machine-learning model. Use visualisation techniques like box plots or statistical methods to detect outliers. Once identified, you can:\n",
    "\n",
    " - <b>Remove outliers:</b> If they are caused by data entry errors or are not relevant to the analysis.\n",
    " - <b>Cap outliers:</b> Set a threshold beyond which data is capped. This technique minimises the influence of extreme values without removing data points entirely.\n",
    "\n",
    "<h4>Normalisation and standardisation:</h4>\n",
    "\n",
    "Data normalisation and standardisation are techniques used to ensure that numerical features contribute equally to the model's learning process. These processes involve:\n",
    "\n",
    " - <b>Normalisation:</b> Rescaling the values of numeric features to a common scale, typically [0, 1]. This is useful when features have different units or scales.\n",
    " - <b>Standardisation:</b> Transforming data to have a mean of zero and a standard deviation of one. This process is particularly useful when the data follows a Gaussian distribution.\n",
    "\n",
    "<h4>Encoding categorical variables:</h4>\n",
    "\n",
    "Machine learning models require numerical input, making it necessary to convert categorical data into numerical form. Common methods include:\n",
    "\n",
    " - <b>One-hot encoding:</b> Creating binary columns for each category in a categorical feature. This method prevents the model from assuming any ordinal relationship between categories.\n",
    " - <b>Label encoding:</b> Converting each category to a numerical value. This method is simpler but should be used with caution as it can imply an ordinal relationship where none exists.\n",
    "\n",
    "<h4>Feature engineering and selection:</h4>\n",
    "\n",
    "Creating new features from the existing data (feature engineering) and selecting the most relevant features (feature selection) can significantly improve model performance. Techniques include:\n",
    "\n",
    " - <b>Creating interaction features:</b> Combining two or more features to capture interactions.\n",
    " - <b>Feature scaling:</b> Adjusting the range of features to ensure they contribute equally to the model.\n",
    " - <b>Dimensionality reduction:</b> Using methods such as principal component analysis (PCA) to reduce the number of features, which can improve model performance and reduce overfitting.\n",
    "\n",
    "By adhering to these best practices, you'll ensure that your data set is clean, well-prepared, and optimised for building effective machine learning models. This foundational work is crucial for achieving accurate and reliable predictions in your project.\n",
    "\n",
    "<h3>Data gathering and exploratory analysis:</h3>\n",
    "\n",
    "Now that you've been introduced to the scenario and the importance of this project, it's time to roll up your sleeves and get started. This task will challenge you to apply your data science skills in a real-world context, helping you connect theoretical knowledge and practical application.\n",
    "\n",
    "<h4>Data collection: start with relevance</h4>\n",
    "\n",
    "Your first step is to identify and gather relevant data that will provide insights into customer churn. Focus on data that can help you understand customer behaviour, such as demographics, transaction history, and customer service interactions. Remember, the goal is to collect data that is pertinent to the problem at hand. Approach this step with a critical eye, considering how each piece of data might contribute to understanding why customers are leaving.\n",
    "\n",
    "<h4>EDA: discover patterns and insights</h4>\n",
    "\n",
    "Once you've collected the data, the next step is to perform EDA. This phase is crucial as it helps you uncover patterns, identify anomalies, and understand the data's structure. Use visual tools such as histograms, scatter plots, and heat maps to explore relationships between variables. Pay close attention to trends that might indicate early signs of churn, such as decreased usage frequency or increased interaction with customer service.\n",
    "\n",
    "EDA is not just a technical exercise; it's an opportunity to hypothesise the underlying causes of churn. For example, if you notice that customers who engage less with your digital services are more likely to churn, this insight could inform targeted retention strategies. Your analysis should be thorough and well-documented, providing a clear narrative that connects your findings to potential business actions.\n",
    "\n",
    "<h4>Data cleaning and preparation: ensuring quality</h4>\n",
    "\n",
    "The quality of your data affects the reliability of your predictive model. In this stage, focus on cleaning and preparing your data set. Handle missing values appropriately, either through imputation or removal, and ensure that all variables are in a consistent format. Normalising or standardising your data may be necessary, especially if the data includes variables with different scales. This step is about precision and care; small errors can lead to significant inaccuracies in your model.\n",
    "\n",
    "As you work through these activities, keep the broader project goals in mind. Your findings from EDA and your cleaned data set will form the foundation for building a robust predictive model. This model will help SmartBank not only understand current churn rates but also anticipate and mitigate future risks, directly influencing customer retention strategies.\n",
    "\n",
    "<h4>Why accuracy and thorough understanding matter?</h4>\n",
    "\n",
    "Your work in this task is not just about completing an assignment; it's about developing a deep, practical understanding of data science in action. Accuracy and thorough understanding are crucial, as the insights you derive will inform strategic decisions at SmartBank. The quality of your analysis could mean the difference between retaining valuable customers and losing them to competitors.\n",
    "\n",
    "Approach each step with diligence and an analytical mindset. This is your opportunity to make a tangible impact on a real-world problem, honing your skills in the process. Embrace the challenge, knowing that your contributions are vital to the project's success.\n",
    "\n",
    "<h3>Task instructions:</h3>\n",
    "\n",
    "<h4>Introduction:</h4>\n",
    "\n",
    "In this task, you will take the first critical steps toward building a predictive model for customer churn. Your work will involve gathering relevant data, conducting EDA, and preparing the data set for model development. These activities are foundational for ensuring the accuracy and reliability of your subsequent analysis and predictions.\n",
    "\n",
    "<h4>Instructions:</h4>\n",
    "\n",
    "<b>Identify and gather data:</b>\n",
    "\n",
    " - Review the provided data sources and select those most relevant for predicting customer churn. Focus on key areas such as customer demographics, transaction history, and customer service interactions.\n",
    " - Document your selection criteria and rationale for choosing each data set, ensuring that the data will provide meaningful insights into customer behaviour.\n",
    "\n",
    "<b>Perform EDA:</b>\n",
    "\n",
    " - Use statistical techniques and data visualisation tools to explore the data sets. Create visualisations such as histograms, scatter plots, and box plots to understand distributions, trends, and relationships between variables.\n",
    " - Identify key features that may influence customer churn, paying special attention to patterns or anomalies that could be significant.\n",
    "\n",
    "<b>Clean and preprocess the data:</b>\n",
    "\n",
    " - Handle missing values by choosing appropriate methods such as imputation, removal, or flagging. Justify your chosen method based on the data and context.\n",
    " - Detect and address outliers that could skew the analysis or predictions. Decide whether to cap, transform, or remove outliers based on their nature and potential impact.\n",
    " - Standardise or normalise numerical features to ensure consistent scales across variables. This step is crucial for preparing the data for machine learning algorithms.\n",
    " - Encode categorical variables using techniques like one-hot encoding to transform them into a numerical form appropriate for analysis.\n",
    "\n",
    "<b>Deliverable:</b>\n",
    "\n",
    " - <b>File submission:</b> Submit a comprehensive report detailing your data gathering, EDA, and data cleaning processes. The report should include:\n",
    "\n",
    "    - A summary of the data sets selected and the rationale for their inclusion\n",
    "    - Visualisations and statistical summaries from the EDA\n",
    "    - A description of the data cleaning and preprocessing steps taken\n",
    "    - The cleaned and preprocessed data set ready for model building\n",
    "\n",
    "Ensure that your report is clear, concise, and well-organised, as it will be a key component of the project's success, guiding future analysis and model development."
   ]
  },
  {
   "cell_type": "code",
   "execution_count": null,
   "metadata": {},
   "outputs": [
    {
     "ename": "",
     "evalue": "",
     "output_type": "error",
     "traceback": [
      "\u001b[1;31mFailed to start the Kernel. \n",
      "\u001b[1;31mUnable to start Kernel 'Python 3.9.18' due to a timeout waiting for the ports to get used. \n",
      "\u001b[1;31mView Jupyter <a href='command:jupyter.viewOutput'>log</a> for further details."
     ]
    }
   ],
   "source": [
    "# import required libraries\n",
    "import numpy as np\n",
    "import pandas as pd\n",
    "import matplotlib.pyplot as plt\n",
    "%matplotlib inline\n",
    "import seaborn as sns"
   ]
  },
  {
   "cell_type": "code",
   "execution_count": null,
   "metadata": {},
   "outputs": [],
   "source": [
    "# read the dataset\n",
    "customer = pd.read_excel(\"Customer_Churn_Data_Large.xlsx\", sheet_name=\"Customer_Demographics\")\n",
    "transaction = pd.read_excel(\"Customer_Churn_Data_Large.xlsx\", sheet_name=\"Transaction_History\")\n",
    "service = pd.read_excel(\"Customer_Churn_Data_Large.xlsx\", sheet_name=\"Customer_Service\")\n",
    "activity = pd.read_excel(\"Customer_Churn_Data_Large.xlsx\", sheet_name=\"Online_Activity\")\n",
    "churn = pd.read_excel(\"Customer_Churn_Data_Large.xlsx\", sheet_name=\"Churn_Status\")\n",
    "\n",
    "\n",
    "\n",
    "# dimensions of data\n",
    "print(\"Customer_Demographics: \", customer.shape)\n",
    "print(\"Transaction_History: \", transaction.shape)\n",
    "print(\"Customer_Service: \", service.shape)\n",
    "print(\"Online_Activity: \", activity.shape)\n",
    "print(\"Churn_Status: \", churn.shape)\n"
   ]
  },
  {
   "cell_type": "code",
   "execution_count": null,
   "metadata": {},
   "outputs": [],
   "source": [
    "# check the records\n",
    "customer.head()"
   ]
  },
  {
   "cell_type": "code",
   "execution_count": null,
   "metadata": {},
   "outputs": [],
   "source": [
    "transaction.head()"
   ]
  },
  {
   "cell_type": "code",
   "execution_count": null,
   "metadata": {},
   "outputs": [],
   "source": [
    "service.head()"
   ]
  },
  {
   "cell_type": "code",
   "execution_count": null,
   "metadata": {},
   "outputs": [],
   "source": [
    "activity.head()"
   ]
  },
  {
   "cell_type": "code",
   "execution_count": null,
   "metadata": {},
   "outputs": [],
   "source": [
    "churn.head()"
   ]
  },
  {
   "cell_type": "code",
   "execution_count": null,
   "metadata": {},
   "outputs": [],
   "source": [
    "# check the datatypes present\n",
    "customer.dtypes"
   ]
  },
  {
   "cell_type": "code",
   "execution_count": null,
   "metadata": {},
   "outputs": [],
   "source": [
    "transaction.dtypes"
   ]
  },
  {
   "cell_type": "code",
   "execution_count": null,
   "metadata": {},
   "outputs": [],
   "source": [
    "service.dtypes"
   ]
  },
  {
   "cell_type": "code",
   "execution_count": null,
   "metadata": {},
   "outputs": [],
   "source": [
    "activity.dtypes"
   ]
  },
  {
   "cell_type": "code",
   "execution_count": null,
   "metadata": {},
   "outputs": [],
   "source": [
    "churn.dtypes"
   ]
  },
  {
   "cell_type": "code",
   "execution_count": null,
   "metadata": {},
   "outputs": [],
   "source": [
    "# descriptive statistics\n",
    "customer.describe(include='all').T"
   ]
  },
  {
   "cell_type": "code",
   "execution_count": null,
   "metadata": {},
   "outputs": [],
   "source": [
    "transaction.describe(include='all').T"
   ]
  },
  {
   "cell_type": "code",
   "execution_count": null,
   "metadata": {},
   "outputs": [],
   "source": [
    "service.describe(include='all').T"
   ]
  },
  {
   "cell_type": "code",
   "execution_count": null,
   "metadata": {},
   "outputs": [],
   "source": [
    "activity.describe(include='all').T"
   ]
  },
  {
   "cell_type": "code",
   "execution_count": null,
   "metadata": {},
   "outputs": [],
   "source": [
    "churn.describe(include='all').T"
   ]
  },
  {
   "cell_type": "code",
   "execution_count": null,
   "metadata": {},
   "outputs": [],
   "source": [
    "# concise information\n",
    "customer.info()"
   ]
  },
  {
   "cell_type": "code",
   "execution_count": null,
   "metadata": {},
   "outputs": [],
   "source": [
    "transaction.info()"
   ]
  },
  {
   "cell_type": "code",
   "execution_count": null,
   "metadata": {},
   "outputs": [],
   "source": [
    "service.info()"
   ]
  },
  {
   "cell_type": "code",
   "execution_count": null,
   "metadata": {},
   "outputs": [],
   "source": [
    "activity.info()"
   ]
  },
  {
   "cell_type": "code",
   "execution_count": null,
   "metadata": {},
   "outputs": [],
   "source": [
    "churn.info()"
   ]
  },
  {
   "cell_type": "code",
   "execution_count": null,
   "metadata": {},
   "outputs": [],
   "source": [
    "# check for null/missing records\n",
    "customer.isnull().sum()"
   ]
  },
  {
   "cell_type": "code",
   "execution_count": null,
   "metadata": {},
   "outputs": [],
   "source": [
    "transaction.isnull().sum()"
   ]
  },
  {
   "cell_type": "code",
   "execution_count": null,
   "metadata": {},
   "outputs": [],
   "source": [
    "service.isnull().sum()"
   ]
  },
  {
   "cell_type": "code",
   "execution_count": null,
   "metadata": {},
   "outputs": [],
   "source": [
    "activity.isnull().sum()"
   ]
  },
  {
   "cell_type": "code",
   "execution_count": null,
   "metadata": {},
   "outputs": [],
   "source": [
    "churn.isnull().sum()"
   ]
  },
  {
   "cell_type": "code",
   "execution_count": null,
   "metadata": {},
   "outputs": [],
   "source": [
    "# check for duplicate records\n",
    "customer.duplicated().sum()"
   ]
  },
  {
   "cell_type": "code",
   "execution_count": null,
   "metadata": {},
   "outputs": [],
   "source": [
    "transaction.duplicated().sum()"
   ]
  },
  {
   "cell_type": "code",
   "execution_count": null,
   "metadata": {},
   "outputs": [],
   "source": [
    "service.duplicated().sum()"
   ]
  },
  {
   "cell_type": "code",
   "execution_count": null,
   "metadata": {},
   "outputs": [],
   "source": [
    "activity.duplicated().sum()"
   ]
  },
  {
   "cell_type": "code",
   "execution_count": null,
   "metadata": {},
   "outputs": [],
   "source": [
    "churn.duplicated().sum()"
   ]
  },
  {
   "cell_type": "code",
   "execution_count": null,
   "metadata": {},
   "outputs": [],
   "source": [
    "# Now we will merge our datasets together to get a final data\n",
    "# Step 1: Merge customer with transactions\n",
    "merged_df = pd.merge(customer, transaction, on='CustomerID', how='outer')\n",
    "\n",
    "# Step 2: Merge with service interactions\n",
    "merged_df = pd.merge(merged_df, service, on='CustomerID', how='left')\n",
    "\n",
    "# Step 3: Merge with activity data\n",
    "merged_df = pd.merge(merged_df, activity, on='CustomerID', how='left')\n",
    "\n",
    "# Step 4: Merge with churn status\n",
    "final_df = pd.merge(merged_df, churn, on='CustomerID', how='left')\n",
    "\n",
    "# Check the shape of the final merged data\n",
    "print(final_df.shape)"
   ]
  },
  {
   "cell_type": "code",
   "execution_count": null,
   "metadata": {},
   "outputs": [],
   "source": [
    "# check for missing records\n",
    "final_df.isnull().sum()"
   ]
  },
  {
   "cell_type": "code",
   "execution_count": null,
   "metadata": {},
   "outputs": [],
   "source": [
    "# check for duplicate records\n",
    "final_df.duplicated().sum()"
   ]
  },
  {
   "cell_type": "code",
   "execution_count": null,
   "metadata": {},
   "outputs": [],
   "source": [
    "final_df.head()"
   ]
  },
  {
   "cell_type": "markdown",
   "metadata": {},
   "source": [
    "### Exploratory Data Analysis (EDA):\n",
    "We will perform on individual datasets as well the merged data."
   ]
  },
  {
   "cell_type": "markdown",
   "metadata": {},
   "source": [
    "#### Customer Data EDA:"
   ]
  },
  {
   "cell_type": "code",
   "execution_count": null,
   "metadata": {},
   "outputs": [],
   "source": [
    "# Customer Age Histogram\n",
    "plt.figure(figsize=(12,4))\n",
    "\n",
    "sns.histplot(data=customer, x='Age', kde=True, stat='count', color='green')\n",
    "plt.xlabel(\"Age\")\n",
    "plt.ylabel(\"Frequency\")\n",
    "plt.title(\"Customer Age Histogram\")\n",
    "plt.show()"
   ]
  },
  {
   "cell_type": "code",
   "execution_count": null,
   "metadata": {},
   "outputs": [],
   "source": [
    "# Gender Distribution\n",
    "customer['Gender'].value_counts()"
   ]
  },
  {
   "cell_type": "code",
   "execution_count": null,
   "metadata": {},
   "outputs": [],
   "source": [
    "# Marital Status\n",
    "customer['MaritalStatus'].value_counts()"
   ]
  },
  {
   "cell_type": "code",
   "execution_count": null,
   "metadata": {},
   "outputs": [],
   "source": [
    "# Income Level\n",
    "customer['IncomeLevel'].value_counts()"
   ]
  },
  {
   "cell_type": "code",
   "execution_count": null,
   "metadata": {},
   "outputs": [],
   "source": [
    "plt.figure(figsize=(12,8))\n",
    "\n",
    "# Customer Gender Distribution\n",
    "ax1 = plt.subplot2grid((1,3), (0,0))\n",
    "\n",
    "palette1 = sns.color_palette(\"summer_r\", len(customer['Gender'].unique()))\n",
    "dataGender = customer['Gender'].value_counts().values\n",
    "labelsGender = customer['Gender'].value_counts().index\n",
    "\n",
    "plt.pie(x=dataGender, labels=labelsGender, \n",
    "        autopct=lambda p : '{:.2f}% ({:,.0f})'.format(p,p * sum(dataGender)/100), colors=palette1, shadow=True)\n",
    "# plt.legend(labelsGender, loc='upper right', title='Gender')\n",
    "plt.title(\"Customer Gender Distribution\")\n",
    "\n",
    "# Customer Marital Status\n",
    "ax2 = plt.subplot2grid((1,3), (0,1))\n",
    "\n",
    "palette1 = sns.color_palette(\"summer\", len(customer['MaritalStatus'].unique()))\n",
    "dataMaritalStatus = customer['MaritalStatus'].value_counts().values\n",
    "labelsMaritalStatus = customer['MaritalStatus'].value_counts().index\n",
    "\n",
    "plt.pie(x=dataMaritalStatus, labels=labelsMaritalStatus, \n",
    "        autopct=lambda p : '{:.2f}% ({:,.0f})'.format(p,p * sum(dataMaritalStatus)/100), colors=palette1, shadow=True)\n",
    "# plt.legend(labelsMaritalStatus, loc='upper right', title='Marital Status')\n",
    "plt.title(\"Customer Marital Status\")\n",
    "\n",
    "# Customer Income Level\n",
    "ax3 = plt.subplot2grid((1,3), (0,2))\n",
    "\n",
    "palette1 = sns.color_palette(\"summer\", len(customer['IncomeLevel'].unique()))\n",
    "dataIncomeLevel = customer['IncomeLevel'].value_counts().values\n",
    "labelsIncomeLevel = customer['IncomeLevel'].value_counts().index\n",
    "\n",
    "plt.pie(x=dataIncomeLevel, labels=labelsIncomeLevel, \n",
    "        autopct=lambda p : '{:.2f}% ({:,.0f})'.format(p,p * sum(dataIncomeLevel)/100), colors=palette1, shadow=True)\n",
    "# plt.legend(labelsIncomeLevel, loc='upper right', title='Income Level')\n",
    "plt.title(\"Customer Income Level\")\n",
    "\n",
    "plt.tight_layout()\n",
    "plt.show()"
   ]
  },
  {
   "cell_type": "code",
   "execution_count": null,
   "metadata": {},
   "outputs": [],
   "source": [
    "plt.figure(figsize=(18, 5))\n",
    "\n",
    "# Age vs Gender\n",
    "ax1 = plt.subplot2grid((1,4),(0,0))\n",
    "\n",
    "sns.boxplot(x='Gender', y='Age', data=customer, palette='summer', ax=ax1)\n",
    "plt.title('Age Distribution by Gender')\n",
    "plt.xlabel('Gender')\n",
    "plt.ylabel('Age')\n",
    "\n",
    "# Age vs Marital Status\n",
    "ax2 = plt.subplot2grid((1,4),(0,1))\n",
    "\n",
    "sns.boxplot(x='MaritalStatus', y='Age', data=customer, palette='summer', ax=ax2)\n",
    "plt.title('Age Distribution by Marital Status')\n",
    "plt.xlabel('Marital Status')\n",
    "plt.ylabel('Age')\n",
    "\n",
    "# Age vs Income Level\n",
    "ax3 = plt.subplot2grid((1,4),(0,2))\n",
    "\n",
    "sns.boxplot(x='IncomeLevel', y='Age', data=customer, palette='summer', ax=ax3)\n",
    "plt.title('Age Distribution by Income Level')\n",
    "\n",
    "# Income Level vs Gender\n",
    "ax4 = plt.subplot2grid((1,4),(0,3))\n",
    "\n",
    "sns.countplot(x='IncomeLevel', hue='Gender', data=customer, palette='summer', ax=ax4)\n",
    "plt.title('Income Level Distribution by Gender')\n",
    "\n",
    "plt.tight_layout()\n",
    "plt.show()"
   ]
  },
  {
   "cell_type": "code",
   "execution_count": null,
   "metadata": {},
   "outputs": [],
   "source": [
    "plt.figure(figsize=(15, 4))\n",
    "\n",
    "# Age, Gender, and Income Level\n",
    "ax1 = plt.subplot2grid((1,2),(0,0))\n",
    "\n",
    "sns.boxplot(x='IncomeLevel', y='Age', hue='Gender', data=customer, palette='summer', ax=ax1)\n",
    "plt.legend(loc='upper right', bbox_to_anchor=(1.02, 1))\n",
    "plt.title('Age Distribution by Gender and Income Level')\n",
    "\n",
    "# Age, Marital Status, and Income Level (Heatmap)\n",
    "ax2 = plt.subplot2grid((1,2),(0,1))\n",
    "\n",
    "# Creating a pivot table for heatmap\n",
    "pivot_table = customer.pivot_table(index='MaritalStatus', columns='IncomeLevel', values='Age', aggfunc='mean')\n",
    "sns.heatmap(pivot_table, annot=True, cmap='summer_r', ax=ax2)\n",
    "plt.title('Average Age by Marital Status and Income Level')\n",
    "\n",
    "plt.tight_layout()\n",
    "plt.show()"
   ]
  },
  {
   "cell_type": "markdown",
   "metadata": {},
   "source": [
    "#### Transaction Data EDA:"
   ]
  },
  {
   "cell_type": "code",
   "execution_count": null,
   "metadata": {},
   "outputs": [],
   "source": [
    "# add month column\n",
    "transaction['Month'] = transaction['TransactionDate'].dt.month_name()"
   ]
  },
  {
   "cell_type": "code",
   "execution_count": null,
   "metadata": {},
   "outputs": [],
   "source": [
    "transaction.head()"
   ]
  },
  {
   "cell_type": "code",
   "execution_count": null,
   "metadata": {},
   "outputs": [],
   "source": [
    "# Customers with highest amount spent\n",
    "transaction.groupby(['CustomerID'])['AmountSpent'].sum().sort_values(ascending=False).head(10).reset_index()"
   ]
  },
  {
   "cell_type": "code",
   "execution_count": null,
   "metadata": {},
   "outputs": [],
   "source": [
    "plt.figure(figsize=(18,4))\n",
    "\n",
    "# Amount Spent\n",
    "ax1 = plt.subplot2grid((1,3),(0,0))\n",
    "\n",
    "sns.histplot(transaction['AmountSpent'], bins=20, color='teal', kde=True, ax=ax1)\n",
    "ax1.set_facecolor('black')\n",
    "plt.title('Distribution of Amount Spent')\n",
    "plt.xlabel('Amount Spent')\n",
    "plt.ylabel('Frequency')\n",
    "\n",
    "# Product Category\n",
    "ax2 = plt.subplot2grid((1,3),(0,1))\n",
    "\n",
    "sns.countplot(y=transaction['ProductCategory'], palette='summer', order=transaction['ProductCategory'].value_counts().index, ax=ax2)\n",
    "for i in ax2.containers:\n",
    "    plt.bar_label(i)\n",
    "plt.title('Transaction Count by Product Category')\n",
    "plt.xlabel('Count')\n",
    "plt.ylabel('Product Category')\n",
    "\n",
    "# Transactions by Month\n",
    "ax3 = plt.subplot2grid((1,3),(0,2))\n",
    "\n",
    "sns.countplot(y=transaction['Month'], palette='summer', order=['January', 'February', 'March', 'April', 'May', 'June', 'July', 'August', \n",
    "                                                                'September', 'October', 'November', 'December'])\n",
    "for i in ax3.containers:\n",
    "    plt.bar_label(i)\n",
    "plt.title('Transactions by Month')\n",
    "plt.xlabel('Month')\n",
    "plt.ylabel('Count')\n",
    "\n",
    "plt.tight_layout()\n",
    "plt.show()"
   ]
  },
  {
   "cell_type": "code",
   "execution_count": null,
   "metadata": {},
   "outputs": [],
   "source": [
    "plt.figure(figsize=(15,4))\n",
    "\n",
    "# Amount Spent vs Product Category\n",
    "ax1 = plt.subplot2grid((1,2),(0,0))\n",
    "\n",
    "sns.barplot(y='ProductCategory', x='AmountSpent', data=transaction, \n",
    "            order=transaction.groupby(['ProductCategory'])['AmountSpent'].sum().sort_values(ascending=False).index, \n",
    "            ci=None, estimator=np.sum, palette='summer', ax=ax1)\n",
    "for i in ax1.containers:\n",
    "    plt.bar_label(i)\n",
    "plt.title('Amount Spent by Product Category')\n",
    "plt.ylabel('Product Category')\n",
    "plt.xlabel('Amount Spent')\n",
    "\n",
    "# Amount Spent vs Month\n",
    "ax2 = plt.subplot2grid((1,2),(0,1))\n",
    "\n",
    "sns.barplot(y='Month', x='AmountSpent', data=transaction, order=['January', 'February', 'March', 'April', 'May', 'June', 'July', 'August', \n",
    "                                                                'September', 'October', 'November', 'December'], \n",
    "            ci=None, estimator=np.sum, palette='summer', ax=ax2)\n",
    "for i in ax2.containers:\n",
    "    plt.bar_label(i)\n",
    "plt.title('Amount Spent by Month')\n",
    "plt.ylabel('Month')\n",
    "plt.xlabel('Amount Spent')\n",
    "\n",
    "plt.tight_layout()\n",
    "plt.show()"
   ]
  },
  {
   "cell_type": "code",
   "execution_count": null,
   "metadata": {},
   "outputs": [],
   "source": [
    "plt.figure(figsize=(22,6))\n",
    "\n",
    "# Amount Spent vs Product Category by Month\n",
    "ax1 = plt.subplot2grid((1,2),(0,0))\n",
    "\n",
    "sns.barplot(x='Month', y='AmountSpent', hue='ProductCategory', data=transaction, \n",
    "            order=['January', 'February', 'March', 'April', 'May', 'June', 'July', 'August', 'September', 'October', 'November', 'December'], \n",
    "            ci=None, estimator=np.sum, palette='summer', ax=ax1)\n",
    "plt.title('Amount Spent by Product Category and Month')\n",
    "plt.xlabel('Month')\n",
    "plt.ylabel('Amount Spent')\n",
    "plt.xticks(rotation=45)\n",
    "plt.legend(loc='upper right', bbox_to_anchor=(1.15, 1))\n",
    "\n",
    "# Heatmap of Total Amount Spent per Product Category by Month\n",
    "ax2 = plt.subplot2grid((1,2),(0,1))\n",
    "\n",
    "transaction_copy = transaction.copy()\n",
    "\n",
    "# Define the correct month order\n",
    "month_order = ['January', 'February', 'March', 'April', 'May', 'June', \n",
    "               'July', 'August', 'September', 'October', 'November', 'December']\n",
    "\n",
    "# Convert 'Month' column in the copied data to categorical with the correct order\n",
    "transaction_copy['Month'] = pd.Categorical(transaction_copy['Month'], categories=month_order, ordered=True)\n",
    "\n",
    "# Pivot data for the heatmap (example: pivoting for a heatmap of AmountSpent by Month and ProductCategory)\n",
    "heatmap_data = transaction_copy.pivot_table(index='ProductCategory', columns='Month', values='AmountSpent', aggfunc='sum')\n",
    "\n",
    "# Create the heatmap\n",
    "sns.heatmap(heatmap_data, annot=True, cmap='Blues', fmt='.0f', ax=ax2)\n",
    "plt.title('Heatmap of Total Amount Spent by Product Category and Month')\n",
    "plt.xlabel('Month')\n",
    "plt.ylabel('Product Category')\n",
    "plt.xticks(rotation=45)\n",
    "\n",
    "plt.tight_layout()\n",
    "plt.show()"
   ]
  },
  {
   "cell_type": "markdown",
   "metadata": {},
   "source": [
    "#### Service Data EDA:"
   ]
  },
  {
   "cell_type": "code",
   "execution_count": null,
   "metadata": {},
   "outputs": [],
   "source": [
    "service['Int_Month'] = service['InteractionDate'].dt.month_name()\n",
    "service.head()"
   ]
  },
  {
   "cell_type": "code",
   "execution_count": null,
   "metadata": {},
   "outputs": [],
   "source": [
    "plt.figure(figsize=(12,4))\n",
    "\n",
    "# Distribution of InteractionType\n",
    "ax1 = plt.subplot2grid((1,2),(0,0))\n",
    "\n",
    "sns.countplot(data=service, y='InteractionType', palette='crest', ax=ax1)\n",
    "for i in ax1.containers:\n",
    "    plt.bar_label(i)\n",
    "plt.title('Distribution of Interaction Types')\n",
    "plt.xticks(rotation=45)\n",
    "\n",
    "# Distribution of ResolutionStatus\n",
    "ax2 = plt.subplot2grid((1,2),(0,1))\n",
    "\n",
    "sns.countplot(data=service, y='ResolutionStatus', palette='crest', ax=ax2)\n",
    "for i in ax2.containers:\n",
    "    plt.bar_label(i)\n",
    "plt.title('Distribution of Resolution Status')\n",
    "\n",
    "plt.tight_layout()\n",
    "plt.show()"
   ]
  },
  {
   "cell_type": "code",
   "execution_count": null,
   "metadata": {},
   "outputs": [],
   "source": [
    "plt.figure(figsize=(15,4))\n",
    "\n",
    "# Interaction Type vs. Resolution Status\n",
    "ax1 = plt.subplot2grid((1,2),(0,0))\n",
    "\n",
    "sns.countplot(data=service, x='InteractionType', hue='ResolutionStatus', palette='summer', ax=ax1)\n",
    "for i in ax1.containers:\n",
    "    plt.bar_label(i)\n",
    "plt.title('Interaction Type vs Resolution Status')\n",
    "plt.xticks(rotation=45)\n",
    "plt.legend(title='Resolution Status', bbox_to_anchor=(0.98, 1), loc='upper left')\n",
    "\n",
    "# Month vs. Interaction Count\n",
    "ax2 = plt.subplot2grid((1,2),(0,1))\n",
    "\n",
    "sns.countplot(data=service, x='Int_Month', palette='summer', order=['January', 'February', 'March', 'April', 'May', 'June', 'July', 'August', \n",
    "                                                                'September', 'October', 'November', 'December'], ax=ax2)\n",
    "for i in ax2.containers:\n",
    "    plt.bar_label(i)\n",
    "plt.title('Interactions per Month')\n",
    "plt.xticks(rotation=45)\n",
    "\n",
    "plt.tight_layout()\n",
    "plt.show()"
   ]
  },
  {
   "cell_type": "code",
   "execution_count": null,
   "metadata": {},
   "outputs": [],
   "source": [
    "# Heatmap of Interaction Type, Resolution Status, and Month\n",
    "# Pivot data for heatmap\n",
    "month_order = ['January', 'February', 'March', 'April', 'May', 'June', \n",
    "               'July', 'August', 'September', 'October', 'November', 'December']\n",
    "service_copy = service.copy()\n",
    "service_copy['Int_Month'] = pd.Categorical(service_copy['Int_Month'], categories=month_order, ordered=True)\n",
    "heatmap_data = service_copy.pivot_table(index='InteractionType', columns='Int_Month', values='ResolutionStatus', aggfunc='count')\n",
    "\n",
    "plt.figure(figsize=(12,5))\n",
    "sns.heatmap(heatmap_data, annot=True, cmap='summer_r', fmt='.0f')\n",
    "plt.title('Heatmap of Interactions by Type and Month')\n",
    "plt.xlabel('Month')\n",
    "plt.ylabel('Interaction Type')\n",
    "plt.xticks(rotation=45)\n",
    "plt.tight_layout()\n",
    "plt.show()"
   ]
  },
  {
   "cell_type": "markdown",
   "metadata": {},
   "source": [
    "#### Activity Data EDA:"
   ]
  },
  {
   "cell_type": "code",
   "execution_count": null,
   "metadata": {},
   "outputs": [],
   "source": [
    "activity['Log_Month'] = activity['LastLoginDate'].dt.month_name()\n",
    "activity.head()"
   ]
  },
  {
   "cell_type": "code",
   "execution_count": null,
   "metadata": {},
   "outputs": [],
   "source": [
    "plt.figure(figsize=(15,5))\n",
    "\n",
    "# Distribution of LoginFrequency\n",
    "ax1 = plt.subplot2grid((1,2),(0,0))\n",
    "\n",
    "sns.histplot(data=activity, x='LoginFrequency', kde=True, bins=20, color='teal', ax=ax1)\n",
    "ax1.set_facecolor('black')\n",
    "plt.title('Distribution of Login Frequency', fontsize=14)\n",
    "plt.xlabel('Login Frequency')\n",
    "plt.ylabel('Count')\n",
    "\n",
    "# Count of ServiceUsage categories\n",
    "ax2 = plt.subplot2grid((1,2),(0,1))\n",
    "\n",
    "sns.countplot(data=activity, x='ServiceUsage', palette='summer', ax=ax2)\n",
    "for i in ax2.containers:\n",
    "    plt.bar_label(i)\n",
    "plt.title('Service Usage Count', fontsize=14)\n",
    "plt.xlabel('Service Usage')\n",
    "plt.ylabel('Count')\n",
    "\n",
    "plt.tight_layout()\n",
    "plt.show()"
   ]
  },
  {
   "cell_type": "code",
   "execution_count": null,
   "metadata": {},
   "outputs": [],
   "source": [
    "plt.figure(figsize=(15,5))\n",
    "\n",
    "# Login Frequency vs. Service Usage\n",
    "ax1 = plt.subplot2grid((1,2),(0,0))\n",
    "\n",
    "sns.barplot(data=activity, x='ServiceUsage', y='LoginFrequency', palette='summer', ci=None, estimator=np.sum, ax=ax1)\n",
    "for i in ax1.containers:\n",
    "    plt.bar_label(i)\n",
    "plt.title('Login Frequency by Service Usage', fontsize=14)\n",
    "plt.xlabel('Service Usage')\n",
    "plt.ylabel('Login Frequency')\n",
    "\n",
    "# Login Frequency over Time (by month)\n",
    "ax2 = plt.subplot2grid((1,2),(0,1))\n",
    "\n",
    "# Define the order of months\n",
    "month_order = ['January', 'February', 'March', 'April', 'May', 'June', \n",
    "               'July', 'August', 'September', 'October', 'November', 'December']\n",
    "\n",
    "# Group by Month in the correct order and calculate the mean LoginFrequency\n",
    "monthly_login = activity.groupby('Log_Month', sort=False)['LoginFrequency'].mean().reset_index()\n",
    "\n",
    "# Sort the DataFrame by month using the predefined order\n",
    "monthly_login['Log_Month'] = pd.Categorical(monthly_login['Log_Month'], categories=month_order, ordered=True)\n",
    "monthly_login = monthly_login.sort_values('Log_Month')\n",
    "\n",
    "sns.lineplot(data=monthly_login, x='Log_Month', y='LoginFrequency', marker='o', color='teal', ax=ax2)\n",
    "ax2.set_facecolor('black')\n",
    "plt.title('Average Login Frequency Over Time', fontsize=14)\n",
    "plt.xlabel('Month')\n",
    "plt.ylabel('Average Login Frequency')\n",
    "plt.xticks(rotation=45)\n",
    "\n",
    "plt.tight_layout()\n",
    "plt.show()"
   ]
  },
  {
   "cell_type": "code",
   "execution_count": null,
   "metadata": {},
   "outputs": [],
   "source": [
    "# Heatmap for Service Usage, Month, and Login Frequency\n",
    "month_order = ['January', 'February', 'March', 'April', 'May', 'June', \n",
    "               'July', 'August', 'September', 'October', 'November', 'December']\n",
    "activity_copy= activity.copy()\n",
    "activity_copy['Log_Month'] = pd.Categorical(activity_copy['Log_Month'], categories=month_order, ordered=True)\n",
    "heatmap_data = activity_copy.pivot_table(index='ServiceUsage', columns='Log_Month', values='LoginFrequency', aggfunc='mean')\n",
    "\n",
    "plt.figure(figsize=(10, 4))\n",
    "sns.heatmap(heatmap_data, cmap='summer_r', annot=True, fmt='.2f')\n",
    "plt.title('Average Login Frequency by Service Usage and Month', fontsize=14)\n",
    "plt.xlabel('Log_Month')\n",
    "plt.ylabel('Service Usage')\n",
    "plt.show()"
   ]
  },
  {
   "cell_type": "markdown",
   "metadata": {},
   "source": [
    "#### Churn Data EDA:"
   ]
  },
  {
   "cell_type": "code",
   "execution_count": null,
   "metadata": {},
   "outputs": [],
   "source": [
    "churn.head()"
   ]
  },
  {
   "cell_type": "code",
   "execution_count": null,
   "metadata": {},
   "outputs": [],
   "source": [
    "# Churn Status\n",
    "plt.figure(figsize=(10,4))\n",
    "palette1 = sns.color_palette(\"summer\", len(churn['ChurnStatus'].unique()))\n",
    "dataChurnStatus = churn['ChurnStatus'].value_counts().values\n",
    "labelsChurnStatus = churn['ChurnStatus'].value_counts().index\n",
    "\n",
    "plt.pie(x=dataChurnStatus, labels=labelsChurnStatus, \n",
    "        autopct=lambda p : '{:.2f}% ({:,.0f})'.format(p,p * sum(dataChurnStatus)/100), colors=palette1, shadow=True)\n",
    "plt.legend(labelsChurnStatus, loc='upper right', title='Churn Status', bbox_to_anchor=(1.2, 1))\n",
    "plt.title(\"Churn Status\")\n",
    "plt.show()"
   ]
  },
  {
   "cell_type": "markdown",
   "metadata": {},
   "source": [
    "#### Merged Data EDA:"
   ]
  },
  {
   "cell_type": "code",
   "execution_count": null,
   "metadata": {},
   "outputs": [],
   "source": [
    "plt.figure(figsize=(12,5))\n",
    "\n",
    "# Income Level vs. Amount Spent\n",
    "income_spending = final_df.groupby('IncomeLevel')['AmountSpent'].mean().reset_index()\n",
    "\n",
    "ax1 = plt.subplot2grid((1,2),(0,0))\n",
    "\n",
    "sns.barplot(data=income_spending, x='IncomeLevel', y='AmountSpent', palette='summer', ax=ax1)\n",
    "for i in ax1.containers:\n",
    "    plt.bar_label(i)\n",
    "plt.title('Average Amount Spent by Income Level')\n",
    "plt.xlabel('Income Level')\n",
    "plt.ylabel('Average Amount Spent')\n",
    "plt.xticks(rotation=45)\n",
    "\n",
    "# Service Usage vs. Churn Status\n",
    "\n",
    "ax2 = plt.subplot2grid((1,2),(0,1))\n",
    "\n",
    "sns.countplot(data=final_df, x='ServiceUsage', hue='ChurnStatus', palette='summer', ax=ax2)\n",
    "for i in ax2.containers:\n",
    "    plt.bar_label(i)\n",
    "plt.title('Service Usage vs Churn Status')\n",
    "plt.xlabel('Service Usage')\n",
    "plt.ylabel('Count')\n",
    "\n",
    "plt.tight_layout()\n",
    "plt.show()"
   ]
  },
  {
   "cell_type": "code",
   "execution_count": null,
   "metadata": {},
   "outputs": [],
   "source": [
    "plt.figure(figsize=(12, 8))\n",
    "\n",
    "# Heatmap: Gender, Marital Status, and Churn\n",
    "gender_marital_churn = final_df.groupby(['Gender', 'MaritalStatus'])['ChurnStatus'].mean().unstack()\n",
    "\n",
    "ax1 = plt.subplot2grid((2,2),(0,0))\n",
    "\n",
    "sns.heatmap(gender_marital_churn, annot=True, cmap='summer', linewidths=0.5, ax=ax1)\n",
    "plt.title('Churn Status by Gender and Marital Status')\n",
    "plt.xlabel('Marital Status')\n",
    "plt.ylabel('Gender')\n",
    "\n",
    "# Gender vs. Average Amount Spent\n",
    "\n",
    "gender_spent = final_df.groupby('Gender')['AmountSpent'].mean().reset_index()\n",
    "\n",
    "ax2 = plt.subplot2grid((2,2),(0,1))\n",
    "\n",
    "sns.barplot(x='Gender', y='AmountSpent', data=gender_spent, palette='summer', ax=ax2)\n",
    "for i in ax2.containers:\n",
    "    plt.bar_label(i)\n",
    "plt.title('Average Amount Spent by Gender', fontsize=14)\n",
    "plt.xlabel('Gender')\n",
    "plt.ylabel('Average Amount Spent')\n",
    "\n",
    "# Resolution Status vs. Churn Status\n",
    "\n",
    "gender_spent = final_df.groupby('Gender')['AmountSpent'].mean().reset_index()\n",
    "\n",
    "ax3 = plt.subplot2grid((2,2),(1,0))\n",
    "\n",
    "sns.countplot(data=final_df, x='ResolutionStatus', hue='ChurnStatus', palette='summer', ax=ax3)\n",
    "for i in ax3.containers:\n",
    "    plt.bar_label(i)\n",
    "plt.title('Resolution Status vs. Churn Status', fontsize=14)\n",
    "plt.xlabel('Resolution Status')\n",
    "plt.ylabel('Count')\n",
    "plt.legend(title='Churn Status', loc='upper right')\n",
    "\n",
    "# Customer Interaction Type vs. Churn Status\n",
    "\n",
    "ax4 = plt.subplot2grid((2,2),(1,1))\n",
    "\n",
    "sns.countplot(data=final_df, x='InteractionType', hue='ChurnStatus', palette='summer', ax=ax4)\n",
    "for i in ax4.containers:\n",
    "    plt.bar_label(i)\n",
    "plt.title('Interaction Type vs. Churn Status', fontsize=14)\n",
    "plt.xlabel('Interaction Type')\n",
    "plt.ylabel('Count')\n",
    "plt.legend(title='Churn Status', bbox_to_anchor=(1.05, 1), loc='upper right')\n",
    "plt.xticks(rotation=45)\n",
    "\n",
    "plt.tight_layout()\n",
    "plt.show()\n"
   ]
  }
 ],
 "metadata": {
  "kernelspec": {
   "display_name": "Python 3",
   "language": "python",
   "name": "python3"
  },
  "language_info": {
   "codemirror_mode": {
    "name": "ipython",
    "version": 3
   },
   "file_extension": ".py",
   "mimetype": "text/x-python",
   "name": "python",
   "nbconvert_exporter": "python",
   "pygments_lexer": "ipython3",
   "version": "3.9.18"
  }
 },
 "nbformat": 4,
 "nbformat_minor": 2
}
