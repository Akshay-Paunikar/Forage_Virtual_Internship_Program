{
 "cells": [
  {
   "cell_type": "markdown",
   "metadata": {},
   "source": [
    "<h2>Task 1: Data gathering and exploratory analysis</h2>\n",
    "\n",
    "Enhance Customer retention strategies by mastering data analysis and uncovering key insights into customer behaviour\n",
    "\n",
    "<h3>Task overview:</h3>\n",
    "\n",
    "Welcome! In this task, you will focus on gathering and analysing data to understand customer behaviour, with the goal of uncovering key insights that will inform the development of a predictive model for customer churn.\n",
    "\n",
    "<b>What you'll learn:</b>\n",
    "\n",
    " - Techniques for identifying and collecting relevant data from various sources\n",
    " - Methods for performing exploratory data analysis (EDA) to uncover patterns and insights\n",
    " - Best practices for cleaning and preparing data for machine learning models\n",
    "\n",
    "<b>What you'll do:</b>\n",
    "\n",
    " - Identify and gather data from provided sources relevant to predicting customer churn\n",
    " - Perform EDA to understand the data and identify key features\n",
    " - Clean and preprocess the data to ensure it is ready for model building\n",
    "\n",
    "<h3>Let's get started:</h3>\n",
    "\n",
    "As you step into the role of a data science graduate at Lloyds Banking Group, you're immediately thrust into a real-world scenario with significant implications for our business. The Data Science & Analytics team, under the leadership of Li, a seasoned senior data scientist, is currently grappling with a critical project: predicting customer churn to enhance retention strategies.\n",
    "\n",
    "Li briefs you on the situation, \"We've observed a worrying trend of customers, particularly young professionals and small business owners, leaving for competitors. This project aims to reverse that trend by identifying at-risk customers and implementing targeted interventions.\"\n",
    "\n",
    "Your task is crucial. You'll begin by gathering and analysing data to understand the factors contributing to customer churn to uncover actionable insights that can inform strategic decisions. The pressure is on, as SmartBank, a key subsidiary, has reported a decline in retention rates, and there's mounting pressure from senior management to deliver solutions swiftly.\n",
    "\n",
    "Li emphasises the importance of this task, noting, \"Our findings will directly impact the strategies we deploy to retain our customers. We need accurate, insightful analysis to inform these strategies.\"\n",
    "\n",
    "You're not alone in this; the team is here to guide and support you. This is your opportunity to apply your skills, contributing to a project that could shape the future of customer engagement at Lloyds.\n",
    "\n",
    "<h3>Techniques for identifying and collecting data:</h3>\n",
    "\n",
    "<h4>Understanding the data landscape:</h4>\n",
    "\n",
    "The first step in data collection is to understand the landscape of available data. In a corporate environment, data can come from a variety of sources, including internal databases, customer relationship management (CRM) systems, financial records, web analytics, and external data sets. Knowing where data resides and how it can be accessed is crucial for gathering relevant information efficiently.\n",
    "\n",
    "<h4>Defining data requirements:</h4>\n",
    "\n",
    "Clearly define what you need to know before you begin. To predict customer churn, identify key variables such as customer demographics, transaction history, customer service interactions, and usage patterns. This will help focus your efforts on collecting the most relevant and useful data for your analysis.\n",
    "\n",
    "<h4>Data collection methods:</h4>\n",
    "\n",
    "Data can be collected through several methods:\n",
    "\n",
    " - <b>Primary data collection:</b> This involves gathering data directly from the source. For example, conducting surveys and interviews, or direct observation. While primary data is specific and relevant, it can be time-consuming and costly to obtain.\n",
    " - <b>Secondary data collection:</b> Involves using existing data collected for another purpose. This could include historical data, third-party data sets, or data obtained from public sources. Secondary data is often easier and quicker to access but may require more careful consideration to ensure its relevance and accuracy.\n",
    " - <b>Automated data collection:</b> Using tools such as web scraping, application programming interfaces (APIs), or data integration platforms to automatically gather data from online sources or databases. This method is efficient for collecting large volumes of data and keeping it up-to-date.\n",
    "\n",
    "<h4>Evaluating data quality:</h4>\n",
    "\n",
    "Once data is collected, it's essential to evaluate its quality. Consider the following aspects:\n",
    "\n",
    " - <b>Accuracy:</b> Ensure that the data accurately reflects the real-world scenarios you are studying.\n",
    " - <b>Completeness:</b> Check for missing values or incomplete records that might skew your analysis.\n",
    " - <b>Consistency:</b> Ensure that data is consistent across different sources and time periods.\n",
    " - <b>Timeliness:</b> Data should be current and relevant to the time frame of your analysis.\n",
    "\n",
    "<h4>Data integration and storage:</h4>\n",
    "\n",
    "After collecting data from various sources, the next step is to integrate it into a cohesive data set. This may involve merging data sets, transforming data formats, or cleaning data to ensure uniformity. Once integrated, store the data securely, ensuring that it is organised and easily accessible for analysis.\n",
    "\n",
    "By mastering these techniques, you'll be well-prepared to gather and utilise data effectively, setting the stage for a successful data analysis project.\n",
    "\n",
    "<h3>Methods for performing exploratory data analysis to uncover patterns and insights:</h3>\n",
    "\n",
    "Exploratory data analysis (EDA) is a crucial stage in the data science process. It allows you to understand the underlying configuration of your data and identify key patterns and relationships. EDA involves using statistical techniques and data visualisation to summarise the main characteristics of the data set.\n",
    "\n",
    "<h4>Descriptive statistics:</h4>\n",
    "\n",
    "Begin your EDA by calculating descriptive statistics, which provide a summary of the basic features of your data. Key metrics include:\n",
    "\n",
    " - <b>Mean, median, and mode:</b> These measures of central tendency help you understand the typical value in your data set.\n",
    " - <b>Standard deviation and variance:</b> These metrics indicate the spread or dispersion of your data, showing how much variation exists from the average.\n",
    " - <b>Min, max, and range:</b> These values provide insights into the bounds of your data, highlighting any potential outliers.\n",
    "\n",
    "<h4>Data visualisation:</h4>\n",
    "\n",
    "Visualisation is a powerful tool in EDA, helping you to quickly grasp complex data distributions and relationships. Common visualisation techniques include:\n",
    "\n",
    " - <b>Histograms and density plots:</b> Useful for understanding the distribution of a single variable, including its central tendency and spread.\n",
    " - <b>Box plots:</b> Help identify the spread and outliers in your data by showing the quartiles and median.\n",
    " - <b>Scatter plots:</b> Ideal for examining relationships between two continuous variables, helping you identify potential correlations or trends.\n",
    " - <b>Bar charts and heatmaps:</b> Useful for categorical data, showing the frequency or proportion of categories and the relationships between categorical variables.\n",
    "\n",
    "<h4>Correlation analysis:</h4>\n",
    "\n",
    "To uncover relationships between variables, perform a correlation analysis. This involves calculating correlation coefficients, such as Pearson’s or Spearman’s, which quantify the strength and direction of the relationship between variables. Understanding these correlations can help you identify key predictors of customer churn.\n",
    "\n",
    "<h4>Data profiling and anomaly detection:</h4>\n",
    "\n",
    "Data profiling involves examining data for anomalies, missing values, or inconsistencies. This phase is essential for ensuring data quality before proceeding to model building. Look for patterns in missing data, which could indicate underlying data collection issues or important missing information.\n",
    "\n",
    "<h4>Hypothesis generation:</h4>\n",
    "\n",
    "Based on the insights gained from descriptive statistics and visualisations, formulate hypotheses about your data. For example, you might hypothesise that high customer service interaction frequency is related to increased churn rates. These hypotheses can guide your subsequent analysis and model-building efforts.\n",
    "\n",
    "Employing these methods can help you uncover critical insights from your data, guiding your understanding and informing your decision-making process as you prepare for more advanced data analysis stages.\n",
    "\n",
    "<h3>Best practices for cleaning and preparing data for machine learning models:</h3>\n",
    "\n",
    "Properly cleaning and preparing data is essential for building reliable and accurate machine learning models. This process ensures that the data used in model training is of high quality, which directly impacts the model's performance.\n",
    "\n",
    "<h4>Handling missing data:</h4>\n",
    "\n",
    "Missing data is a typical problem that can significantly affect your model's accuracy. Here are a few strategies to address this problem:\n",
    "\n",
    " - <b>Imputation:</b> Replace missing values with a statistical measure such as the mean, median, or mode of the column. For categorical variables, the most frequent category can be used.\n",
    " - <b>Deletion:</b> Remove rows or columns with missing values, particularly if the proportion of missing data is small. However, this should be done cautiously to avoid losing valuable information.\n",
    " - <b>Flagging:</b> Create a new binary column that flags whether data was missing in the original data set. This can help your model learn if the absence of data is itself informative.\n",
    "\n",
    "<h4>Outlier detection and treatment:</h4>\n",
    "\n",
    "Outliers can skew the results of your machine-learning model. Use visualisation techniques like box plots or statistical methods to detect outliers. Once identified, you can:\n",
    "\n",
    " - <b>Remove outliers:</b> If they are caused by data entry errors or are not relevant to the analysis.\n",
    " - <b>Cap outliers:</b> Set a threshold beyond which data is capped. This technique minimises the influence of extreme values without removing data points entirely.\n",
    "\n",
    "<h4>Normalisation and standardisation:</h4>\n",
    "\n",
    "Data normalisation and standardisation are techniques used to ensure that numerical features contribute equally to the model's learning process. These processes involve:\n",
    "\n",
    " - <b>Normalisation:</b> Rescaling the values of numeric features to a common scale, typically [0, 1]. This is useful when features have different units or scales.\n",
    " - <b>Standardisation:</b> Transforming data to have a mean of zero and a standard deviation of one. This process is particularly useful when the data follows a Gaussian distribution.\n",
    "\n",
    "<h4>Encoding categorical variables:</h4>\n",
    "\n",
    "Machine learning models require numerical input, making it necessary to convert categorical data into numerical form. Common methods include:\n",
    "\n",
    " - <b>One-hot encoding:</b> Creating binary columns for each category in a categorical feature. This method prevents the model from assuming any ordinal relationship between categories.\n",
    " - <b>Label encoding:</b> Converting each category to a numerical value. This method is simpler but should be used with caution as it can imply an ordinal relationship where none exists.\n",
    "\n",
    "<h4>Feature engineering and selection:</h4>\n",
    "\n",
    "Creating new features from the existing data (feature engineering) and selecting the most relevant features (feature selection) can significantly improve model performance. Techniques include:\n",
    "\n",
    " - <b>Creating interaction features:</b> Combining two or more features to capture interactions.\n",
    " - <b>Feature scaling:</b> Adjusting the range of features to ensure they contribute equally to the model.\n",
    " - <b>Dimensionality reduction:</b> Using methods such as principal component analysis (PCA) to reduce the number of features, which can improve model performance and reduce overfitting.\n",
    "\n",
    "By adhering to these best practices, you'll ensure that your data set is clean, well-prepared, and optimised for building effective machine learning models. This foundational work is crucial for achieving accurate and reliable predictions in your project.\n",
    "\n",
    "<h3>Data gathering and exploratory analysis:</h3>\n",
    "\n",
    "Now that you've been introduced to the scenario and the importance of this project, it's time to roll up your sleeves and get started. This task will challenge you to apply your data science skills in a real-world context, helping you connect theoretical knowledge and practical application.\n",
    "\n",
    "<h4>Data collection: start with relevance</h4>\n",
    "\n",
    "Your first step is to identify and gather relevant data that will provide insights into customer churn. Focus on data that can help you understand customer behaviour, such as demographics, transaction history, and customer service interactions. Remember, the goal is to collect data that is pertinent to the problem at hand. Approach this step with a critical eye, considering how each piece of data might contribute to understanding why customers are leaving.\n",
    "\n",
    "<h4>EDA: discover patterns and insights</h4>\n",
    "\n",
    "Once you've collected the data, the next step is to perform EDA. This phase is crucial as it helps you uncover patterns, identify anomalies, and understand the data's structure. Use visual tools such as histograms, scatter plots, and heat maps to explore relationships between variables. Pay close attention to trends that might indicate early signs of churn, such as decreased usage frequency or increased interaction with customer service.\n",
    "\n",
    "EDA is not just a technical exercise; it's an opportunity to hypothesise the underlying causes of churn. For example, if you notice that customers who engage less with your digital services are more likely to churn, this insight could inform targeted retention strategies. Your analysis should be thorough and well-documented, providing a clear narrative that connects your findings to potential business actions.\n",
    "\n",
    "<h4>Data cleaning and preparation: ensuring quality</h4>\n",
    "\n",
    "The quality of your data affects the reliability of your predictive model. In this stage, focus on cleaning and preparing your data set. Handle missing values appropriately, either through imputation or removal, and ensure that all variables are in a consistent format. Normalising or standardising your data may be necessary, especially if the data includes variables with different scales. This step is about precision and care; small errors can lead to significant inaccuracies in your model.\n",
    "\n",
    "As you work through these activities, keep the broader project goals in mind. Your findings from EDA and your cleaned data set will form the foundation for building a robust predictive model. This model will help SmartBank not only understand current churn rates but also anticipate and mitigate future risks, directly influencing customer retention strategies.\n",
    "\n",
    "<h4>Why accuracy and thorough understanding matter?</h4>\n",
    "\n",
    "Your work in this task is not just about completing an assignment; it's about developing a deep, practical understanding of data science in action. Accuracy and thorough understanding are crucial, as the insights you derive will inform strategic decisions at SmartBank. The quality of your analysis could mean the difference between retaining valuable customers and losing them to competitors.\n",
    "\n",
    "Approach each step with diligence and an analytical mindset. This is your opportunity to make a tangible impact on a real-world problem, honing your skills in the process. Embrace the challenge, knowing that your contributions are vital to the project's success.\n",
    "\n",
    "<h3>Task instructions:</h3>\n",
    "\n",
    "<h4>Introduction:</h4>\n",
    "\n",
    "In this task, you will take the first critical steps toward building a predictive model for customer churn. Your work will involve gathering relevant data, conducting EDA, and preparing the data set for model development. These activities are foundational for ensuring the accuracy and reliability of your subsequent analysis and predictions.\n",
    "\n",
    "<h4>Instructions:</h4>\n",
    "\n",
    "<b>Identify and gather data:</b>\n",
    "\n",
    " - Review the provided data sources and select those most relevant for predicting customer churn. Focus on key areas such as customer demographics, transaction history, and customer service interactions.\n",
    " - Document your selection criteria and rationale for choosing each data set, ensuring that the data will provide meaningful insights into customer behaviour.\n",
    "\n",
    "<b>Perform EDA:</b>\n",
    "\n",
    " - Use statistical techniques and data visualisation tools to explore the data sets. Create visualisations such as histograms, scatter plots, and box plots to understand distributions, trends, and relationships between variables.\n",
    " - Identify key features that may influence customer churn, paying special attention to patterns or anomalies that could be significant.\n",
    "\n",
    "<b>Clean and preprocess the data:</b>\n",
    "\n",
    " - Handle missing values by choosing appropriate methods such as imputation, removal, or flagging. Justify your chosen method based on the data and context.\n",
    " - Detect and address outliers that could skew the analysis or predictions. Decide whether to cap, transform, or remove outliers based on their nature and potential impact.\n",
    " - Standardise or normalise numerical features to ensure consistent scales across variables. This step is crucial for preparing the data for machine learning algorithms.\n",
    " - Encode categorical variables using techniques like one-hot encoding to transform them into a numerical form appropriate for analysis.\n",
    "\n",
    "<b>Deliverable:</b>\n",
    "\n",
    " - <b>File submission:</b> Submit a comprehensive report detailing your data gathering, EDA, and data cleaning processes. The report should include:\n",
    "\n",
    "    - A summary of the data sets selected and the rationale for their inclusion\n",
    "    - Visualisations and statistical summaries from the EDA\n",
    "    - A description of the data cleaning and preprocessing steps taken\n",
    "    - The cleaned and preprocessed data set ready for model building\n",
    "\n",
    "Ensure that your report is clear, concise, and well-organised, as it will be a key component of the project's success, guiding future analysis and model development."
   ]
  },
  {
   "cell_type": "code",
   "execution_count": 48,
   "metadata": {},
   "outputs": [],
   "source": [
    "# import required libraries\n",
    "import numpy as np\n",
    "import pandas as pd\n",
    "import matplotlib.pyplot as plt\n",
    "%matplotlib inline\n",
    "import seaborn as sns"
   ]
  },
  {
   "cell_type": "code",
   "execution_count": 49,
   "metadata": {},
   "outputs": [
    {
     "name": "stdout",
     "output_type": "stream",
     "text": [
      "Customer_Demographics:  (1000, 5)\n",
      "Transaction_History:  (5054, 5)\n",
      "Customer_Service:  (1002, 5)\n",
      "Online_Activity:  (1000, 4)\n",
      "Churn_Status:  (1000, 2)\n"
     ]
    }
   ],
   "source": [
    "# read the dataset\n",
    "customer = pd.read_excel(\"Customer_Churn_Data_Large.xlsx\", sheet_name=\"Customer_Demographics\")\n",
    "transaction = pd.read_excel(\"Customer_Churn_Data_Large.xlsx\", sheet_name=\"Transaction_History\")\n",
    "service = pd.read_excel(\"Customer_Churn_Data_Large.xlsx\", sheet_name=\"Customer_Service\")\n",
    "activity = pd.read_excel(\"Customer_Churn_Data_Large.xlsx\", sheet_name=\"Online_Activity\")\n",
    "churn = pd.read_excel(\"Customer_Churn_Data_Large.xlsx\", sheet_name=\"Churn_Status\")\n",
    "\n",
    "\n",
    "\n",
    "# dimensions of data\n",
    "print(\"Customer_Demographics: \", customer.shape)\n",
    "print(\"Transaction_History: \", transaction.shape)\n",
    "print(\"Customer_Service: \", service.shape)\n",
    "print(\"Online_Activity: \", activity.shape)\n",
    "print(\"Churn_Status: \", churn.shape)\n"
   ]
  },
  {
   "cell_type": "code",
   "execution_count": 50,
   "metadata": {},
   "outputs": [
    {
     "data": {
      "text/html": [
       "<div>\n",
       "<style scoped>\n",
       "    .dataframe tbody tr th:only-of-type {\n",
       "        vertical-align: middle;\n",
       "    }\n",
       "\n",
       "    .dataframe tbody tr th {\n",
       "        vertical-align: top;\n",
       "    }\n",
       "\n",
       "    .dataframe thead th {\n",
       "        text-align: right;\n",
       "    }\n",
       "</style>\n",
       "<table border=\"1\" class=\"dataframe\">\n",
       "  <thead>\n",
       "    <tr style=\"text-align: right;\">\n",
       "      <th></th>\n",
       "      <th>CustomerID</th>\n",
       "      <th>Age</th>\n",
       "      <th>Gender</th>\n",
       "      <th>MaritalStatus</th>\n",
       "      <th>IncomeLevel</th>\n",
       "    </tr>\n",
       "  </thead>\n",
       "  <tbody>\n",
       "    <tr>\n",
       "      <th>0</th>\n",
       "      <td>1</td>\n",
       "      <td>62</td>\n",
       "      <td>M</td>\n",
       "      <td>Single</td>\n",
       "      <td>Low</td>\n",
       "    </tr>\n",
       "    <tr>\n",
       "      <th>1</th>\n",
       "      <td>2</td>\n",
       "      <td>65</td>\n",
       "      <td>M</td>\n",
       "      <td>Married</td>\n",
       "      <td>Low</td>\n",
       "    </tr>\n",
       "    <tr>\n",
       "      <th>2</th>\n",
       "      <td>3</td>\n",
       "      <td>18</td>\n",
       "      <td>M</td>\n",
       "      <td>Single</td>\n",
       "      <td>Low</td>\n",
       "    </tr>\n",
       "    <tr>\n",
       "      <th>3</th>\n",
       "      <td>4</td>\n",
       "      <td>21</td>\n",
       "      <td>M</td>\n",
       "      <td>Widowed</td>\n",
       "      <td>Low</td>\n",
       "    </tr>\n",
       "    <tr>\n",
       "      <th>4</th>\n",
       "      <td>5</td>\n",
       "      <td>21</td>\n",
       "      <td>M</td>\n",
       "      <td>Divorced</td>\n",
       "      <td>Medium</td>\n",
       "    </tr>\n",
       "  </tbody>\n",
       "</table>\n",
       "</div>"
      ],
      "text/plain": [
       "   CustomerID  Age Gender MaritalStatus IncomeLevel\n",
       "0           1   62      M        Single         Low\n",
       "1           2   65      M       Married         Low\n",
       "2           3   18      M        Single         Low\n",
       "3           4   21      M       Widowed         Low\n",
       "4           5   21      M      Divorced      Medium"
      ]
     },
     "execution_count": 50,
     "metadata": {},
     "output_type": "execute_result"
    }
   ],
   "source": [
    "# check the records\n",
    "customer.head()"
   ]
  },
  {
   "cell_type": "code",
   "execution_count": 51,
   "metadata": {},
   "outputs": [
    {
     "data": {
      "text/html": [
       "<div>\n",
       "<style scoped>\n",
       "    .dataframe tbody tr th:only-of-type {\n",
       "        vertical-align: middle;\n",
       "    }\n",
       "\n",
       "    .dataframe tbody tr th {\n",
       "        vertical-align: top;\n",
       "    }\n",
       "\n",
       "    .dataframe thead th {\n",
       "        text-align: right;\n",
       "    }\n",
       "</style>\n",
       "<table border=\"1\" class=\"dataframe\">\n",
       "  <thead>\n",
       "    <tr style=\"text-align: right;\">\n",
       "      <th></th>\n",
       "      <th>CustomerID</th>\n",
       "      <th>TransactionID</th>\n",
       "      <th>TransactionDate</th>\n",
       "      <th>AmountSpent</th>\n",
       "      <th>ProductCategory</th>\n",
       "    </tr>\n",
       "  </thead>\n",
       "  <tbody>\n",
       "    <tr>\n",
       "      <th>0</th>\n",
       "      <td>1</td>\n",
       "      <td>7194</td>\n",
       "      <td>2022-03-27</td>\n",
       "      <td>416.50</td>\n",
       "      <td>Electronics</td>\n",
       "    </tr>\n",
       "    <tr>\n",
       "      <th>1</th>\n",
       "      <td>2</td>\n",
       "      <td>7250</td>\n",
       "      <td>2022-08-08</td>\n",
       "      <td>54.96</td>\n",
       "      <td>Clothing</td>\n",
       "    </tr>\n",
       "    <tr>\n",
       "      <th>2</th>\n",
       "      <td>2</td>\n",
       "      <td>9660</td>\n",
       "      <td>2022-07-25</td>\n",
       "      <td>197.50</td>\n",
       "      <td>Electronics</td>\n",
       "    </tr>\n",
       "    <tr>\n",
       "      <th>3</th>\n",
       "      <td>2</td>\n",
       "      <td>2998</td>\n",
       "      <td>2022-01-25</td>\n",
       "      <td>101.31</td>\n",
       "      <td>Furniture</td>\n",
       "    </tr>\n",
       "    <tr>\n",
       "      <th>4</th>\n",
       "      <td>2</td>\n",
       "      <td>1228</td>\n",
       "      <td>2022-07-24</td>\n",
       "      <td>397.37</td>\n",
       "      <td>Clothing</td>\n",
       "    </tr>\n",
       "  </tbody>\n",
       "</table>\n",
       "</div>"
      ],
      "text/plain": [
       "   CustomerID  TransactionID TransactionDate  AmountSpent ProductCategory\n",
       "0           1           7194      2022-03-27       416.50     Electronics\n",
       "1           2           7250      2022-08-08        54.96        Clothing\n",
       "2           2           9660      2022-07-25       197.50     Electronics\n",
       "3           2           2998      2022-01-25       101.31       Furniture\n",
       "4           2           1228      2022-07-24       397.37        Clothing"
      ]
     },
     "execution_count": 51,
     "metadata": {},
     "output_type": "execute_result"
    }
   ],
   "source": [
    "transaction.head()"
   ]
  },
  {
   "cell_type": "code",
   "execution_count": 52,
   "metadata": {},
   "outputs": [
    {
     "data": {
      "text/html": [
       "<div>\n",
       "<style scoped>\n",
       "    .dataframe tbody tr th:only-of-type {\n",
       "        vertical-align: middle;\n",
       "    }\n",
       "\n",
       "    .dataframe tbody tr th {\n",
       "        vertical-align: top;\n",
       "    }\n",
       "\n",
       "    .dataframe thead th {\n",
       "        text-align: right;\n",
       "    }\n",
       "</style>\n",
       "<table border=\"1\" class=\"dataframe\">\n",
       "  <thead>\n",
       "    <tr style=\"text-align: right;\">\n",
       "      <th></th>\n",
       "      <th>CustomerID</th>\n",
       "      <th>InteractionID</th>\n",
       "      <th>InteractionDate</th>\n",
       "      <th>InteractionType</th>\n",
       "      <th>ResolutionStatus</th>\n",
       "    </tr>\n",
       "  </thead>\n",
       "  <tbody>\n",
       "    <tr>\n",
       "      <th>0</th>\n",
       "      <td>1</td>\n",
       "      <td>6363</td>\n",
       "      <td>2022-03-31</td>\n",
       "      <td>Inquiry</td>\n",
       "      <td>Resolved</td>\n",
       "    </tr>\n",
       "    <tr>\n",
       "      <th>1</th>\n",
       "      <td>2</td>\n",
       "      <td>3329</td>\n",
       "      <td>2022-03-17</td>\n",
       "      <td>Inquiry</td>\n",
       "      <td>Resolved</td>\n",
       "    </tr>\n",
       "    <tr>\n",
       "      <th>2</th>\n",
       "      <td>3</td>\n",
       "      <td>9976</td>\n",
       "      <td>2022-08-24</td>\n",
       "      <td>Inquiry</td>\n",
       "      <td>Resolved</td>\n",
       "    </tr>\n",
       "    <tr>\n",
       "      <th>3</th>\n",
       "      <td>4</td>\n",
       "      <td>7354</td>\n",
       "      <td>2022-11-18</td>\n",
       "      <td>Inquiry</td>\n",
       "      <td>Resolved</td>\n",
       "    </tr>\n",
       "    <tr>\n",
       "      <th>4</th>\n",
       "      <td>4</td>\n",
       "      <td>5393</td>\n",
       "      <td>2022-07-03</td>\n",
       "      <td>Inquiry</td>\n",
       "      <td>Unresolved</td>\n",
       "    </tr>\n",
       "  </tbody>\n",
       "</table>\n",
       "</div>"
      ],
      "text/plain": [
       "   CustomerID  InteractionID InteractionDate InteractionType ResolutionStatus\n",
       "0           1           6363      2022-03-31         Inquiry         Resolved\n",
       "1           2           3329      2022-03-17         Inquiry         Resolved\n",
       "2           3           9976      2022-08-24         Inquiry         Resolved\n",
       "3           4           7354      2022-11-18         Inquiry         Resolved\n",
       "4           4           5393      2022-07-03         Inquiry       Unresolved"
      ]
     },
     "execution_count": 52,
     "metadata": {},
     "output_type": "execute_result"
    }
   ],
   "source": [
    "service.head()"
   ]
  },
  {
   "cell_type": "code",
   "execution_count": 53,
   "metadata": {},
   "outputs": [
    {
     "data": {
      "text/html": [
       "<div>\n",
       "<style scoped>\n",
       "    .dataframe tbody tr th:only-of-type {\n",
       "        vertical-align: middle;\n",
       "    }\n",
       "\n",
       "    .dataframe tbody tr th {\n",
       "        vertical-align: top;\n",
       "    }\n",
       "\n",
       "    .dataframe thead th {\n",
       "        text-align: right;\n",
       "    }\n",
       "</style>\n",
       "<table border=\"1\" class=\"dataframe\">\n",
       "  <thead>\n",
       "    <tr style=\"text-align: right;\">\n",
       "      <th></th>\n",
       "      <th>CustomerID</th>\n",
       "      <th>LastLoginDate</th>\n",
       "      <th>LoginFrequency</th>\n",
       "      <th>ServiceUsage</th>\n",
       "    </tr>\n",
       "  </thead>\n",
       "  <tbody>\n",
       "    <tr>\n",
       "      <th>0</th>\n",
       "      <td>1</td>\n",
       "      <td>2023-10-21</td>\n",
       "      <td>34</td>\n",
       "      <td>Mobile App</td>\n",
       "    </tr>\n",
       "    <tr>\n",
       "      <th>1</th>\n",
       "      <td>2</td>\n",
       "      <td>2023-12-05</td>\n",
       "      <td>5</td>\n",
       "      <td>Website</td>\n",
       "    </tr>\n",
       "    <tr>\n",
       "      <th>2</th>\n",
       "      <td>3</td>\n",
       "      <td>2023-11-15</td>\n",
       "      <td>3</td>\n",
       "      <td>Website</td>\n",
       "    </tr>\n",
       "    <tr>\n",
       "      <th>3</th>\n",
       "      <td>4</td>\n",
       "      <td>2023-08-25</td>\n",
       "      <td>2</td>\n",
       "      <td>Website</td>\n",
       "    </tr>\n",
       "    <tr>\n",
       "      <th>4</th>\n",
       "      <td>5</td>\n",
       "      <td>2023-10-27</td>\n",
       "      <td>41</td>\n",
       "      <td>Website</td>\n",
       "    </tr>\n",
       "  </tbody>\n",
       "</table>\n",
       "</div>"
      ],
      "text/plain": [
       "   CustomerID LastLoginDate  LoginFrequency ServiceUsage\n",
       "0           1    2023-10-21              34   Mobile App\n",
       "1           2    2023-12-05               5      Website\n",
       "2           3    2023-11-15               3      Website\n",
       "3           4    2023-08-25               2      Website\n",
       "4           5    2023-10-27              41      Website"
      ]
     },
     "execution_count": 53,
     "metadata": {},
     "output_type": "execute_result"
    }
   ],
   "source": [
    "activity.head()"
   ]
  },
  {
   "cell_type": "code",
   "execution_count": 54,
   "metadata": {},
   "outputs": [
    {
     "data": {
      "text/html": [
       "<div>\n",
       "<style scoped>\n",
       "    .dataframe tbody tr th:only-of-type {\n",
       "        vertical-align: middle;\n",
       "    }\n",
       "\n",
       "    .dataframe tbody tr th {\n",
       "        vertical-align: top;\n",
       "    }\n",
       "\n",
       "    .dataframe thead th {\n",
       "        text-align: right;\n",
       "    }\n",
       "</style>\n",
       "<table border=\"1\" class=\"dataframe\">\n",
       "  <thead>\n",
       "    <tr style=\"text-align: right;\">\n",
       "      <th></th>\n",
       "      <th>CustomerID</th>\n",
       "      <th>ChurnStatus</th>\n",
       "    </tr>\n",
       "  </thead>\n",
       "  <tbody>\n",
       "    <tr>\n",
       "      <th>0</th>\n",
       "      <td>1</td>\n",
       "      <td>0</td>\n",
       "    </tr>\n",
       "    <tr>\n",
       "      <th>1</th>\n",
       "      <td>2</td>\n",
       "      <td>1</td>\n",
       "    </tr>\n",
       "    <tr>\n",
       "      <th>2</th>\n",
       "      <td>3</td>\n",
       "      <td>0</td>\n",
       "    </tr>\n",
       "    <tr>\n",
       "      <th>3</th>\n",
       "      <td>4</td>\n",
       "      <td>0</td>\n",
       "    </tr>\n",
       "    <tr>\n",
       "      <th>4</th>\n",
       "      <td>5</td>\n",
       "      <td>0</td>\n",
       "    </tr>\n",
       "  </tbody>\n",
       "</table>\n",
       "</div>"
      ],
      "text/plain": [
       "   CustomerID  ChurnStatus\n",
       "0           1            0\n",
       "1           2            1\n",
       "2           3            0\n",
       "3           4            0\n",
       "4           5            0"
      ]
     },
     "execution_count": 54,
     "metadata": {},
     "output_type": "execute_result"
    }
   ],
   "source": [
    "churn.head()"
   ]
  },
  {
   "cell_type": "code",
   "execution_count": 55,
   "metadata": {},
   "outputs": [
    {
     "data": {
      "text/plain": [
       "CustomerID        int64\n",
       "Age               int64\n",
       "Gender           object\n",
       "MaritalStatus    object\n",
       "IncomeLevel      object\n",
       "dtype: object"
      ]
     },
     "execution_count": 55,
     "metadata": {},
     "output_type": "execute_result"
    }
   ],
   "source": [
    "# check the datatypes present\n",
    "customer.dtypes"
   ]
  },
  {
   "cell_type": "code",
   "execution_count": 56,
   "metadata": {},
   "outputs": [
    {
     "data": {
      "text/plain": [
       "CustomerID                  int64\n",
       "TransactionID               int64\n",
       "TransactionDate    datetime64[ns]\n",
       "AmountSpent               float64\n",
       "ProductCategory            object\n",
       "dtype: object"
      ]
     },
     "execution_count": 56,
     "metadata": {},
     "output_type": "execute_result"
    }
   ],
   "source": [
    "transaction.dtypes"
   ]
  },
  {
   "cell_type": "code",
   "execution_count": 57,
   "metadata": {},
   "outputs": [
    {
     "data": {
      "text/plain": [
       "CustomerID                   int64\n",
       "InteractionID                int64\n",
       "InteractionDate     datetime64[ns]\n",
       "InteractionType             object\n",
       "ResolutionStatus            object\n",
       "dtype: object"
      ]
     },
     "execution_count": 57,
     "metadata": {},
     "output_type": "execute_result"
    }
   ],
   "source": [
    "service.dtypes"
   ]
  },
  {
   "cell_type": "code",
   "execution_count": 58,
   "metadata": {},
   "outputs": [
    {
     "data": {
      "text/plain": [
       "CustomerID                 int64\n",
       "LastLoginDate     datetime64[ns]\n",
       "LoginFrequency             int64\n",
       "ServiceUsage              object\n",
       "dtype: object"
      ]
     },
     "execution_count": 58,
     "metadata": {},
     "output_type": "execute_result"
    }
   ],
   "source": [
    "activity.dtypes"
   ]
  },
  {
   "cell_type": "code",
   "execution_count": 59,
   "metadata": {},
   "outputs": [
    {
     "data": {
      "text/plain": [
       "CustomerID     int64\n",
       "ChurnStatus    int64\n",
       "dtype: object"
      ]
     },
     "execution_count": 59,
     "metadata": {},
     "output_type": "execute_result"
    }
   ],
   "source": [
    "churn.dtypes"
   ]
  },
  {
   "cell_type": "code",
   "execution_count": 60,
   "metadata": {},
   "outputs": [
    {
     "data": {
      "text/html": [
       "<div>\n",
       "<style scoped>\n",
       "    .dataframe tbody tr th:only-of-type {\n",
       "        vertical-align: middle;\n",
       "    }\n",
       "\n",
       "    .dataframe tbody tr th {\n",
       "        vertical-align: top;\n",
       "    }\n",
       "\n",
       "    .dataframe thead th {\n",
       "        text-align: right;\n",
       "    }\n",
       "</style>\n",
       "<table border=\"1\" class=\"dataframe\">\n",
       "  <thead>\n",
       "    <tr style=\"text-align: right;\">\n",
       "      <th></th>\n",
       "      <th>count</th>\n",
       "      <th>unique</th>\n",
       "      <th>top</th>\n",
       "      <th>freq</th>\n",
       "      <th>mean</th>\n",
       "      <th>std</th>\n",
       "      <th>min</th>\n",
       "      <th>25%</th>\n",
       "      <th>50%</th>\n",
       "      <th>75%</th>\n",
       "      <th>max</th>\n",
       "    </tr>\n",
       "  </thead>\n",
       "  <tbody>\n",
       "    <tr>\n",
       "      <th>CustomerID</th>\n",
       "      <td>1000.0</td>\n",
       "      <td>NaN</td>\n",
       "      <td>NaN</td>\n",
       "      <td>NaN</td>\n",
       "      <td>500.5</td>\n",
       "      <td>288.819436</td>\n",
       "      <td>1.0</td>\n",
       "      <td>250.75</td>\n",
       "      <td>500.5</td>\n",
       "      <td>750.25</td>\n",
       "      <td>1000.0</td>\n",
       "    </tr>\n",
       "    <tr>\n",
       "      <th>Age</th>\n",
       "      <td>1000.0</td>\n",
       "      <td>NaN</td>\n",
       "      <td>NaN</td>\n",
       "      <td>NaN</td>\n",
       "      <td>43.267</td>\n",
       "      <td>15.242311</td>\n",
       "      <td>18.0</td>\n",
       "      <td>30.0</td>\n",
       "      <td>43.0</td>\n",
       "      <td>56.0</td>\n",
       "      <td>69.0</td>\n",
       "    </tr>\n",
       "    <tr>\n",
       "      <th>Gender</th>\n",
       "      <td>1000</td>\n",
       "      <td>2</td>\n",
       "      <td>F</td>\n",
       "      <td>513</td>\n",
       "      <td>NaN</td>\n",
       "      <td>NaN</td>\n",
       "      <td>NaN</td>\n",
       "      <td>NaN</td>\n",
       "      <td>NaN</td>\n",
       "      <td>NaN</td>\n",
       "      <td>NaN</td>\n",
       "    </tr>\n",
       "    <tr>\n",
       "      <th>MaritalStatus</th>\n",
       "      <td>1000</td>\n",
       "      <td>4</td>\n",
       "      <td>Widowed</td>\n",
       "      <td>276</td>\n",
       "      <td>NaN</td>\n",
       "      <td>NaN</td>\n",
       "      <td>NaN</td>\n",
       "      <td>NaN</td>\n",
       "      <td>NaN</td>\n",
       "      <td>NaN</td>\n",
       "      <td>NaN</td>\n",
       "    </tr>\n",
       "    <tr>\n",
       "      <th>IncomeLevel</th>\n",
       "      <td>1000</td>\n",
       "      <td>3</td>\n",
       "      <td>High</td>\n",
       "      <td>349</td>\n",
       "      <td>NaN</td>\n",
       "      <td>NaN</td>\n",
       "      <td>NaN</td>\n",
       "      <td>NaN</td>\n",
       "      <td>NaN</td>\n",
       "      <td>NaN</td>\n",
       "      <td>NaN</td>\n",
       "    </tr>\n",
       "  </tbody>\n",
       "</table>\n",
       "</div>"
      ],
      "text/plain": [
       "                count unique      top freq    mean         std   min     25%  \\\n",
       "CustomerID     1000.0    NaN      NaN  NaN   500.5  288.819436   1.0  250.75   \n",
       "Age            1000.0    NaN      NaN  NaN  43.267   15.242311  18.0    30.0   \n",
       "Gender           1000      2        F  513     NaN         NaN   NaN     NaN   \n",
       "MaritalStatus    1000      4  Widowed  276     NaN         NaN   NaN     NaN   \n",
       "IncomeLevel      1000      3     High  349     NaN         NaN   NaN     NaN   \n",
       "\n",
       "                 50%     75%     max  \n",
       "CustomerID     500.5  750.25  1000.0  \n",
       "Age             43.0    56.0    69.0  \n",
       "Gender           NaN     NaN     NaN  \n",
       "MaritalStatus    NaN     NaN     NaN  \n",
       "IncomeLevel      NaN     NaN     NaN  "
      ]
     },
     "execution_count": 60,
     "metadata": {},
     "output_type": "execute_result"
    }
   ],
   "source": [
    "# descriptive statistics\n",
    "customer.describe(include='all').T"
   ]
  },
  {
   "cell_type": "code",
   "execution_count": 61,
   "metadata": {},
   "outputs": [
    {
     "name": "stderr",
     "output_type": "stream",
     "text": [
      "C:\\Users\\LENOVO\\AppData\\Local\\Temp\\ipykernel_11088\\2251822836.py:1: FutureWarning: Treating datetime data as categorical rather than numeric in `.describe` is deprecated and will be removed in a future version of pandas. Specify `datetime_is_numeric=True` to silence this warning and adopt the future behavior now.\n",
      "  transaction.describe(include='all').T\n"
     ]
    },
    {
     "data": {
      "text/html": [
       "<div>\n",
       "<style scoped>\n",
       "    .dataframe tbody tr th:only-of-type {\n",
       "        vertical-align: middle;\n",
       "    }\n",
       "\n",
       "    .dataframe tbody tr th {\n",
       "        vertical-align: top;\n",
       "    }\n",
       "\n",
       "    .dataframe thead th {\n",
       "        text-align: right;\n",
       "    }\n",
       "</style>\n",
       "<table border=\"1\" class=\"dataframe\">\n",
       "  <thead>\n",
       "    <tr style=\"text-align: right;\">\n",
       "      <th></th>\n",
       "      <th>count</th>\n",
       "      <th>unique</th>\n",
       "      <th>top</th>\n",
       "      <th>freq</th>\n",
       "      <th>first</th>\n",
       "      <th>last</th>\n",
       "      <th>mean</th>\n",
       "      <th>std</th>\n",
       "      <th>min</th>\n",
       "      <th>25%</th>\n",
       "      <th>50%</th>\n",
       "      <th>75%</th>\n",
       "      <th>max</th>\n",
       "    </tr>\n",
       "  </thead>\n",
       "  <tbody>\n",
       "    <tr>\n",
       "      <th>CustomerID</th>\n",
       "      <td>5054.0</td>\n",
       "      <td>NaN</td>\n",
       "      <td>NaN</td>\n",
       "      <td>NaN</td>\n",
       "      <td>NaT</td>\n",
       "      <td>NaT</td>\n",
       "      <td>501.424218</td>\n",
       "      <td>285.17278</td>\n",
       "      <td>1.0</td>\n",
       "      <td>251.0</td>\n",
       "      <td>506.0</td>\n",
       "      <td>749.0</td>\n",
       "      <td>1000.0</td>\n",
       "    </tr>\n",
       "    <tr>\n",
       "      <th>TransactionID</th>\n",
       "      <td>5054.0</td>\n",
       "      <td>NaN</td>\n",
       "      <td>NaN</td>\n",
       "      <td>NaN</td>\n",
       "      <td>NaT</td>\n",
       "      <td>NaT</td>\n",
       "      <td>5510.538979</td>\n",
       "      <td>2582.088012</td>\n",
       "      <td>1000.0</td>\n",
       "      <td>3242.0</td>\n",
       "      <td>5530.0</td>\n",
       "      <td>7680.75</td>\n",
       "      <td>9997.0</td>\n",
       "    </tr>\n",
       "    <tr>\n",
       "      <th>TransactionDate</th>\n",
       "      <td>5054</td>\n",
       "      <td>365</td>\n",
       "      <td>2022-07-01 00:00:00</td>\n",
       "      <td>25</td>\n",
       "      <td>2022-01-01</td>\n",
       "      <td>2022-12-31</td>\n",
       "      <td>NaN</td>\n",
       "      <td>NaN</td>\n",
       "      <td>NaN</td>\n",
       "      <td>NaN</td>\n",
       "      <td>NaN</td>\n",
       "      <td>NaN</td>\n",
       "      <td>NaN</td>\n",
       "    </tr>\n",
       "    <tr>\n",
       "      <th>AmountSpent</th>\n",
       "      <td>5054.0</td>\n",
       "      <td>NaN</td>\n",
       "      <td>NaN</td>\n",
       "      <td>NaN</td>\n",
       "      <td>NaT</td>\n",
       "      <td>NaT</td>\n",
       "      <td>250.707351</td>\n",
       "      <td>142.250838</td>\n",
       "      <td>5.18</td>\n",
       "      <td>127.105</td>\n",
       "      <td>250.525</td>\n",
       "      <td>373.4125</td>\n",
       "      <td>499.86</td>\n",
       "    </tr>\n",
       "    <tr>\n",
       "      <th>ProductCategory</th>\n",
       "      <td>5054</td>\n",
       "      <td>5</td>\n",
       "      <td>Books</td>\n",
       "      <td>1041</td>\n",
       "      <td>NaT</td>\n",
       "      <td>NaT</td>\n",
       "      <td>NaN</td>\n",
       "      <td>NaN</td>\n",
       "      <td>NaN</td>\n",
       "      <td>NaN</td>\n",
       "      <td>NaN</td>\n",
       "      <td>NaN</td>\n",
       "      <td>NaN</td>\n",
       "    </tr>\n",
       "  </tbody>\n",
       "</table>\n",
       "</div>"
      ],
      "text/plain": [
       "                  count unique                  top  freq      first  \\\n",
       "CustomerID       5054.0    NaN                  NaN   NaN        NaT   \n",
       "TransactionID    5054.0    NaN                  NaN   NaN        NaT   \n",
       "TransactionDate    5054    365  2022-07-01 00:00:00    25 2022-01-01   \n",
       "AmountSpent      5054.0    NaN                  NaN   NaN        NaT   \n",
       "ProductCategory    5054      5                Books  1041        NaT   \n",
       "\n",
       "                      last         mean          std     min      25%  \\\n",
       "CustomerID             NaT   501.424218    285.17278     1.0    251.0   \n",
       "TransactionID          NaT  5510.538979  2582.088012  1000.0   3242.0   \n",
       "TransactionDate 2022-12-31          NaN          NaN     NaN      NaN   \n",
       "AmountSpent            NaT   250.707351   142.250838    5.18  127.105   \n",
       "ProductCategory        NaT          NaN          NaN     NaN      NaN   \n",
       "\n",
       "                     50%       75%     max  \n",
       "CustomerID         506.0     749.0  1000.0  \n",
       "TransactionID     5530.0   7680.75  9997.0  \n",
       "TransactionDate      NaN       NaN     NaN  \n",
       "AmountSpent      250.525  373.4125  499.86  \n",
       "ProductCategory      NaN       NaN     NaN  "
      ]
     },
     "execution_count": 61,
     "metadata": {},
     "output_type": "execute_result"
    }
   ],
   "source": [
    "transaction.describe(include='all').T"
   ]
  },
  {
   "cell_type": "code",
   "execution_count": 62,
   "metadata": {},
   "outputs": [
    {
     "name": "stderr",
     "output_type": "stream",
     "text": [
      "C:\\Users\\LENOVO\\AppData\\Local\\Temp\\ipykernel_11088\\671008820.py:1: FutureWarning: Treating datetime data as categorical rather than numeric in `.describe` is deprecated and will be removed in a future version of pandas. Specify `datetime_is_numeric=True` to silence this warning and adopt the future behavior now.\n",
      "  service.describe(include='all').T\n"
     ]
    },
    {
     "data": {
      "text/html": [
       "<div>\n",
       "<style scoped>\n",
       "    .dataframe tbody tr th:only-of-type {\n",
       "        vertical-align: middle;\n",
       "    }\n",
       "\n",
       "    .dataframe tbody tr th {\n",
       "        vertical-align: top;\n",
       "    }\n",
       "\n",
       "    .dataframe thead th {\n",
       "        text-align: right;\n",
       "    }\n",
       "</style>\n",
       "<table border=\"1\" class=\"dataframe\">\n",
       "  <thead>\n",
       "    <tr style=\"text-align: right;\">\n",
       "      <th></th>\n",
       "      <th>count</th>\n",
       "      <th>unique</th>\n",
       "      <th>top</th>\n",
       "      <th>freq</th>\n",
       "      <th>first</th>\n",
       "      <th>last</th>\n",
       "      <th>mean</th>\n",
       "      <th>std</th>\n",
       "      <th>min</th>\n",
       "      <th>25%</th>\n",
       "      <th>50%</th>\n",
       "      <th>75%</th>\n",
       "      <th>max</th>\n",
       "    </tr>\n",
       "  </thead>\n",
       "  <tbody>\n",
       "    <tr>\n",
       "      <th>CustomerID</th>\n",
       "      <td>1002.0</td>\n",
       "      <td>NaN</td>\n",
       "      <td>NaN</td>\n",
       "      <td>NaN</td>\n",
       "      <td>NaT</td>\n",
       "      <td>NaT</td>\n",
       "      <td>485.209581</td>\n",
       "      <td>287.030259</td>\n",
       "      <td>1.0</td>\n",
       "      <td>238.25</td>\n",
       "      <td>474.5</td>\n",
       "      <td>735.75</td>\n",
       "      <td>995.0</td>\n",
       "    </tr>\n",
       "    <tr>\n",
       "      <th>InteractionID</th>\n",
       "      <td>1002.0</td>\n",
       "      <td>NaN</td>\n",
       "      <td>NaN</td>\n",
       "      <td>NaN</td>\n",
       "      <td>NaT</td>\n",
       "      <td>NaT</td>\n",
       "      <td>5952.887226</td>\n",
       "      <td>2305.819681</td>\n",
       "      <td>2015.0</td>\n",
       "      <td>3991.5</td>\n",
       "      <td>5911.5</td>\n",
       "      <td>7908.25</td>\n",
       "      <td>9997.0</td>\n",
       "    </tr>\n",
       "    <tr>\n",
       "      <th>InteractionDate</th>\n",
       "      <td>1002</td>\n",
       "      <td>344</td>\n",
       "      <td>2022-07-07 00:00:00</td>\n",
       "      <td>9</td>\n",
       "      <td>2022-01-01</td>\n",
       "      <td>2022-12-30</td>\n",
       "      <td>NaN</td>\n",
       "      <td>NaN</td>\n",
       "      <td>NaN</td>\n",
       "      <td>NaN</td>\n",
       "      <td>NaN</td>\n",
       "      <td>NaN</td>\n",
       "      <td>NaN</td>\n",
       "    </tr>\n",
       "    <tr>\n",
       "      <th>InteractionType</th>\n",
       "      <td>1002</td>\n",
       "      <td>3</td>\n",
       "      <td>Feedback</td>\n",
       "      <td>360</td>\n",
       "      <td>NaT</td>\n",
       "      <td>NaT</td>\n",
       "      <td>NaN</td>\n",
       "      <td>NaN</td>\n",
       "      <td>NaN</td>\n",
       "      <td>NaN</td>\n",
       "      <td>NaN</td>\n",
       "      <td>NaN</td>\n",
       "      <td>NaN</td>\n",
       "    </tr>\n",
       "    <tr>\n",
       "      <th>ResolutionStatus</th>\n",
       "      <td>1002</td>\n",
       "      <td>2</td>\n",
       "      <td>Resolved</td>\n",
       "      <td>523</td>\n",
       "      <td>NaT</td>\n",
       "      <td>NaT</td>\n",
       "      <td>NaN</td>\n",
       "      <td>NaN</td>\n",
       "      <td>NaN</td>\n",
       "      <td>NaN</td>\n",
       "      <td>NaN</td>\n",
       "      <td>NaN</td>\n",
       "      <td>NaN</td>\n",
       "    </tr>\n",
       "  </tbody>\n",
       "</table>\n",
       "</div>"
      ],
      "text/plain": [
       "                   count unique                  top freq      first  \\\n",
       "CustomerID        1002.0    NaN                  NaN  NaN        NaT   \n",
       "InteractionID     1002.0    NaN                  NaN  NaN        NaT   \n",
       "InteractionDate     1002    344  2022-07-07 00:00:00    9 2022-01-01   \n",
       "InteractionType     1002      3             Feedback  360        NaT   \n",
       "ResolutionStatus    1002      2             Resolved  523        NaT   \n",
       "\n",
       "                       last         mean          std     min     25%     50%  \\\n",
       "CustomerID              NaT   485.209581   287.030259     1.0  238.25   474.5   \n",
       "InteractionID           NaT  5952.887226  2305.819681  2015.0  3991.5  5911.5   \n",
       "InteractionDate  2022-12-30          NaN          NaN     NaN     NaN     NaN   \n",
       "InteractionType         NaT          NaN          NaN     NaN     NaN     NaN   \n",
       "ResolutionStatus        NaT          NaN          NaN     NaN     NaN     NaN   \n",
       "\n",
       "                      75%     max  \n",
       "CustomerID         735.75   995.0  \n",
       "InteractionID     7908.25  9997.0  \n",
       "InteractionDate       NaN     NaN  \n",
       "InteractionType       NaN     NaN  \n",
       "ResolutionStatus      NaN     NaN  "
      ]
     },
     "execution_count": 62,
     "metadata": {},
     "output_type": "execute_result"
    }
   ],
   "source": [
    "service.describe(include='all').T"
   ]
  },
  {
   "cell_type": "code",
   "execution_count": 63,
   "metadata": {},
   "outputs": [
    {
     "name": "stderr",
     "output_type": "stream",
     "text": [
      "C:\\Users\\LENOVO\\AppData\\Local\\Temp\\ipykernel_11088\\4173356470.py:1: FutureWarning: Treating datetime data as categorical rather than numeric in `.describe` is deprecated and will be removed in a future version of pandas. Specify `datetime_is_numeric=True` to silence this warning and adopt the future behavior now.\n",
      "  activity.describe(include='all').T\n"
     ]
    },
    {
     "data": {
      "text/html": [
       "<div>\n",
       "<style scoped>\n",
       "    .dataframe tbody tr th:only-of-type {\n",
       "        vertical-align: middle;\n",
       "    }\n",
       "\n",
       "    .dataframe tbody tr th {\n",
       "        vertical-align: top;\n",
       "    }\n",
       "\n",
       "    .dataframe thead th {\n",
       "        text-align: right;\n",
       "    }\n",
       "</style>\n",
       "<table border=\"1\" class=\"dataframe\">\n",
       "  <thead>\n",
       "    <tr style=\"text-align: right;\">\n",
       "      <th></th>\n",
       "      <th>count</th>\n",
       "      <th>unique</th>\n",
       "      <th>top</th>\n",
       "      <th>freq</th>\n",
       "      <th>first</th>\n",
       "      <th>last</th>\n",
       "      <th>mean</th>\n",
       "      <th>std</th>\n",
       "      <th>min</th>\n",
       "      <th>25%</th>\n",
       "      <th>50%</th>\n",
       "      <th>75%</th>\n",
       "      <th>max</th>\n",
       "    </tr>\n",
       "  </thead>\n",
       "  <tbody>\n",
       "    <tr>\n",
       "      <th>CustomerID</th>\n",
       "      <td>1000.0</td>\n",
       "      <td>NaN</td>\n",
       "      <td>NaN</td>\n",
       "      <td>NaN</td>\n",
       "      <td>NaT</td>\n",
       "      <td>NaT</td>\n",
       "      <td>500.5</td>\n",
       "      <td>288.819436</td>\n",
       "      <td>1.0</td>\n",
       "      <td>250.75</td>\n",
       "      <td>500.5</td>\n",
       "      <td>750.25</td>\n",
       "      <td>1000.0</td>\n",
       "    </tr>\n",
       "    <tr>\n",
       "      <th>LastLoginDate</th>\n",
       "      <td>1000</td>\n",
       "      <td>340</td>\n",
       "      <td>2023-09-20 00:00:00</td>\n",
       "      <td>8</td>\n",
       "      <td>2023-01-01</td>\n",
       "      <td>2023-12-31</td>\n",
       "      <td>NaN</td>\n",
       "      <td>NaN</td>\n",
       "      <td>NaN</td>\n",
       "      <td>NaN</td>\n",
       "      <td>NaN</td>\n",
       "      <td>NaN</td>\n",
       "      <td>NaN</td>\n",
       "    </tr>\n",
       "    <tr>\n",
       "      <th>LoginFrequency</th>\n",
       "      <td>1000.0</td>\n",
       "      <td>NaN</td>\n",
       "      <td>NaN</td>\n",
       "      <td>NaN</td>\n",
       "      <td>NaT</td>\n",
       "      <td>NaT</td>\n",
       "      <td>25.912</td>\n",
       "      <td>14.055953</td>\n",
       "      <td>1.0</td>\n",
       "      <td>13.75</td>\n",
       "      <td>27.0</td>\n",
       "      <td>38.0</td>\n",
       "      <td>49.0</td>\n",
       "    </tr>\n",
       "    <tr>\n",
       "      <th>ServiceUsage</th>\n",
       "      <td>1000</td>\n",
       "      <td>3</td>\n",
       "      <td>Online Banking</td>\n",
       "      <td>349</td>\n",
       "      <td>NaT</td>\n",
       "      <td>NaT</td>\n",
       "      <td>NaN</td>\n",
       "      <td>NaN</td>\n",
       "      <td>NaN</td>\n",
       "      <td>NaN</td>\n",
       "      <td>NaN</td>\n",
       "      <td>NaN</td>\n",
       "      <td>NaN</td>\n",
       "    </tr>\n",
       "  </tbody>\n",
       "</table>\n",
       "</div>"
      ],
      "text/plain": [
       "                 count unique                  top freq      first       last  \\\n",
       "CustomerID      1000.0    NaN                  NaN  NaN        NaT        NaT   \n",
       "LastLoginDate     1000    340  2023-09-20 00:00:00    8 2023-01-01 2023-12-31   \n",
       "LoginFrequency  1000.0    NaN                  NaN  NaN        NaT        NaT   \n",
       "ServiceUsage      1000      3       Online Banking  349        NaT        NaT   \n",
       "\n",
       "                  mean         std  min     25%    50%     75%     max  \n",
       "CustomerID       500.5  288.819436  1.0  250.75  500.5  750.25  1000.0  \n",
       "LastLoginDate      NaN         NaN  NaN     NaN    NaN     NaN     NaN  \n",
       "LoginFrequency  25.912   14.055953  1.0   13.75   27.0    38.0    49.0  \n",
       "ServiceUsage       NaN         NaN  NaN     NaN    NaN     NaN     NaN  "
      ]
     },
     "execution_count": 63,
     "metadata": {},
     "output_type": "execute_result"
    }
   ],
   "source": [
    "activity.describe(include='all').T"
   ]
  },
  {
   "cell_type": "code",
   "execution_count": 64,
   "metadata": {},
   "outputs": [
    {
     "data": {
      "text/html": [
       "<div>\n",
       "<style scoped>\n",
       "    .dataframe tbody tr th:only-of-type {\n",
       "        vertical-align: middle;\n",
       "    }\n",
       "\n",
       "    .dataframe tbody tr th {\n",
       "        vertical-align: top;\n",
       "    }\n",
       "\n",
       "    .dataframe thead th {\n",
       "        text-align: right;\n",
       "    }\n",
       "</style>\n",
       "<table border=\"1\" class=\"dataframe\">\n",
       "  <thead>\n",
       "    <tr style=\"text-align: right;\">\n",
       "      <th></th>\n",
       "      <th>count</th>\n",
       "      <th>mean</th>\n",
       "      <th>std</th>\n",
       "      <th>min</th>\n",
       "      <th>25%</th>\n",
       "      <th>50%</th>\n",
       "      <th>75%</th>\n",
       "      <th>max</th>\n",
       "    </tr>\n",
       "  </thead>\n",
       "  <tbody>\n",
       "    <tr>\n",
       "      <th>CustomerID</th>\n",
       "      <td>1000.0</td>\n",
       "      <td>500.500</td>\n",
       "      <td>288.819436</td>\n",
       "      <td>1.0</td>\n",
       "      <td>250.75</td>\n",
       "      <td>500.5</td>\n",
       "      <td>750.25</td>\n",
       "      <td>1000.0</td>\n",
       "    </tr>\n",
       "    <tr>\n",
       "      <th>ChurnStatus</th>\n",
       "      <td>1000.0</td>\n",
       "      <td>0.204</td>\n",
       "      <td>0.403171</td>\n",
       "      <td>0.0</td>\n",
       "      <td>0.00</td>\n",
       "      <td>0.0</td>\n",
       "      <td>0.00</td>\n",
       "      <td>1.0</td>\n",
       "    </tr>\n",
       "  </tbody>\n",
       "</table>\n",
       "</div>"
      ],
      "text/plain": [
       "              count     mean         std  min     25%    50%     75%     max\n",
       "CustomerID   1000.0  500.500  288.819436  1.0  250.75  500.5  750.25  1000.0\n",
       "ChurnStatus  1000.0    0.204    0.403171  0.0    0.00    0.0    0.00     1.0"
      ]
     },
     "execution_count": 64,
     "metadata": {},
     "output_type": "execute_result"
    }
   ],
   "source": [
    "churn.describe(include='all').T"
   ]
  },
  {
   "cell_type": "code",
   "execution_count": 65,
   "metadata": {},
   "outputs": [
    {
     "name": "stdout",
     "output_type": "stream",
     "text": [
      "<class 'pandas.core.frame.DataFrame'>\n",
      "RangeIndex: 1000 entries, 0 to 999\n",
      "Data columns (total 5 columns):\n",
      " #   Column         Non-Null Count  Dtype \n",
      "---  ------         --------------  ----- \n",
      " 0   CustomerID     1000 non-null   int64 \n",
      " 1   Age            1000 non-null   int64 \n",
      " 2   Gender         1000 non-null   object\n",
      " 3   MaritalStatus  1000 non-null   object\n",
      " 4   IncomeLevel    1000 non-null   object\n",
      "dtypes: int64(2), object(3)\n",
      "memory usage: 39.2+ KB\n"
     ]
    }
   ],
   "source": [
    "# concise information\n",
    "customer.info()"
   ]
  },
  {
   "cell_type": "code",
   "execution_count": 66,
   "metadata": {},
   "outputs": [
    {
     "name": "stdout",
     "output_type": "stream",
     "text": [
      "<class 'pandas.core.frame.DataFrame'>\n",
      "RangeIndex: 5054 entries, 0 to 5053\n",
      "Data columns (total 5 columns):\n",
      " #   Column           Non-Null Count  Dtype         \n",
      "---  ------           --------------  -----         \n",
      " 0   CustomerID       5054 non-null   int64         \n",
      " 1   TransactionID    5054 non-null   int64         \n",
      " 2   TransactionDate  5054 non-null   datetime64[ns]\n",
      " 3   AmountSpent      5054 non-null   float64       \n",
      " 4   ProductCategory  5054 non-null   object        \n",
      "dtypes: datetime64[ns](1), float64(1), int64(2), object(1)\n",
      "memory usage: 197.5+ KB\n"
     ]
    }
   ],
   "source": [
    "transaction.info()"
   ]
  },
  {
   "cell_type": "code",
   "execution_count": 67,
   "metadata": {},
   "outputs": [
    {
     "name": "stdout",
     "output_type": "stream",
     "text": [
      "<class 'pandas.core.frame.DataFrame'>\n",
      "RangeIndex: 1002 entries, 0 to 1001\n",
      "Data columns (total 5 columns):\n",
      " #   Column            Non-Null Count  Dtype         \n",
      "---  ------            --------------  -----         \n",
      " 0   CustomerID        1002 non-null   int64         \n",
      " 1   InteractionID     1002 non-null   int64         \n",
      " 2   InteractionDate   1002 non-null   datetime64[ns]\n",
      " 3   InteractionType   1002 non-null   object        \n",
      " 4   ResolutionStatus  1002 non-null   object        \n",
      "dtypes: datetime64[ns](1), int64(2), object(2)\n",
      "memory usage: 39.3+ KB\n"
     ]
    }
   ],
   "source": [
    "service.info()"
   ]
  },
  {
   "cell_type": "code",
   "execution_count": 68,
   "metadata": {},
   "outputs": [
    {
     "name": "stdout",
     "output_type": "stream",
     "text": [
      "<class 'pandas.core.frame.DataFrame'>\n",
      "RangeIndex: 1000 entries, 0 to 999\n",
      "Data columns (total 4 columns):\n",
      " #   Column          Non-Null Count  Dtype         \n",
      "---  ------          --------------  -----         \n",
      " 0   CustomerID      1000 non-null   int64         \n",
      " 1   LastLoginDate   1000 non-null   datetime64[ns]\n",
      " 2   LoginFrequency  1000 non-null   int64         \n",
      " 3   ServiceUsage    1000 non-null   object        \n",
      "dtypes: datetime64[ns](1), int64(2), object(1)\n",
      "memory usage: 31.4+ KB\n"
     ]
    }
   ],
   "source": [
    "activity.info()"
   ]
  },
  {
   "cell_type": "code",
   "execution_count": 69,
   "metadata": {},
   "outputs": [
    {
     "name": "stdout",
     "output_type": "stream",
     "text": [
      "<class 'pandas.core.frame.DataFrame'>\n",
      "RangeIndex: 1000 entries, 0 to 999\n",
      "Data columns (total 2 columns):\n",
      " #   Column       Non-Null Count  Dtype\n",
      "---  ------       --------------  -----\n",
      " 0   CustomerID   1000 non-null   int64\n",
      " 1   ChurnStatus  1000 non-null   int64\n",
      "dtypes: int64(2)\n",
      "memory usage: 15.8 KB\n"
     ]
    }
   ],
   "source": [
    "churn.info()"
   ]
  },
  {
   "cell_type": "code",
   "execution_count": 70,
   "metadata": {},
   "outputs": [
    {
     "data": {
      "text/plain": [
       "CustomerID       0\n",
       "Age              0\n",
       "Gender           0\n",
       "MaritalStatus    0\n",
       "IncomeLevel      0\n",
       "dtype: int64"
      ]
     },
     "execution_count": 70,
     "metadata": {},
     "output_type": "execute_result"
    }
   ],
   "source": [
    "# check for null/missing records\n",
    "customer.isnull().sum()"
   ]
  },
  {
   "cell_type": "code",
   "execution_count": 71,
   "metadata": {},
   "outputs": [
    {
     "data": {
      "text/plain": [
       "CustomerID         0\n",
       "TransactionID      0\n",
       "TransactionDate    0\n",
       "AmountSpent        0\n",
       "ProductCategory    0\n",
       "dtype: int64"
      ]
     },
     "execution_count": 71,
     "metadata": {},
     "output_type": "execute_result"
    }
   ],
   "source": [
    "transaction.isnull().sum()"
   ]
  },
  {
   "cell_type": "code",
   "execution_count": 72,
   "metadata": {},
   "outputs": [
    {
     "data": {
      "text/plain": [
       "CustomerID          0\n",
       "InteractionID       0\n",
       "InteractionDate     0\n",
       "InteractionType     0\n",
       "ResolutionStatus    0\n",
       "dtype: int64"
      ]
     },
     "execution_count": 72,
     "metadata": {},
     "output_type": "execute_result"
    }
   ],
   "source": [
    "service.isnull().sum()"
   ]
  },
  {
   "cell_type": "code",
   "execution_count": 73,
   "metadata": {},
   "outputs": [
    {
     "data": {
      "text/plain": [
       "CustomerID        0\n",
       "LastLoginDate     0\n",
       "LoginFrequency    0\n",
       "ServiceUsage      0\n",
       "dtype: int64"
      ]
     },
     "execution_count": 73,
     "metadata": {},
     "output_type": "execute_result"
    }
   ],
   "source": [
    "activity.isnull().sum()"
   ]
  },
  {
   "cell_type": "code",
   "execution_count": 74,
   "metadata": {},
   "outputs": [
    {
     "data": {
      "text/plain": [
       "CustomerID     0\n",
       "ChurnStatus    0\n",
       "dtype: int64"
      ]
     },
     "execution_count": 74,
     "metadata": {},
     "output_type": "execute_result"
    }
   ],
   "source": [
    "churn.isnull().sum()"
   ]
  },
  {
   "cell_type": "code",
   "execution_count": 75,
   "metadata": {},
   "outputs": [
    {
     "data": {
      "text/plain": [
       "0"
      ]
     },
     "execution_count": 75,
     "metadata": {},
     "output_type": "execute_result"
    }
   ],
   "source": [
    "# check for duplicate records\n",
    "customer.duplicated().sum()"
   ]
  },
  {
   "cell_type": "code",
   "execution_count": 76,
   "metadata": {},
   "outputs": [
    {
     "data": {
      "text/plain": [
       "0"
      ]
     },
     "execution_count": 76,
     "metadata": {},
     "output_type": "execute_result"
    }
   ],
   "source": [
    "transaction.duplicated().sum()"
   ]
  },
  {
   "cell_type": "code",
   "execution_count": 77,
   "metadata": {},
   "outputs": [
    {
     "data": {
      "text/plain": [
       "0"
      ]
     },
     "execution_count": 77,
     "metadata": {},
     "output_type": "execute_result"
    }
   ],
   "source": [
    "service.duplicated().sum()"
   ]
  },
  {
   "cell_type": "code",
   "execution_count": 78,
   "metadata": {},
   "outputs": [
    {
     "data": {
      "text/plain": [
       "0"
      ]
     },
     "execution_count": 78,
     "metadata": {},
     "output_type": "execute_result"
    }
   ],
   "source": [
    "activity.duplicated().sum()"
   ]
  },
  {
   "cell_type": "code",
   "execution_count": 79,
   "metadata": {},
   "outputs": [
    {
     "data": {
      "text/plain": [
       "0"
      ]
     },
     "execution_count": 79,
     "metadata": {},
     "output_type": "execute_result"
    }
   ],
   "source": [
    "churn.duplicated().sum()"
   ]
  },
  {
   "cell_type": "code",
   "execution_count": 80,
   "metadata": {},
   "outputs": [
    {
     "name": "stdout",
     "output_type": "stream",
     "text": [
      "(6812, 17)\n"
     ]
    }
   ],
   "source": [
    "# Now we will merge our datasets together to get a final data\n",
    "# Step 1: Merge customer with transactions\n",
    "merged_df = pd.merge(customer, transaction, on='CustomerID', how='outer')\n",
    "\n",
    "# Step 2: Merge with service interactions\n",
    "merged_df = pd.merge(merged_df, service, on='CustomerID', how='left')\n",
    "\n",
    "# Step 3: Merge with activity data\n",
    "merged_df = pd.merge(merged_df, activity, on='CustomerID', how='left')\n",
    "\n",
    "# Step 4: Merge with churn status\n",
    "final_df = pd.merge(merged_df, churn, on='CustomerID', how='left')\n",
    "\n",
    "# Check the shape of the final merged data\n",
    "print(final_df.shape)"
   ]
  },
  {
   "cell_type": "code",
   "execution_count": 81,
   "metadata": {},
   "outputs": [
    {
     "data": {
      "text/plain": [
       "CustomerID             0\n",
       "Age                    0\n",
       "Gender                 0\n",
       "MaritalStatus          0\n",
       "IncomeLevel            0\n",
       "TransactionID          0\n",
       "TransactionDate        0\n",
       "AmountSpent            0\n",
       "ProductCategory        0\n",
       "InteractionID       1608\n",
       "InteractionDate     1608\n",
       "InteractionType     1608\n",
       "ResolutionStatus    1608\n",
       "LastLoginDate          0\n",
       "LoginFrequency         0\n",
       "ServiceUsage           0\n",
       "ChurnStatus            0\n",
       "dtype: int64"
      ]
     },
     "execution_count": 81,
     "metadata": {},
     "output_type": "execute_result"
    }
   ],
   "source": [
    "# check for missing records\n",
    "final_df.isnull().sum()"
   ]
  },
  {
   "cell_type": "code",
   "execution_count": 82,
   "metadata": {},
   "outputs": [
    {
     "data": {
      "text/plain": [
       "0"
      ]
     },
     "execution_count": 82,
     "metadata": {},
     "output_type": "execute_result"
    }
   ],
   "source": [
    "# check for duplicate records\n",
    "final_df.duplicated().sum()"
   ]
  },
  {
   "cell_type": "code",
   "execution_count": 83,
   "metadata": {},
   "outputs": [
    {
     "data": {
      "text/html": [
       "<div>\n",
       "<style scoped>\n",
       "    .dataframe tbody tr th:only-of-type {\n",
       "        vertical-align: middle;\n",
       "    }\n",
       "\n",
       "    .dataframe tbody tr th {\n",
       "        vertical-align: top;\n",
       "    }\n",
       "\n",
       "    .dataframe thead th {\n",
       "        text-align: right;\n",
       "    }\n",
       "</style>\n",
       "<table border=\"1\" class=\"dataframe\">\n",
       "  <thead>\n",
       "    <tr style=\"text-align: right;\">\n",
       "      <th></th>\n",
       "      <th>CustomerID</th>\n",
       "      <th>Age</th>\n",
       "      <th>Gender</th>\n",
       "      <th>MaritalStatus</th>\n",
       "      <th>IncomeLevel</th>\n",
       "      <th>TransactionID</th>\n",
       "      <th>TransactionDate</th>\n",
       "      <th>AmountSpent</th>\n",
       "      <th>ProductCategory</th>\n",
       "      <th>InteractionID</th>\n",
       "      <th>InteractionDate</th>\n",
       "      <th>InteractionType</th>\n",
       "      <th>ResolutionStatus</th>\n",
       "      <th>LastLoginDate</th>\n",
       "      <th>LoginFrequency</th>\n",
       "      <th>ServiceUsage</th>\n",
       "      <th>ChurnStatus</th>\n",
       "    </tr>\n",
       "  </thead>\n",
       "  <tbody>\n",
       "    <tr>\n",
       "      <th>0</th>\n",
       "      <td>1</td>\n",
       "      <td>62</td>\n",
       "      <td>M</td>\n",
       "      <td>Single</td>\n",
       "      <td>Low</td>\n",
       "      <td>7194</td>\n",
       "      <td>2022-03-27</td>\n",
       "      <td>416.50</td>\n",
       "      <td>Electronics</td>\n",
       "      <td>6363.0</td>\n",
       "      <td>2022-03-31</td>\n",
       "      <td>Inquiry</td>\n",
       "      <td>Resolved</td>\n",
       "      <td>2023-10-21</td>\n",
       "      <td>34</td>\n",
       "      <td>Mobile App</td>\n",
       "      <td>0</td>\n",
       "    </tr>\n",
       "    <tr>\n",
       "      <th>1</th>\n",
       "      <td>2</td>\n",
       "      <td>65</td>\n",
       "      <td>M</td>\n",
       "      <td>Married</td>\n",
       "      <td>Low</td>\n",
       "      <td>7250</td>\n",
       "      <td>2022-08-08</td>\n",
       "      <td>54.96</td>\n",
       "      <td>Clothing</td>\n",
       "      <td>3329.0</td>\n",
       "      <td>2022-03-17</td>\n",
       "      <td>Inquiry</td>\n",
       "      <td>Resolved</td>\n",
       "      <td>2023-12-05</td>\n",
       "      <td>5</td>\n",
       "      <td>Website</td>\n",
       "      <td>1</td>\n",
       "    </tr>\n",
       "    <tr>\n",
       "      <th>2</th>\n",
       "      <td>2</td>\n",
       "      <td>65</td>\n",
       "      <td>M</td>\n",
       "      <td>Married</td>\n",
       "      <td>Low</td>\n",
       "      <td>9660</td>\n",
       "      <td>2022-07-25</td>\n",
       "      <td>197.50</td>\n",
       "      <td>Electronics</td>\n",
       "      <td>3329.0</td>\n",
       "      <td>2022-03-17</td>\n",
       "      <td>Inquiry</td>\n",
       "      <td>Resolved</td>\n",
       "      <td>2023-12-05</td>\n",
       "      <td>5</td>\n",
       "      <td>Website</td>\n",
       "      <td>1</td>\n",
       "    </tr>\n",
       "    <tr>\n",
       "      <th>3</th>\n",
       "      <td>2</td>\n",
       "      <td>65</td>\n",
       "      <td>M</td>\n",
       "      <td>Married</td>\n",
       "      <td>Low</td>\n",
       "      <td>2998</td>\n",
       "      <td>2022-01-25</td>\n",
       "      <td>101.31</td>\n",
       "      <td>Furniture</td>\n",
       "      <td>3329.0</td>\n",
       "      <td>2022-03-17</td>\n",
       "      <td>Inquiry</td>\n",
       "      <td>Resolved</td>\n",
       "      <td>2023-12-05</td>\n",
       "      <td>5</td>\n",
       "      <td>Website</td>\n",
       "      <td>1</td>\n",
       "    </tr>\n",
       "    <tr>\n",
       "      <th>4</th>\n",
       "      <td>2</td>\n",
       "      <td>65</td>\n",
       "      <td>M</td>\n",
       "      <td>Married</td>\n",
       "      <td>Low</td>\n",
       "      <td>1228</td>\n",
       "      <td>2022-07-24</td>\n",
       "      <td>397.37</td>\n",
       "      <td>Clothing</td>\n",
       "      <td>3329.0</td>\n",
       "      <td>2022-03-17</td>\n",
       "      <td>Inquiry</td>\n",
       "      <td>Resolved</td>\n",
       "      <td>2023-12-05</td>\n",
       "      <td>5</td>\n",
       "      <td>Website</td>\n",
       "      <td>1</td>\n",
       "    </tr>\n",
       "  </tbody>\n",
       "</table>\n",
       "</div>"
      ],
      "text/plain": [
       "   CustomerID  Age Gender MaritalStatus IncomeLevel  TransactionID  \\\n",
       "0           1   62      M        Single         Low           7194   \n",
       "1           2   65      M       Married         Low           7250   \n",
       "2           2   65      M       Married         Low           9660   \n",
       "3           2   65      M       Married         Low           2998   \n",
       "4           2   65      M       Married         Low           1228   \n",
       "\n",
       "  TransactionDate  AmountSpent ProductCategory  InteractionID InteractionDate  \\\n",
       "0      2022-03-27       416.50     Electronics         6363.0      2022-03-31   \n",
       "1      2022-08-08        54.96        Clothing         3329.0      2022-03-17   \n",
       "2      2022-07-25       197.50     Electronics         3329.0      2022-03-17   \n",
       "3      2022-01-25       101.31       Furniture         3329.0      2022-03-17   \n",
       "4      2022-07-24       397.37        Clothing         3329.0      2022-03-17   \n",
       "\n",
       "  InteractionType ResolutionStatus LastLoginDate  LoginFrequency ServiceUsage  \\\n",
       "0         Inquiry         Resolved    2023-10-21              34   Mobile App   \n",
       "1         Inquiry         Resolved    2023-12-05               5      Website   \n",
       "2         Inquiry         Resolved    2023-12-05               5      Website   \n",
       "3         Inquiry         Resolved    2023-12-05               5      Website   \n",
       "4         Inquiry         Resolved    2023-12-05               5      Website   \n",
       "\n",
       "   ChurnStatus  \n",
       "0            0  \n",
       "1            1  \n",
       "2            1  \n",
       "3            1  \n",
       "4            1  "
      ]
     },
     "execution_count": 83,
     "metadata": {},
     "output_type": "execute_result"
    }
   ],
   "source": [
    "final_df.head()"
   ]
  },
  {
   "cell_type": "markdown",
   "metadata": {},
   "source": [
    "### Exploratory Data Analysis (EDA):\n",
    "We will perform on individual datasets as well the merged data."
   ]
  },
  {
   "cell_type": "markdown",
   "metadata": {},
   "source": [
    "#### Customer Data EDA:"
   ]
  },
  {
   "cell_type": "code",
   "execution_count": 84,
   "metadata": {},
   "outputs": [
    {
     "data": {
      "image/png": "[encoded data removed]",
      "text/plain": [
       "<Figure size 1200x400 with 1 Axes>"
      ]
     },
     "metadata": {},
     "output_type": "display_data"
    }
   ],
   "source": [
    "# Customer Age Histogram\n",
    "plt.figure(figsize=(12,4))\n",
    "\n",
    "sns.histplot(data=customer, x='Age', kde=True, stat='count', color='green')\n",
    "plt.xlabel(\"Age\")\n",
    "plt.ylabel(\"Frequency\")\n",
    "plt.title(\"Customer Age Histogram\")\n",
    "plt.show()"
   ]
  },
  {
   "cell_type": "code",
   "execution_count": 85,
   "metadata": {},
   "outputs": [
    {
     "data": {
      "text/plain": [
       "F    513\n",
       "M    487\n",
       "Name: Gender, dtype: int64"
      ]
     },
     "execution_count": 85,
     "metadata": {},
     "output_type": "execute_result"
    }
   ],
   "source": [
    "# Gender Distribution\n",
    "customer['Gender'].value_counts()"
   ]
  },
  {
   "cell_type": "code",
   "execution_count": 86,
   "metadata": {},
   "outputs": [
    {
     "data": {
      "text/plain": [
       "Widowed     276\n",
       "Married     261\n",
       "Divorced    248\n",
       "Single      215\n",
       "Name: MaritalStatus, dtype: int64"
      ]
     },
     "execution_count": 86,
     "metadata": {},
     "output_type": "execute_result"
    }
   ],
   "source": [
    "# Marital Status\n",
    "customer['MaritalStatus'].value_counts()"
   ]
  },
  {
   "cell_type": "code",
   "execution_count": 87,
   "metadata": {},
   "outputs": [
    {
     "data": {
      "text/plain": [
       "High      349\n",
       "Medium    326\n",
       "Low       325\n",
       "Name: IncomeLevel, dtype: int64"
      ]
     },
     "execution_count": 87,
     "metadata": {},
     "output_type": "execute_result"
    }
   ],
   "source": [
    "# Income Level\n",
    "customer['IncomeLevel'].value_counts()"
   ]
  },
  {
   "cell_type": "code",
   "execution_count": 88,
   "metadata": {},
   "outputs": [
    {
     "data": {
      "image/png": "[encoded data removed]",
      "text/plain": [
       "<Figure size 1200x800 with 3 Axes>"
      ]
     },
     "metadata": {},
     "output_type": "display_data"
    }
   ],
   "source": [
    "plt.figure(figsize=(12,8))\n",
    "\n",
    "# Customer Gender Distribution\n",
    "ax1 = plt.subplot2grid((1,3), (0,0))\n",
    "\n",
    "palette1 = sns.color_palette(\"crest_r\", len(customer['Gender'].unique()))\n",
    "dataGender = customer['Gender'].value_counts().values\n",
    "labelsGender = customer['Gender'].value_counts().index\n",
    "\n",
    "plt.pie(x=dataGender, labels=labelsGender, \n",
    "        autopct=lambda p : '{:.2f}% ({:,.0f})'.format(p,p * sum(dataGender)/100), colors=palette1, shadow=True)\n",
    "# plt.legend(labelsGender, loc='upper right', title='Gender')\n",
    "plt.title(\"Customer Gender Distribution\")\n",
    "\n",
    "# Customer Marital Status\n",
    "ax2 = plt.subplot2grid((1,3), (0,1))\n",
    "\n",
    "palette1 = sns.color_palette(\"crest_r\", len(customer['MaritalStatus'].unique()))\n",
    "dataMaritalStatus = customer['MaritalStatus'].value_counts().values\n",
    "labelsMaritalStatus = customer['MaritalStatus'].value_counts().index\n",
    "\n",
    "plt.pie(x=dataMaritalStatus, labels=labelsMaritalStatus, \n",
    "        autopct=lambda p : '{:.2f}% ({:,.0f})'.format(p,p * sum(dataMaritalStatus)/100), colors=palette1, shadow=True)\n",
    "# plt.legend(labelsMaritalStatus, loc='upper right', title='Marital Status')\n",
    "plt.title(\"Customer Marital Status\")\n",
    "\n",
    "# Customer Income Level\n",
    "ax3 = plt.subplot2grid((1,3), (0,2))\n",
    "\n",
    "palette1 = sns.color_palette(\"crest_r\", len(customer['IncomeLevel'].unique()))\n",
    "dataIncomeLevel = customer['IncomeLevel'].value_counts().values\n",
    "labelsIncomeLevel = customer['IncomeLevel'].value_counts().index\n",
    "\n",
    "plt.pie(x=dataIncomeLevel, labels=labelsIncomeLevel, \n",
    "        autopct=lambda p : '{:.2f}% ({:,.0f})'.format(p,p * sum(dataIncomeLevel)/100), colors=palette1, shadow=True)\n",
    "# plt.legend(labelsIncomeLevel, loc='upper right', title='Income Level')\n",
    "plt.title(\"Customer Income Level\")\n",
    "\n",
    "plt.tight_layout()\n",
    "plt.show()"
   ]
  },
  {
   "cell_type": "code",
   "execution_count": 89,
   "metadata": {},
   "outputs": [
    {
     "data": {
      "image/png": "[encoded data removed]",
      "text/plain": [
       "<Figure size 1800x400 with 4 Axes>"
      ]
     },
     "metadata": {},
     "output_type": "display_data"
    }
   ],
   "source": [
    "plt.figure(figsize=(18, 4))\n",
    "\n",
    "# Age vs Gender\n",
    "ax1 = plt.subplot2grid((1,4),(0,0))\n",
    "\n",
    "sns.boxplot(x='Gender', y='Age', data=customer, palette='crest', ax=ax1)\n",
    "plt.title('Age Distribution by Gender')\n",
    "plt.xlabel('Gender')\n",
    "plt.ylabel('Age')\n",
    "\n",
    "# Age vs Marital Status\n",
    "ax2 = plt.subplot2grid((1,4),(0,1))\n",
    "\n",
    "sns.boxplot(x='MaritalStatus', y='Age', data=customer, palette='crest', ax=ax2)\n",
    "plt.title('Age Distribution by Marital Status')\n",
    "plt.xlabel('Marital Status')\n",
    "plt.ylabel('Age')\n",
    "\n",
    "# Age vs Income Level\n",
    "ax3 = plt.subplot2grid((1,4),(0,2))\n",
    "\n",
    "sns.boxplot(x='IncomeLevel', y='Age', data=customer, palette='crest', ax=ax3)\n",
    "plt.title('Age Distribution by Income Level')\n",
    "\n",
    "# Income Level vs Gender\n",
    "ax4 = plt.subplot2grid((1,4),(0,3))\n",
    "\n",
    "sns.countplot(x='IncomeLevel', hue='Gender', data=customer, palette='crest', ax=ax4)\n",
    "plt.title('Income Level Distribution by Gender')\n",
    "\n",
    "plt.tight_layout()\n",
    "plt.show()"
   ]
  },
  {
   "cell_type": "code",
   "execution_count": 90,
   "metadata": {},
   "outputs": [
    {
     "data": {
      "image/png": "[encoded data removed]",
      "text/plain": [
       "<Figure size 1500x500 with 3 Axes>"
      ]
     },
     "metadata": {},
     "output_type": "display_data"
    }
   ],
   "source": [
    "plt.figure(figsize=(15, 5))\n",
    "\n",
    "# Age, Gender, and Income Level\n",
    "ax1 = plt.subplot2grid((1,2),(0,0))\n",
    "\n",
    "sns.boxplot(x='IncomeLevel', y='Age', hue='Gender', data=customer, palette='crest', ax=ax1)\n",
    "plt.title('Age Distribution by Gender and Income Level')\n",
    "\n",
    "# Age, Marital Status, and Income Level (Heatmap)\n",
    "ax2 = plt.subplot2grid((1,2),(0,1))\n",
    "\n",
    "# Creating a pivot table for heatmap\n",
    "pivot_table = customer.pivot_table(index='MaritalStatus', columns='IncomeLevel', values='Age', aggfunc='mean')\n",
    "sns.heatmap(pivot_table, annot=True, cmap='crest', ax=ax2)\n",
    "plt.title('Average Age by Marital Status and Income Level')\n",
    "\n",
    "plt.tight_layout()\n",
    "plt.show()"
   ]
  },
  {
   "cell_type": "markdown",
   "metadata": {},
   "source": [
    "#### Transaction Data EDA:"
   ]
  },
  {
   "cell_type": "code",
   "execution_count": 91,
   "metadata": {},
   "outputs": [],
   "source": [
    "# add month column\n",
    "transaction['Month'] = transaction['TransactionDate'].dt.month_name()"
   ]
  },
  {
   "cell_type": "code",
   "execution_count": 92,
   "metadata": {},
   "outputs": [
    {
     "data": {
      "text/html": [
       "<div>\n",
       "<style scoped>\n",
       "    .dataframe tbody tr th:only-of-type {\n",
       "        vertical-align: middle;\n",
       "    }\n",
       "\n",
       "    .dataframe tbody tr th {\n",
       "        vertical-align: top;\n",
       "    }\n",
       "\n",
       "    .dataframe thead th {\n",
       "        text-align: right;\n",
       "    }\n",
       "</style>\n",
       "<table border=\"1\" class=\"dataframe\">\n",
       "  <thead>\n",
       "    <tr style=\"text-align: right;\">\n",
       "      <th></th>\n",
       "      <th>CustomerID</th>\n",
       "      <th>TransactionID</th>\n",
       "      <th>TransactionDate</th>\n",
       "      <th>AmountSpent</th>\n",
       "      <th>ProductCategory</th>\n",
       "      <th>Month</th>\n",
       "    </tr>\n",
       "  </thead>\n",
       "  <tbody>\n",
       "    <tr>\n",
       "      <th>0</th>\n",
       "      <td>1</td>\n",
       "      <td>7194</td>\n",
       "      <td>2022-03-27</td>\n",
       "      <td>416.50</td>\n",
       "      <td>Electronics</td>\n",
       "      <td>March</td>\n",
       "    </tr>\n",
       "    <tr>\n",
       "      <th>1</th>\n",
       "      <td>2</td>\n",
       "      <td>7250</td>\n",
       "      <td>2022-08-08</td>\n",
       "      <td>54.96</td>\n",
       "      <td>Clothing</td>\n",
       "      <td>August</td>\n",
       "    </tr>\n",
       "    <tr>\n",
       "      <th>2</th>\n",
       "      <td>2</td>\n",
       "      <td>9660</td>\n",
       "      <td>2022-07-25</td>\n",
       "      <td>197.50</td>\n",
       "      <td>Electronics</td>\n",
       "      <td>July</td>\n",
       "    </tr>\n",
       "    <tr>\n",
       "      <th>3</th>\n",
       "      <td>2</td>\n",
       "      <td>2998</td>\n",
       "      <td>2022-01-25</td>\n",
       "      <td>101.31</td>\n",
       "      <td>Furniture</td>\n",
       "      <td>January</td>\n",
       "    </tr>\n",
       "    <tr>\n",
       "      <th>4</th>\n",
       "      <td>2</td>\n",
       "      <td>1228</td>\n",
       "      <td>2022-07-24</td>\n",
       "      <td>397.37</td>\n",
       "      <td>Clothing</td>\n",
       "      <td>July</td>\n",
       "    </tr>\n",
       "  </tbody>\n",
       "</table>\n",
       "</div>"
      ],
      "text/plain": [
       "   CustomerID  TransactionID TransactionDate  AmountSpent ProductCategory  \\\n",
       "0           1           7194      2022-03-27       416.50     Electronics   \n",
       "1           2           7250      2022-08-08        54.96        Clothing   \n",
       "2           2           9660      2022-07-25       197.50     Electronics   \n",
       "3           2           2998      2022-01-25       101.31       Furniture   \n",
       "4           2           1228      2022-07-24       397.37        Clothing   \n",
       "\n",
       "     Month  \n",
       "0    March  \n",
       "1   August  \n",
       "2     July  \n",
       "3  January  \n",
       "4     July  "
      ]
     },
     "execution_count": 92,
     "metadata": {},
     "output_type": "execute_result"
    }
   ],
   "source": [
    "transaction.head()"
   ]
  },
  {
   "cell_type": "code",
   "execution_count": 93,
   "metadata": {},
   "outputs": [
    {
     "data": {
      "text/html": [
       "<div>\n",
       "<style scoped>\n",
       "    .dataframe tbody tr th:only-of-type {\n",
       "        vertical-align: middle;\n",
       "    }\n",
       "\n",
       "    .dataframe tbody tr th {\n",
       "        vertical-align: top;\n",
       "    }\n",
       "\n",
       "    .dataframe thead th {\n",
       "        text-align: right;\n",
       "    }\n",
       "</style>\n",
       "<table border=\"1\" class=\"dataframe\">\n",
       "  <thead>\n",
       "    <tr style=\"text-align: right;\">\n",
       "      <th></th>\n",
       "      <th>CustomerID</th>\n",
       "      <th>AmountSpent</th>\n",
       "    </tr>\n",
       "  </thead>\n",
       "  <tbody>\n",
       "    <tr>\n",
       "      <th>0</th>\n",
       "      <td>481</td>\n",
       "      <td>3386.04</td>\n",
       "    </tr>\n",
       "    <tr>\n",
       "      <th>1</th>\n",
       "      <td>369</td>\n",
       "      <td>3352.34</td>\n",
       "    </tr>\n",
       "    <tr>\n",
       "      <th>2</th>\n",
       "      <td>716</td>\n",
       "      <td>3220.30</td>\n",
       "    </tr>\n",
       "    <tr>\n",
       "      <th>3</th>\n",
       "      <td>37</td>\n",
       "      <td>3166.88</td>\n",
       "    </tr>\n",
       "    <tr>\n",
       "      <th>4</th>\n",
       "      <td>518</td>\n",
       "      <td>3078.60</td>\n",
       "    </tr>\n",
       "    <tr>\n",
       "      <th>5</th>\n",
       "      <td>551</td>\n",
       "      <td>3027.91</td>\n",
       "    </tr>\n",
       "    <tr>\n",
       "      <th>6</th>\n",
       "      <td>893</td>\n",
       "      <td>3026.91</td>\n",
       "    </tr>\n",
       "    <tr>\n",
       "      <th>7</th>\n",
       "      <td>245</td>\n",
       "      <td>2965.09</td>\n",
       "    </tr>\n",
       "    <tr>\n",
       "      <th>8</th>\n",
       "      <td>593</td>\n",
       "      <td>2959.62</td>\n",
       "    </tr>\n",
       "    <tr>\n",
       "      <th>9</th>\n",
       "      <td>262</td>\n",
       "      <td>2940.59</td>\n",
       "    </tr>\n",
       "  </tbody>\n",
       "</table>\n",
       "</div>"
      ],
      "text/plain": [
       "   CustomerID  AmountSpent\n",
       "0         481      3386.04\n",
       "1         369      3352.34\n",
       "2         716      3220.30\n",
       "3          37      3166.88\n",
       "4         518      3078.60\n",
       "5         551      3027.91\n",
       "6         893      3026.91\n",
       "7         245      2965.09\n",
       "8         593      2959.62\n",
       "9         262      2940.59"
      ]
     },
     "execution_count": 93,
     "metadata": {},
     "output_type": "execute_result"
    }
   ],
   "source": [
    "# Customers with highest amount spent\n",
    "transaction.groupby(['CustomerID'])['AmountSpent'].sum().sort_values(ascending=False).head(10).reset_index()"
   ]
  },
  {
   "cell_type": "code",
   "execution_count": 94,
   "metadata": {},
   "outputs": [
    {
     "data": {
      "image/png": "[encoded data removed]",
      "text/plain": [
       "<Figure size 1800x400 with 3 Axes>"
      ]
     },
     "metadata": {},
     "output_type": "display_data"
    }
   ],
   "source": [
    "plt.figure(figsize=(18,4))\n",
    "\n",
    "# Amount Spent\n",
    "ax1 = plt.subplot2grid((1,3),(0,0))\n",
    "\n",
    "sns.histplot(transaction['AmountSpent'], bins=20, kde=True, palette='crest', ax=ax1)\n",
    "plt.title('Distribution of Amount Spent')\n",
    "plt.xlabel('Amount Spent')\n",
    "plt.ylabel('Frequency')\n",
    "\n",
    "# Product Category\n",
    "ax2 = plt.subplot2grid((1,3),(0,1))\n",
    "\n",
    "sns.countplot(y=transaction['ProductCategory'], palette='crest_r', order=transaction['ProductCategory'].value_counts().index, ax=ax2)\n",
    "for i in ax2.containers:\n",
    "    plt.bar_label(i)\n",
    "plt.title('Transaction Count by Product Category')\n",
    "plt.xlabel('Count')\n",
    "plt.ylabel('Product Category')\n",
    "\n",
    "# Transactions by Month\n",
    "ax3 = plt.subplot2grid((1,3),(0,2))\n",
    "\n",
    "sns.countplot(y=transaction['Month'], color='steelblue', order=['January', 'February', 'March', 'April', 'May', 'June', 'July', 'August', \n",
    "                                                                'September', 'October', 'November', 'December'])\n",
    "for i in ax3.containers:\n",
    "    plt.bar_label(i)\n",
    "plt.title('Transactions by Month')\n",
    "plt.xlabel('Month')\n",
    "plt.ylabel('Count')\n",
    "\n",
    "plt.tight_layout()\n",
    "plt.show()"
   ]
  }
 ],
 "metadata": {
  "kernelspec": {
   "display_name": "Deep_Learning",
   "language": "python",
   "name": "python3"
  },
  "language_info": {
   "codemirror_mode": {
    "name": "ipython",
    "version": 3
   },
   "file_extension": ".py",
   "mimetype": "text/x-python",
   "name": "python",
   "nbconvert_exporter": "python",
   "pygments_lexer": "ipython3",
   "version": "3.9.18"
  }
 },
 "nbformat": 4,
 "nbformat_minor": 2
}
