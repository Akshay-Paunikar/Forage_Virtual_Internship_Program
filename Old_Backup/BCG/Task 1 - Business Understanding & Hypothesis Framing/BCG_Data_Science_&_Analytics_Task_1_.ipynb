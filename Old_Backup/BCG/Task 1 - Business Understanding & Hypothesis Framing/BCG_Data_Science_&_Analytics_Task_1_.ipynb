{
 "cells": [
  {
   "attachments": {},
   "cell_type": "markdown",
   "metadata": {},
   "source": [
    "## <center>BCG Data Science and Analytics Virtual Experience Program</center>\n",
    "### <center>Task 1: Business Understanding & Hypothesis Framing\n",
    "<center>Understanding the business context and problem statement.</center>\n",
    "\n",
    "#### <center>Author: Akshay Pandurang Paunikar</center>"
   ]
  },
  {
   "attachments": {},
   "cell_type": "markdown",
   "metadata": {},
   "source": [
    "#### Here is the background information on your task\n",
    "PowerCo is a major gas and electricity utility that supplies to corporate, SME (Small & Medium Enterprise), and residential customers. The power-liberalization of the energy market in Europe has led to significant customer churn, especially in the SME segment. They have partnered with BCG to help diagnose the source of churning SME customers.\n",
    "\n",
    "A fair hypothesis is that price changes affect customer churn. Therefore, it is helpful to know which customers are more (or less) likely to churn at their current price, for which a good predictive model could be useful.\n",
    "\n",
    "Moreover, for those customers that are at risk of churning, a discount might incentivize them to stay with our client. The head of the SME division is considering a 20% discount that is considered large enough to dissuade almost anyone from churning (especially those for whom price is the primary concern).\n",
    "\n",
    "The Associate Director (AD) held an initial team meeting to discuss various hypotheses, including churn due to price sensitivity. After discussion with your team, you have been asked to go deeper on the hypothesis that the churn is driven by the customers’ price sensitivities. \n",
    "\n",
    "Your AD wants an email with your thoughts on how the team should go about testing this hypothesis.\n",
    "\n",
    "The client plans to use the predictive model on the 1st working day of every month to indicate to which customers the 20% discount should be offered.\n",
    "\n",
    "\n",
    "### Here is your task\n",
    "Your first task today is to understand what is going on with the client and to think about how you would approach this problem and test the specific hypothesis.\n",
    "\n",
    "You must formulate the hypothesis as a data science problem and lay out the major steps needed to test this hypothesis. Communicate your thoughts and findings in an email to your AD, focusing on the data that you would need from the client and the analytical models you would use to test such a hypothesis.\n",
    "\n",
    "We would suggest spending no more than one hour on this task.\n",
    "\n",
    "Please note, there are multiple ways to approach the task and that the model answer is just one way to do it.\n",
    "\n",
    "If you are stuck: \n",
    "\n",
    "Remember what the key factors are for a customer deciding to stay with or switch providers\n",
    "Think of data sources and fields that could be used to explore the contribution of various factors to a customer’s possible action \n",
    "Ideally, what would a data frame of your choice look like – what should each column and row represent? \n",
    "What kind of exploratory analyses on the relevant fields can give more insights about the customer's churn behavior? "
   ]
  },
  {
   "attachments": {},
   "cell_type": "markdown",
   "metadata": {},
   "source": [
    "#### Task 1 Solution:\n",
    "\n",
    "Dear XX YY ZZ\n",
    "\n",
    "Associate Director (AD)\n",
    "\n",
    "BCG\n",
    "\n",
    "As you know that we are currently working on PowerCo’s project. The client is a major gas and \n",
    "electricity utility which supplies power to corporate, SME and residential customers. The power\u0002liberalization of the energy market in Europe has led to significant customer churn, especially in \n",
    "the SME segment. Hence, they came to us to get help with the SME segment.\n",
    "There are mainly 2 hypotheses to test:\n",
    "\n",
    "    1. The customer churn is driven by customer price sensitivity.\n",
    "    2. Offering customers at high propensity to churn a 20% discount might be effective.\n",
    "    \n",
    "In order to test the two hypotheses, we would need to model the churn probabilities of \n",
    "customers, and derive the effect of prices on churn rates. We would need the following data to \n",
    "be able to build the following models:\n",
    "\n",
    "    1. The SME customer data which contains the SME customer’s characteristics of each client\n",
    "    2. Churn data which indicate if the SME customer has churned or not.\n",
    "    3. Price data which indicates the prices of different SME customers at different times.\n",
    "\n",
    "When we get the data and after initial basic descriptive statistics, we need to do the Exploratory \n",
    "Data Analysis (EDA) to confirm if the churn is driven by customer price sensitivity. If it is driven \n",
    "by customer price sensitively, then we can build a binary model (e.g. Logistic Regression, Random \n",
    "Forest, Gradient Boosted Machines to name a few), to predict customers likely to churn. We can \n",
    "find the most appropriate model that fits best. Once we get the model, based on the model, we \n",
    "would be able to understand the impact of price on churn rates and we can size the business \n",
    "impact of the second hypothesis.\n",
    "Regards,\n",
    "Akshay Pandurang Paunikar\n",
    "Intern – Data Science & Analytics"
   ]
  }
 ],
 "metadata": {
  "language_info": {
   "name": "python"
  },
  "orig_nbformat": 4
 },
 "nbformat": 4,
 "nbformat_minor": 2
}
