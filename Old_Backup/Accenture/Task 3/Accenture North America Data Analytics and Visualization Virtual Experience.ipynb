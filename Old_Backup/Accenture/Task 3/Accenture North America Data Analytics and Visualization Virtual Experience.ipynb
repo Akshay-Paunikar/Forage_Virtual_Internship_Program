{
 "cells": [
  {
   "cell_type": "markdown",
   "id": "d2cc9071",
   "metadata": {},
   "source": [
    "<h2><center>Accenture North America Data Analytics and Visualization Virtual Experience</center></h2>\n",
    "<h3><center>Task 3 : Data Visualization & Storytelling</center></h3>\n",
    "<h5><center>Bring your data to life and uncover insights for the business.</center></h5>\n",
    "<h4><center>Author : Akshay Pandurang Paunikar</center></h4>"
   ]
  },
  {
   "cell_type": "code",
   "execution_count": 1,
   "id": "7e7e8625",
   "metadata": {},
   "outputs": [],
   "source": [
    "# Import required libraries\n",
    "import numpy as np\n",
    "import pandas as pd\n",
    "import matplotlib.pyplot as plt\n",
    "%matplotlib inline\n",
    "import seaborn as sns"
   ]
  },
  {
   "cell_type": "code",
   "execution_count": 2,
   "id": "0cece844",
   "metadata": {},
   "outputs": [
    {
     "name": "stdout",
     "output_type": "stream",
     "text": [
      "E:\\FORAGE\\ACCENTURE\\Task 3\n"
     ]
    }
   ],
   "source": [
    "# Set the working directory\n",
    "import io\n",
    "%cd \"E:\\FORAGE\\ACCENTURE\\Task 3\""
   ]
  },
  {
   "cell_type": "code",
   "execution_count": 3,
   "id": "6d3fe0c7",
   "metadata": {},
   "outputs": [],
   "source": [
    "# Load the dataset\n",
    "data = pd.read_excel(\"Submission.xlsx\")"
   ]
  },
  {
   "cell_type": "code",
   "execution_count": 4,
   "id": "bcf260b1",
   "metadata": {},
   "outputs": [
    {
     "data": {
      "text/html": [
       "<div>\n",
       "<style scoped>\n",
       "    .dataframe tbody tr th:only-of-type {\n",
       "        vertical-align: middle;\n",
       "    }\n",
       "\n",
       "    .dataframe tbody tr th {\n",
       "        vertical-align: top;\n",
       "    }\n",
       "\n",
       "    .dataframe thead th {\n",
       "        text-align: right;\n",
       "    }\n",
       "</style>\n",
       "<table border=\"1\" class=\"dataframe\">\n",
       "  <thead>\n",
       "    <tr style=\"text-align: right;\">\n",
       "      <th></th>\n",
       "      <th>Sr. No.</th>\n",
       "      <th>Content ID</th>\n",
       "      <th>User ID</th>\n",
       "      <th>Name</th>\n",
       "      <th>Email</th>\n",
       "      <th>Interests</th>\n",
       "      <th>Age</th>\n",
       "      <th>Address</th>\n",
       "      <th>Device</th>\n",
       "      <th>Duration</th>\n",
       "      <th>Type</th>\n",
       "      <th>Category</th>\n",
       "      <th>ReactionType</th>\n",
       "      <th>Year</th>\n",
       "      <th>Month</th>\n",
       "      <th>Day</th>\n",
       "      <th>Hour</th>\n",
       "      <th>Sentiment</th>\n",
       "      <th>Score</th>\n",
       "    </tr>\n",
       "  </thead>\n",
       "  <tbody>\n",
       "    <tr>\n",
       "      <th>0</th>\n",
       "      <td>1</td>\n",
       "      <td>97522e57-d9ab-4bd6-97bf-c24d952602d2</td>\n",
       "      <td>8d3cd87d-8a31-4935-9a4f-b319bfe05f31</td>\n",
       "      <td>Laura Rodriguez</td>\n",
       "      <td>LR@gmail.com</td>\n",
       "      <td>Education, Studying</td>\n",
       "      <td>13</td>\n",
       "      <td>KY</td>\n",
       "      <td>Microsoft</td>\n",
       "      <td>10</td>\n",
       "      <td>photo</td>\n",
       "      <td>Studying</td>\n",
       "      <td>Intrigued</td>\n",
       "      <td>2020</td>\n",
       "      <td>7</td>\n",
       "      <td>28</td>\n",
       "      <td>7</td>\n",
       "      <td>Positive</td>\n",
       "      <td>45</td>\n",
       "    </tr>\n",
       "    <tr>\n",
       "      <th>1</th>\n",
       "      <td>2</td>\n",
       "      <td>97522e57-d9ab-4bd6-97bf-c24d952602d2</td>\n",
       "      <td>8d3cd87d-8a31-4935-9a4f-b319bfe05f31</td>\n",
       "      <td>Laura Rodriguez</td>\n",
       "      <td>LR@gmail.com</td>\n",
       "      <td>Education, Studying</td>\n",
       "      <td>13</td>\n",
       "      <td>KY</td>\n",
       "      <td>Microsoft</td>\n",
       "      <td>10</td>\n",
       "      <td>photo</td>\n",
       "      <td>Studying</td>\n",
       "      <td>Hate</td>\n",
       "      <td>2021</td>\n",
       "      <td>5</td>\n",
       "      <td>29</td>\n",
       "      <td>4</td>\n",
       "      <td>Negative</td>\n",
       "      <td>5</td>\n",
       "    </tr>\n",
       "    <tr>\n",
       "      <th>2</th>\n",
       "      <td>3</td>\n",
       "      <td>97522e57-d9ab-4bd6-97bf-c24d952602d2</td>\n",
       "      <td>8d3cd87d-8a31-4935-9a4f-b319bfe05f31</td>\n",
       "      <td>Laura Rodriguez</td>\n",
       "      <td>LR@gmail.com</td>\n",
       "      <td>Education, Studying</td>\n",
       "      <td>13</td>\n",
       "      <td>KY</td>\n",
       "      <td>Microsoft</td>\n",
       "      <td>10</td>\n",
       "      <td>photo</td>\n",
       "      <td>Studying</td>\n",
       "      <td>Hate</td>\n",
       "      <td>2021</td>\n",
       "      <td>1</td>\n",
       "      <td>19</td>\n",
       "      <td>22</td>\n",
       "      <td>Negative</td>\n",
       "      <td>5</td>\n",
       "    </tr>\n",
       "    <tr>\n",
       "      <th>3</th>\n",
       "      <td>4</td>\n",
       "      <td>97522e57-d9ab-4bd6-97bf-c24d952602d2</td>\n",
       "      <td>8d3cd87d-8a31-4935-9a4f-b319bfe05f31</td>\n",
       "      <td>Laura Rodriguez</td>\n",
       "      <td>LR@gmail.com</td>\n",
       "      <td>Education, Studying</td>\n",
       "      <td>13</td>\n",
       "      <td>KY</td>\n",
       "      <td>Microsoft</td>\n",
       "      <td>10</td>\n",
       "      <td>photo</td>\n",
       "      <td>Studying</td>\n",
       "      <td>Want</td>\n",
       "      <td>2020</td>\n",
       "      <td>8</td>\n",
       "      <td>10</td>\n",
       "      <td>5</td>\n",
       "      <td>Positive</td>\n",
       "      <td>70</td>\n",
       "    </tr>\n",
       "    <tr>\n",
       "      <th>4</th>\n",
       "      <td>5</td>\n",
       "      <td>7913b30d-19fd-4900-8a68-ce141192b3ec</td>\n",
       "      <td>5d454588-283d-459d-915d-c48a2cb4c27f</td>\n",
       "      <td>Richard Smith</td>\n",
       "      <td>RS@gmail.com</td>\n",
       "      <td>Travel</td>\n",
       "      <td>6</td>\n",
       "      <td>OH</td>\n",
       "      <td>Motorola</td>\n",
       "      <td>88</td>\n",
       "      <td>audio</td>\n",
       "      <td>Cooking</td>\n",
       "      <td>Disgust</td>\n",
       "      <td>2020</td>\n",
       "      <td>11</td>\n",
       "      <td>7</td>\n",
       "      <td>9</td>\n",
       "      <td>Negative</td>\n",
       "      <td>0</td>\n",
       "    </tr>\n",
       "  </tbody>\n",
       "</table>\n",
       "</div>"
      ],
      "text/plain": [
       "   Sr. No.                            Content ID  \\\n",
       "0        1  97522e57-d9ab-4bd6-97bf-c24d952602d2   \n",
       "1        2  97522e57-d9ab-4bd6-97bf-c24d952602d2   \n",
       "2        3  97522e57-d9ab-4bd6-97bf-c24d952602d2   \n",
       "3        4  97522e57-d9ab-4bd6-97bf-c24d952602d2   \n",
       "4        5  7913b30d-19fd-4900-8a68-ce141192b3ec   \n",
       "\n",
       "                                User ID             Name         Email  \\\n",
       "0  8d3cd87d-8a31-4935-9a4f-b319bfe05f31  Laura Rodriguez  LR@gmail.com   \n",
       "1  8d3cd87d-8a31-4935-9a4f-b319bfe05f31  Laura Rodriguez  LR@gmail.com   \n",
       "2  8d3cd87d-8a31-4935-9a4f-b319bfe05f31  Laura Rodriguez  LR@gmail.com   \n",
       "3  8d3cd87d-8a31-4935-9a4f-b319bfe05f31  Laura Rodriguez  LR@gmail.com   \n",
       "4  5d454588-283d-459d-915d-c48a2cb4c27f    Richard Smith  RS@gmail.com   \n",
       "\n",
       "             Interests  Age Address     Device  Duration   Type  Category  \\\n",
       "0  Education, Studying   13      KY  Microsoft        10  photo  Studying   \n",
       "1  Education, Studying   13      KY  Microsoft        10  photo  Studying   \n",
       "2  Education, Studying   13      KY  Microsoft        10  photo  Studying   \n",
       "3  Education, Studying   13      KY  Microsoft        10  photo  Studying   \n",
       "4               Travel    6      OH   Motorola        88  audio   Cooking   \n",
       "\n",
       "  ReactionType  Year  Month  Day  Hour Sentiment  Score  \n",
       "0    Intrigued  2020      7   28     7  Positive     45  \n",
       "1         Hate  2021      5   29     4  Negative      5  \n",
       "2         Hate  2021      1   19    22  Negative      5  \n",
       "3         Want  2020      8   10     5  Positive     70  \n",
       "4      Disgust  2020     11    7     9  Negative      0  "
      ]
     },
     "execution_count": 4,
     "metadata": {},
     "output_type": "execute_result"
    }
   ],
   "source": [
    "# First 5 records\n",
    "data.head()"
   ]
  },
  {
   "cell_type": "code",
   "execution_count": 5,
   "id": "92d579ef",
   "metadata": {},
   "outputs": [
    {
     "data": {
      "text/plain": [
       "(44806, 19)"
      ]
     },
     "execution_count": 5,
     "metadata": {},
     "output_type": "execute_result"
    }
   ],
   "source": [
    "# Check dimensions of the data\n",
    "data.shape"
   ]
  },
  {
   "cell_type": "code",
   "execution_count": 6,
   "id": "c0fceca5",
   "metadata": {},
   "outputs": [
    {
     "data": {
      "text/plain": [
       "Sr. No.          int64\n",
       "Content ID      object\n",
       "User ID         object\n",
       "Name            object\n",
       "Email           object\n",
       "Interests       object\n",
       "Age              int64\n",
       "Address         object\n",
       "Device          object\n",
       "Duration         int64\n",
       "Type            object\n",
       "Category        object\n",
       "ReactionType    object\n",
       "Year             int64\n",
       "Month            int64\n",
       "Day              int64\n",
       "Hour             int64\n",
       "Sentiment       object\n",
       "Score            int64\n",
       "dtype: object"
      ]
     },
     "execution_count": 6,
     "metadata": {},
     "output_type": "execute_result"
    }
   ],
   "source": [
    "# Datatypes present in our data\n",
    "data.dtypes"
   ]
  },
  {
   "cell_type": "code",
   "execution_count": 7,
   "id": "0570ca4a",
   "metadata": {},
   "outputs": [
    {
     "data": {
      "text/html": [
       "<div>\n",
       "<style scoped>\n",
       "    .dataframe tbody tr th:only-of-type {\n",
       "        vertical-align: middle;\n",
       "    }\n",
       "\n",
       "    .dataframe tbody tr th {\n",
       "        vertical-align: top;\n",
       "    }\n",
       "\n",
       "    .dataframe thead th {\n",
       "        text-align: right;\n",
       "    }\n",
       "</style>\n",
       "<table border=\"1\" class=\"dataframe\">\n",
       "  <thead>\n",
       "    <tr style=\"text-align: right;\">\n",
       "      <th></th>\n",
       "      <th>count</th>\n",
       "      <th>unique</th>\n",
       "      <th>top</th>\n",
       "      <th>freq</th>\n",
       "      <th>mean</th>\n",
       "      <th>std</th>\n",
       "      <th>min</th>\n",
       "      <th>25%</th>\n",
       "      <th>50%</th>\n",
       "      <th>75%</th>\n",
       "      <th>max</th>\n",
       "    </tr>\n",
       "  </thead>\n",
       "  <tbody>\n",
       "    <tr>\n",
       "      <th>Sr. No.</th>\n",
       "      <td>44806.0</td>\n",
       "      <td>NaN</td>\n",
       "      <td>NaN</td>\n",
       "      <td>NaN</td>\n",
       "      <td>22403.5</td>\n",
       "      <td>12934.522417</td>\n",
       "      <td>1.0</td>\n",
       "      <td>11202.25</td>\n",
       "      <td>22403.5</td>\n",
       "      <td>33604.75</td>\n",
       "      <td>44806.0</td>\n",
       "    </tr>\n",
       "    <tr>\n",
       "      <th>Content ID</th>\n",
       "      <td>44806</td>\n",
       "      <td>1000</td>\n",
       "      <td>a168836d-7a74-41e2-a8ae-809fa556c8a0</td>\n",
       "      <td>65</td>\n",
       "      <td>NaN</td>\n",
       "      <td>NaN</td>\n",
       "      <td>NaN</td>\n",
       "      <td>NaN</td>\n",
       "      <td>NaN</td>\n",
       "      <td>NaN</td>\n",
       "      <td>NaN</td>\n",
       "    </tr>\n",
       "    <tr>\n",
       "      <th>User ID</th>\n",
       "      <td>44806</td>\n",
       "      <td>446</td>\n",
       "      <td>3956593b-7739-426a-b7a5-e841c95a5df9</td>\n",
       "      <td>434</td>\n",
       "      <td>NaN</td>\n",
       "      <td>NaN</td>\n",
       "      <td>NaN</td>\n",
       "      <td>NaN</td>\n",
       "      <td>NaN</td>\n",
       "      <td>NaN</td>\n",
       "      <td>NaN</td>\n",
       "    </tr>\n",
       "    <tr>\n",
       "      <th>Name</th>\n",
       "      <td>44806</td>\n",
       "      <td>446</td>\n",
       "      <td>Richard Uhlig</td>\n",
       "      <td>434</td>\n",
       "      <td>NaN</td>\n",
       "      <td>NaN</td>\n",
       "      <td>NaN</td>\n",
       "      <td>NaN</td>\n",
       "      <td>NaN</td>\n",
       "      <td>NaN</td>\n",
       "      <td>NaN</td>\n",
       "    </tr>\n",
       "    <tr>\n",
       "      <th>Email</th>\n",
       "      <td>44806</td>\n",
       "      <td>233</td>\n",
       "      <td>MS@gmail.com</td>\n",
       "      <td>898</td>\n",
       "      <td>NaN</td>\n",
       "      <td>NaN</td>\n",
       "      <td>NaN</td>\n",
       "      <td>NaN</td>\n",
       "      <td>NaN</td>\n",
       "      <td>NaN</td>\n",
       "      <td>NaN</td>\n",
       "    </tr>\n",
       "    <tr>\n",
       "      <th>Interests</th>\n",
       "      <td>44806</td>\n",
       "      <td>315</td>\n",
       "      <td>Public Speaking</td>\n",
       "      <td>1436</td>\n",
       "      <td>NaN</td>\n",
       "      <td>NaN</td>\n",
       "      <td>NaN</td>\n",
       "      <td>NaN</td>\n",
       "      <td>NaN</td>\n",
       "      <td>NaN</td>\n",
       "      <td>NaN</td>\n",
       "    </tr>\n",
       "    <tr>\n",
       "      <th>Age</th>\n",
       "      <td>44806.0</td>\n",
       "      <td>NaN</td>\n",
       "      <td>NaN</td>\n",
       "      <td>NaN</td>\n",
       "      <td>21.897179</td>\n",
       "      <td>13.342637</td>\n",
       "      <td>0.0</td>\n",
       "      <td>10.0</td>\n",
       "      <td>21.0</td>\n",
       "      <td>34.0</td>\n",
       "      <td>44.0</td>\n",
       "    </tr>\n",
       "    <tr>\n",
       "      <th>Address</th>\n",
       "      <td>44806</td>\n",
       "      <td>54</td>\n",
       "      <td>AP</td>\n",
       "      <td>2414</td>\n",
       "      <td>NaN</td>\n",
       "      <td>NaN</td>\n",
       "      <td>NaN</td>\n",
       "      <td>NaN</td>\n",
       "      <td>NaN</td>\n",
       "      <td>NaN</td>\n",
       "      <td>NaN</td>\n",
       "    </tr>\n",
       "    <tr>\n",
       "      <th>Device</th>\n",
       "      <td>44806</td>\n",
       "      <td>13</td>\n",
       "      <td>Huawei</td>\n",
       "      <td>7250</td>\n",
       "      <td>NaN</td>\n",
       "      <td>NaN</td>\n",
       "      <td>NaN</td>\n",
       "      <td>NaN</td>\n",
       "      <td>NaN</td>\n",
       "      <td>NaN</td>\n",
       "      <td>NaN</td>\n",
       "    </tr>\n",
       "    <tr>\n",
       "      <th>Duration</th>\n",
       "      <td>44806.0</td>\n",
       "      <td>NaN</td>\n",
       "      <td>NaN</td>\n",
       "      <td>NaN</td>\n",
       "      <td>47.351315</td>\n",
       "      <td>29.2506</td>\n",
       "      <td>0.0</td>\n",
       "      <td>20.0</td>\n",
       "      <td>47.0</td>\n",
       "      <td>73.0</td>\n",
       "      <td>99.0</td>\n",
       "    </tr>\n",
       "    <tr>\n",
       "      <th>Type</th>\n",
       "      <td>44806</td>\n",
       "      <td>4</td>\n",
       "      <td>video</td>\n",
       "      <td>11676</td>\n",
       "      <td>NaN</td>\n",
       "      <td>NaN</td>\n",
       "      <td>NaN</td>\n",
       "      <td>NaN</td>\n",
       "      <td>NaN</td>\n",
       "      <td>NaN</td>\n",
       "      <td>NaN</td>\n",
       "    </tr>\n",
       "    <tr>\n",
       "      <th>Category</th>\n",
       "      <td>44806</td>\n",
       "      <td>16</td>\n",
       "      <td>Technology</td>\n",
       "      <td>3228</td>\n",
       "      <td>NaN</td>\n",
       "      <td>NaN</td>\n",
       "      <td>NaN</td>\n",
       "      <td>NaN</td>\n",
       "      <td>NaN</td>\n",
       "      <td>NaN</td>\n",
       "      <td>NaN</td>\n",
       "    </tr>\n",
       "    <tr>\n",
       "      <th>ReactionType</th>\n",
       "      <td>44806</td>\n",
       "      <td>16</td>\n",
       "      <td>Heart</td>\n",
       "      <td>2942</td>\n",
       "      <td>NaN</td>\n",
       "      <td>NaN</td>\n",
       "      <td>NaN</td>\n",
       "      <td>NaN</td>\n",
       "      <td>NaN</td>\n",
       "      <td>NaN</td>\n",
       "      <td>NaN</td>\n",
       "    </tr>\n",
       "    <tr>\n",
       "      <th>Year</th>\n",
       "      <td>44806.0</td>\n",
       "      <td>NaN</td>\n",
       "      <td>NaN</td>\n",
       "      <td>NaN</td>\n",
       "      <td>2020.455408</td>\n",
       "      <td>0.498013</td>\n",
       "      <td>2020.0</td>\n",
       "      <td>2020.0</td>\n",
       "      <td>2020.0</td>\n",
       "      <td>2021.0</td>\n",
       "      <td>2021.0</td>\n",
       "    </tr>\n",
       "    <tr>\n",
       "      <th>Month</th>\n",
       "      <td>44806.0</td>\n",
       "      <td>NaN</td>\n",
       "      <td>NaN</td>\n",
       "      <td>NaN</td>\n",
       "      <td>6.558206</td>\n",
       "      <td>3.470042</td>\n",
       "      <td>1.0</td>\n",
       "      <td>4.0</td>\n",
       "      <td>7.0</td>\n",
       "      <td>10.0</td>\n",
       "      <td>12.0</td>\n",
       "    </tr>\n",
       "    <tr>\n",
       "      <th>Day</th>\n",
       "      <td>44806.0</td>\n",
       "      <td>NaN</td>\n",
       "      <td>NaN</td>\n",
       "      <td>NaN</td>\n",
       "      <td>15.752176</td>\n",
       "      <td>8.808972</td>\n",
       "      <td>1.0</td>\n",
       "      <td>8.0</td>\n",
       "      <td>16.0</td>\n",
       "      <td>23.0</td>\n",
       "      <td>31.0</td>\n",
       "    </tr>\n",
       "    <tr>\n",
       "      <th>Hour</th>\n",
       "      <td>44806.0</td>\n",
       "      <td>NaN</td>\n",
       "      <td>NaN</td>\n",
       "      <td>NaN</td>\n",
       "      <td>11.516583</td>\n",
       "      <td>6.956682</td>\n",
       "      <td>0.0</td>\n",
       "      <td>6.0</td>\n",
       "      <td>11.0</td>\n",
       "      <td>18.0</td>\n",
       "      <td>23.0</td>\n",
       "    </tr>\n",
       "    <tr>\n",
       "      <th>Sentiment</th>\n",
       "      <td>44806</td>\n",
       "      <td>3</td>\n",
       "      <td>Positive</td>\n",
       "      <td>25319</td>\n",
       "      <td>NaN</td>\n",
       "      <td>NaN</td>\n",
       "      <td>NaN</td>\n",
       "      <td>NaN</td>\n",
       "      <td>NaN</td>\n",
       "      <td>NaN</td>\n",
       "      <td>NaN</td>\n",
       "    </tr>\n",
       "    <tr>\n",
       "      <th>Score</th>\n",
       "      <td>44806.0</td>\n",
       "      <td>NaN</td>\n",
       "      <td>NaN</td>\n",
       "      <td>NaN</td>\n",
       "      <td>39.80574</td>\n",
       "      <td>25.990153</td>\n",
       "      <td>0.0</td>\n",
       "      <td>15.0</td>\n",
       "      <td>45.0</td>\n",
       "      <td>65.0</td>\n",
       "      <td>75.0</td>\n",
       "    </tr>\n",
       "  </tbody>\n",
       "</table>\n",
       "</div>"
      ],
      "text/plain": [
       "                count unique                                   top   freq  \\\n",
       "Sr. No.       44806.0    NaN                                   NaN    NaN   \n",
       "Content ID      44806   1000  a168836d-7a74-41e2-a8ae-809fa556c8a0     65   \n",
       "User ID         44806    446  3956593b-7739-426a-b7a5-e841c95a5df9    434   \n",
       "Name            44806    446                         Richard Uhlig    434   \n",
       "Email           44806    233                          MS@gmail.com    898   \n",
       "Interests       44806    315                       Public Speaking   1436   \n",
       "Age           44806.0    NaN                                   NaN    NaN   \n",
       "Address         44806     54                                    AP   2414   \n",
       "Device          44806     13                                Huawei   7250   \n",
       "Duration      44806.0    NaN                                   NaN    NaN   \n",
       "Type            44806      4                                 video  11676   \n",
       "Category        44806     16                            Technology   3228   \n",
       "ReactionType    44806     16                                 Heart   2942   \n",
       "Year          44806.0    NaN                                   NaN    NaN   \n",
       "Month         44806.0    NaN                                   NaN    NaN   \n",
       "Day           44806.0    NaN                                   NaN    NaN   \n",
       "Hour          44806.0    NaN                                   NaN    NaN   \n",
       "Sentiment       44806      3                              Positive  25319   \n",
       "Score         44806.0    NaN                                   NaN    NaN   \n",
       "\n",
       "                     mean           std     min       25%      50%       75%  \\\n",
       "Sr. No.           22403.5  12934.522417     1.0  11202.25  22403.5  33604.75   \n",
       "Content ID            NaN           NaN     NaN       NaN      NaN       NaN   \n",
       "User ID               NaN           NaN     NaN       NaN      NaN       NaN   \n",
       "Name                  NaN           NaN     NaN       NaN      NaN       NaN   \n",
       "Email                 NaN           NaN     NaN       NaN      NaN       NaN   \n",
       "Interests             NaN           NaN     NaN       NaN      NaN       NaN   \n",
       "Age             21.897179     13.342637     0.0      10.0     21.0      34.0   \n",
       "Address               NaN           NaN     NaN       NaN      NaN       NaN   \n",
       "Device                NaN           NaN     NaN       NaN      NaN       NaN   \n",
       "Duration        47.351315       29.2506     0.0      20.0     47.0      73.0   \n",
       "Type                  NaN           NaN     NaN       NaN      NaN       NaN   \n",
       "Category              NaN           NaN     NaN       NaN      NaN       NaN   \n",
       "ReactionType          NaN           NaN     NaN       NaN      NaN       NaN   \n",
       "Year          2020.455408      0.498013  2020.0    2020.0   2020.0    2021.0   \n",
       "Month            6.558206      3.470042     1.0       4.0      7.0      10.0   \n",
       "Day             15.752176      8.808972     1.0       8.0     16.0      23.0   \n",
       "Hour            11.516583      6.956682     0.0       6.0     11.0      18.0   \n",
       "Sentiment             NaN           NaN     NaN       NaN      NaN       NaN   \n",
       "Score            39.80574     25.990153     0.0      15.0     45.0      65.0   \n",
       "\n",
       "                  max  \n",
       "Sr. No.       44806.0  \n",
       "Content ID        NaN  \n",
       "User ID           NaN  \n",
       "Name              NaN  \n",
       "Email             NaN  \n",
       "Interests         NaN  \n",
       "Age              44.0  \n",
       "Address           NaN  \n",
       "Device            NaN  \n",
       "Duration         99.0  \n",
       "Type              NaN  \n",
       "Category          NaN  \n",
       "ReactionType      NaN  \n",
       "Year           2021.0  \n",
       "Month            12.0  \n",
       "Day              31.0  \n",
       "Hour             23.0  \n",
       "Sentiment         NaN  \n",
       "Score            75.0  "
      ]
     },
     "execution_count": 7,
     "metadata": {},
     "output_type": "execute_result"
    }
   ],
   "source": [
    "# Descriptive Statistics\n",
    "data.describe(include='all').T"
   ]
  },
  {
   "cell_type": "code",
   "execution_count": 8,
   "id": "84dae9f8",
   "metadata": {},
   "outputs": [
    {
     "name": "stdout",
     "output_type": "stream",
     "text": [
      "<class 'pandas.core.frame.DataFrame'>\n",
      "RangeIndex: 44806 entries, 0 to 44805\n",
      "Data columns (total 19 columns):\n",
      " #   Column        Non-Null Count  Dtype \n",
      "---  ------        --------------  ----- \n",
      " 0   Sr. No.       44806 non-null  int64 \n",
      " 1   Content ID    44806 non-null  object\n",
      " 2   User ID       44806 non-null  object\n",
      " 3   Name          44806 non-null  object\n",
      " 4   Email         44806 non-null  object\n",
      " 5   Interests     44806 non-null  object\n",
      " 6   Age           44806 non-null  int64 \n",
      " 7   Address       44806 non-null  object\n",
      " 8   Device        44806 non-null  object\n",
      " 9   Duration      44806 non-null  int64 \n",
      " 10  Type          44806 non-null  object\n",
      " 11  Category      44806 non-null  object\n",
      " 12  ReactionType  44806 non-null  object\n",
      " 13  Year          44806 non-null  int64 \n",
      " 14  Month         44806 non-null  int64 \n",
      " 15  Day           44806 non-null  int64 \n",
      " 16  Hour          44806 non-null  int64 \n",
      " 17  Sentiment     44806 non-null  object\n",
      " 18  Score         44806 non-null  int64 \n",
      "dtypes: int64(8), object(11)\n",
      "memory usage: 6.5+ MB\n"
     ]
    }
   ],
   "source": [
    "# Concise summary \n",
    "data.info()"
   ]
  },
  {
   "cell_type": "code",
   "execution_count": 9,
   "id": "02a53fba",
   "metadata": {},
   "outputs": [],
   "source": [
    "# Drop unnecessary columns\n",
    "data = data.drop(['Sr. No.', 'Email', 'Interests', 'Name', 'Device', 'Address', 'Day', 'Hour'], axis=1)"
   ]
  },
  {
   "cell_type": "code",
   "execution_count": 10,
   "id": "fff7a3f4",
   "metadata": {},
   "outputs": [
    {
     "data": {
      "text/plain": [
       "Content ID      0\n",
       "User ID         0\n",
       "Age             0\n",
       "Duration        0\n",
       "Type            0\n",
       "Category        0\n",
       "ReactionType    0\n",
       "Year            0\n",
       "Month           0\n",
       "Sentiment       0\n",
       "Score           0\n",
       "dtype: int64"
      ]
     },
     "execution_count": 10,
     "metadata": {},
     "output_type": "execute_result"
    }
   ],
   "source": [
    "# Check for null / missing values\n",
    "data.isnull().sum()"
   ]
  },
  {
   "cell_type": "code",
   "execution_count": 11,
   "id": "c12d8ced",
   "metadata": {},
   "outputs": [
    {
     "data": {
      "text/plain": [
       "4593"
      ]
     },
     "execution_count": 11,
     "metadata": {},
     "output_type": "execute_result"
    }
   ],
   "source": [
    "# Check for duplicate records\n",
    "data.duplicated().sum()"
   ]
  },
  {
   "cell_type": "markdown",
   "id": "be5cbcf4",
   "metadata": {},
   "source": [
    "As you can see that there are no duplicates as well as missing values in our data."
   ]
  },
  {
   "cell_type": "markdown",
   "id": "f2a4cd50",
   "metadata": {},
   "source": [
    "<h4>Data Preprocessing</h4>"
   ]
  },
  {
   "cell_type": "code",
   "execution_count": 12,
   "id": "0e59ee39",
   "metadata": {},
   "outputs": [
    {
     "data": {
      "text/plain": [
       "Index(['Content ID', 'User ID', 'Age', 'Duration', 'Type', 'Category',\n",
       "       'ReactionType', 'Year', 'Month', 'Sentiment', 'Score'],\n",
       "      dtype='object')"
      ]
     },
     "execution_count": 12,
     "metadata": {},
     "output_type": "execute_result"
    }
   ],
   "source": [
    "data.columns"
   ]
  },
  {
   "cell_type": "code",
   "execution_count": 13,
   "id": "6a40305f",
   "metadata": {},
   "outputs": [
    {
     "name": "stdout",
     "output_type": "stream",
     "text": [
      "<class 'pandas.core.frame.DataFrame'>\n",
      "RangeIndex: 44806 entries, 0 to 44805\n",
      "Data columns (total 11 columns):\n",
      " #   Column        Non-Null Count  Dtype \n",
      "---  ------        --------------  ----- \n",
      " 0   Content ID    44806 non-null  object\n",
      " 1   User ID       44806 non-null  object\n",
      " 2   Age           44806 non-null  int64 \n",
      " 3   Duration      44806 non-null  int64 \n",
      " 4   Type          44806 non-null  object\n",
      " 5   Category      44806 non-null  object\n",
      " 6   ReactionType  44806 non-null  object\n",
      " 7   Year          44806 non-null  int64 \n",
      " 8   Month         44806 non-null  int64 \n",
      " 9   Sentiment     44806 non-null  object\n",
      " 10  Score         44806 non-null  int64 \n",
      "dtypes: int64(5), object(6)\n",
      "memory usage: 3.8+ MB\n"
     ]
    }
   ],
   "source": [
    "data.info()"
   ]
  },
  {
   "cell_type": "code",
   "execution_count": 14,
   "id": "8326b1f4",
   "metadata": {},
   "outputs": [
    {
     "data": {
      "text/plain": [
       "44"
      ]
     },
     "execution_count": 14,
     "metadata": {},
     "output_type": "execute_result"
    }
   ],
   "source": [
    "data['Age'].max()"
   ]
  },
  {
   "cell_type": "code",
   "execution_count": 15,
   "id": "4c213109",
   "metadata": {},
   "outputs": [],
   "source": [
    "# Now we will convert Age into Age Bins for our further analysis\n",
    "data['Age Group'] = pd.cut(data['Age'], [0,10,20,30,40,50], labels=['<10','10-20','20-30','30-40','40-50'])"
   ]
  },
  {
   "cell_type": "code",
   "execution_count": 16,
   "id": "8d5147d7",
   "metadata": {},
   "outputs": [
    {
     "data": {
      "text/html": [
       "<div>\n",
       "<style scoped>\n",
       "    .dataframe tbody tr th:only-of-type {\n",
       "        vertical-align: middle;\n",
       "    }\n",
       "\n",
       "    .dataframe tbody tr th {\n",
       "        vertical-align: top;\n",
       "    }\n",
       "\n",
       "    .dataframe thead th {\n",
       "        text-align: right;\n",
       "    }\n",
       "</style>\n",
       "<table border=\"1\" class=\"dataframe\">\n",
       "  <thead>\n",
       "    <tr style=\"text-align: right;\">\n",
       "      <th></th>\n",
       "      <th>Content ID</th>\n",
       "      <th>User ID</th>\n",
       "      <th>Age</th>\n",
       "      <th>Duration</th>\n",
       "      <th>Type</th>\n",
       "      <th>Category</th>\n",
       "      <th>ReactionType</th>\n",
       "      <th>Year</th>\n",
       "      <th>Month</th>\n",
       "      <th>Sentiment</th>\n",
       "      <th>Score</th>\n",
       "      <th>Age Group</th>\n",
       "    </tr>\n",
       "  </thead>\n",
       "  <tbody>\n",
       "    <tr>\n",
       "      <th>0</th>\n",
       "      <td>97522e57-d9ab-4bd6-97bf-c24d952602d2</td>\n",
       "      <td>8d3cd87d-8a31-4935-9a4f-b319bfe05f31</td>\n",
       "      <td>13</td>\n",
       "      <td>10</td>\n",
       "      <td>photo</td>\n",
       "      <td>Studying</td>\n",
       "      <td>Intrigued</td>\n",
       "      <td>2020</td>\n",
       "      <td>7</td>\n",
       "      <td>Positive</td>\n",
       "      <td>45</td>\n",
       "      <td>10-20</td>\n",
       "    </tr>\n",
       "    <tr>\n",
       "      <th>1</th>\n",
       "      <td>97522e57-d9ab-4bd6-97bf-c24d952602d2</td>\n",
       "      <td>8d3cd87d-8a31-4935-9a4f-b319bfe05f31</td>\n",
       "      <td>13</td>\n",
       "      <td>10</td>\n",
       "      <td>photo</td>\n",
       "      <td>Studying</td>\n",
       "      <td>Hate</td>\n",
       "      <td>2021</td>\n",
       "      <td>5</td>\n",
       "      <td>Negative</td>\n",
       "      <td>5</td>\n",
       "      <td>10-20</td>\n",
       "    </tr>\n",
       "    <tr>\n",
       "      <th>2</th>\n",
       "      <td>97522e57-d9ab-4bd6-97bf-c24d952602d2</td>\n",
       "      <td>8d3cd87d-8a31-4935-9a4f-b319bfe05f31</td>\n",
       "      <td>13</td>\n",
       "      <td>10</td>\n",
       "      <td>photo</td>\n",
       "      <td>Studying</td>\n",
       "      <td>Hate</td>\n",
       "      <td>2021</td>\n",
       "      <td>1</td>\n",
       "      <td>Negative</td>\n",
       "      <td>5</td>\n",
       "      <td>10-20</td>\n",
       "    </tr>\n",
       "    <tr>\n",
       "      <th>3</th>\n",
       "      <td>97522e57-d9ab-4bd6-97bf-c24d952602d2</td>\n",
       "      <td>8d3cd87d-8a31-4935-9a4f-b319bfe05f31</td>\n",
       "      <td>13</td>\n",
       "      <td>10</td>\n",
       "      <td>photo</td>\n",
       "      <td>Studying</td>\n",
       "      <td>Want</td>\n",
       "      <td>2020</td>\n",
       "      <td>8</td>\n",
       "      <td>Positive</td>\n",
       "      <td>70</td>\n",
       "      <td>10-20</td>\n",
       "    </tr>\n",
       "    <tr>\n",
       "      <th>4</th>\n",
       "      <td>7913b30d-19fd-4900-8a68-ce141192b3ec</td>\n",
       "      <td>5d454588-283d-459d-915d-c48a2cb4c27f</td>\n",
       "      <td>6</td>\n",
       "      <td>88</td>\n",
       "      <td>audio</td>\n",
       "      <td>Cooking</td>\n",
       "      <td>Disgust</td>\n",
       "      <td>2020</td>\n",
       "      <td>11</td>\n",
       "      <td>Negative</td>\n",
       "      <td>0</td>\n",
       "      <td>&lt;10</td>\n",
       "    </tr>\n",
       "  </tbody>\n",
       "</table>\n",
       "</div>"
      ],
      "text/plain": [
       "                             Content ID                               User ID  \\\n",
       "0  97522e57-d9ab-4bd6-97bf-c24d952602d2  8d3cd87d-8a31-4935-9a4f-b319bfe05f31   \n",
       "1  97522e57-d9ab-4bd6-97bf-c24d952602d2  8d3cd87d-8a31-4935-9a4f-b319bfe05f31   \n",
       "2  97522e57-d9ab-4bd6-97bf-c24d952602d2  8d3cd87d-8a31-4935-9a4f-b319bfe05f31   \n",
       "3  97522e57-d9ab-4bd6-97bf-c24d952602d2  8d3cd87d-8a31-4935-9a4f-b319bfe05f31   \n",
       "4  7913b30d-19fd-4900-8a68-ce141192b3ec  5d454588-283d-459d-915d-c48a2cb4c27f   \n",
       "\n",
       "   Age  Duration   Type  Category ReactionType  Year  Month Sentiment  Score  \\\n",
       "0   13        10  photo  Studying    Intrigued  2020      7  Positive     45   \n",
       "1   13        10  photo  Studying         Hate  2021      5  Negative      5   \n",
       "2   13        10  photo  Studying         Hate  2021      1  Negative      5   \n",
       "3   13        10  photo  Studying         Want  2020      8  Positive     70   \n",
       "4    6        88  audio   Cooking      Disgust  2020     11  Negative      0   \n",
       "\n",
       "  Age Group  \n",
       "0     10-20  \n",
       "1     10-20  \n",
       "2     10-20  \n",
       "3     10-20  \n",
       "4       <10  "
      ]
     },
     "execution_count": 16,
     "metadata": {},
     "output_type": "execute_result"
    }
   ],
   "source": [
    "data.head()"
   ]
  },
  {
   "cell_type": "code",
   "execution_count": 17,
   "id": "0dca9e41",
   "metadata": {},
   "outputs": [],
   "source": [
    "# data.to_excel(\"Social_Buzz.xlsx\")"
   ]
  },
  {
   "cell_type": "markdown",
   "id": "49b8a1d8",
   "metadata": {},
   "source": [
    "<h4>Now we will do some Exploratory Data Analysis to reveal insights from data</h4>"
   ]
  },
  {
   "cell_type": "markdown",
   "id": "e6c678d8",
   "metadata": {},
   "source": [
    "##### Type of the content popular among people of different age groups"
   ]
  },
  {
   "cell_type": "code",
   "execution_count": 18,
   "id": "3f366537",
   "metadata": {},
   "outputs": [
    {
     "data": {
      "text/plain": [
       "video    11676\n",
       "photo    11649\n",
       "gif      10980\n",
       "audio    10501\n",
       "Name: Type, dtype: int64"
      ]
     },
     "execution_count": 18,
     "metadata": {},
     "output_type": "execute_result"
    }
   ],
   "source": [
    "# First, find out the counts of the Content type\n",
    "data['Type'].value_counts()"
   ]
  },
  {
   "cell_type": "markdown",
   "id": "4cff601b",
   "metadata": {},
   "source": [
    "As you can see that there are nearly equal counts of Content type in our data. So let's move to our analysis."
   ]
  },
  {
   "cell_type": "code",
   "execution_count": 19,
   "id": "592fec1c",
   "metadata": {},
   "outputs": [
    {
     "data": {
      "text/plain": [
       "Age Group  Type \n",
       "<10        audio    2479\n",
       "           gif      2684\n",
       "           photo    2792\n",
       "           video    2876\n",
       "10-20      audio    2074\n",
       "           gif      2739\n",
       "           photo    2427\n",
       "           video    2307\n",
       "20-30      audio    2288\n",
       "           gif      2055\n",
       "           photo    2433\n",
       "           video    2510\n",
       "30-40      audio    2407\n",
       "           gif      2287\n",
       "           photo    2267\n",
       "           video    2457\n",
       "40-50      audio    1065\n",
       "           gif       918\n",
       "           photo    1427\n",
       "           video    1311\n",
       "Name: Type, dtype: int64"
      ]
     },
     "execution_count": 19,
     "metadata": {},
     "output_type": "execute_result"
    }
   ],
   "source": [
    "# Popular Content Type by Age Group\n",
    "data.groupby(['Age Group','Type'])['Type'].count()"
   ]
  },
  {
   "cell_type": "code",
   "execution_count": 20,
   "id": "ff35c437",
   "metadata": {},
   "outputs": [
    {
     "data": {
      "image/png": "[encoded data removed]",
      "text/plain": [
       "<Figure size 1080x432 with 1 Axes>"
      ]
     },
     "metadata": {
      "needs_background": "light"
     },
     "output_type": "display_data"
    }
   ],
   "source": [
    "# Lets plot above data using a countplot for better understanding\n",
    "plt.figure(figsize=(15,6))\n",
    "sns.countplot(x='Age Group', data=data, hue='Type')\n",
    "plt.xlabel('Age Group')\n",
    "plt.ylabel('Total Count')\n",
    "plt.title('Popular Content Type by Age Group')\n",
    "plt.show()"
   ]
  },
  {
   "cell_type": "markdown",
   "id": "0d578cf1",
   "metadata": {},
   "source": [
    "After observing above countplot, we made following observations:\n",
    "\n",
    " - For the Age Group : 30-40, each Content Type is nearly equally popular.\n",
    " - The Content Type : gif is more popular among Age Group : 10-20.\n",
    " - The Content Type : audio is less popular among Age Group : <10 than rest of the other Content Type.\n",
    " - The Content Type : gif is less popular among Age Group : 20-30 than rest of the other Content Type.\n",
    " - The Content Type : photo and video are more popular among the Age Group : 40-50 than rest of the other Content Type.\n",
    " - Overall, video and photo are most popular Content Type."
   ]
  },
  {
   "cell_type": "markdown",
   "id": "21f3d422",
   "metadata": {},
   "source": [
    "##### The month with the maximum content over the years"
   ]
  },
  {
   "cell_type": "code",
   "execution_count": 21,
   "id": "5a5c28f0",
   "metadata": {},
   "outputs": [
    {
     "data": {
      "text/plain": [
       "12    3994\n",
       "1     3913\n",
       "5     3873\n",
       "8     3844\n",
       "9     3762\n",
       "10    3737\n",
       "11    3724\n",
       "7     3716\n",
       "3     3695\n",
       "6     3643\n",
       "4     3466\n",
       "2     3439\n",
       "Name: Month, dtype: int64"
      ]
     },
     "execution_count": 21,
     "metadata": {},
     "output_type": "execute_result"
    }
   ],
   "source": [
    "data['Month'].value_counts()"
   ]
  },
  {
   "cell_type": "code",
   "execution_count": 22,
   "id": "e2282f80",
   "metadata": {},
   "outputs": [
    {
     "data": {
      "text/plain": [
       "1     3913\n",
       "2     3439\n",
       "3     3695\n",
       "4     3466\n",
       "5     3873\n",
       "6     3643\n",
       "7     3716\n",
       "8     3844\n",
       "9     3762\n",
       "10    3737\n",
       "12    3994\n",
       "Name: Month, dtype: int64"
      ]
     },
     "execution_count": 22,
     "metadata": {},
     "output_type": "execute_result"
    }
   ],
   "source": [
    "monthly_data = data['Month'].value_counts().reindex([1,2,3,4,5,6,7,8,9,10,12])\n",
    "monthly_data"
   ]
  },
  {
   "cell_type": "code",
   "execution_count": 23,
   "id": "70325840",
   "metadata": {},
   "outputs": [
    {
     "data": {
      "image/png": "[encoded data removed]",
      "text/plain": [
       "<Figure size 792x792 with 1 Axes>"
      ]
     },
     "metadata": {},
     "output_type": "display_data"
    }
   ],
   "source": [
    "# Lets plot above data using a Pie Chart for better understanding\n",
    "plt.figure(figsize=(11,11))\n",
    "\n",
    "labels = ['January','February','March','April','May','June','July','August','September','October','December']\n",
    "\n",
    "def make_autopct(values):\n",
    "    def my_autopct(pct):\n",
    "        total = sum(monthly_data.values)\n",
    "        val = int(round(pct*total/100.0))\n",
    "        return '{p:.2f}% ({v:d})'.format(p=pct,v=val)\n",
    "    return my_autopct\n",
    "\n",
    "\n",
    "plt.pie(x=monthly_data, labels=labels, autopct=make_autopct(monthly_data.values))\n",
    "plt.title('Total Content created by Month')\n",
    "plt.show()"
   ]
  },
  {
   "cell_type": "markdown",
   "id": "64a790f2",
   "metadata": {},
   "source": [
    "After observing above Pie Chart we made following conclusions :\n",
    "\n",
    " - The Month : December, January and May saw maximum content posted.\n",
    " - The Month : June, April and February saw minimum content posted"
   ]
  },
  {
   "cell_type": "markdown",
   "id": "b5783236",
   "metadata": {},
   "source": [
    "##### What is the Average Duration of the Content Type watched by People from different Age Groups ?"
   ]
  },
  {
   "cell_type": "code",
   "execution_count": 24,
   "id": "48a7bc0f",
   "metadata": {},
   "outputs": [
    {
     "data": {
      "text/plain": [
       "Age Group  Type \n",
       "<10        audio    49.848326\n",
       "           gif      44.210879\n",
       "           photo    49.953080\n",
       "           video    48.868567\n",
       "10-20      audio    55.458052\n",
       "           gif      54.060241\n",
       "           photo    44.958797\n",
       "           video    49.198960\n",
       "20-30      audio    46.596154\n",
       "           gif      43.185888\n",
       "           photo    48.992602\n",
       "           video    41.253386\n",
       "30-40      audio    46.117989\n",
       "           gif      38.709226\n",
       "           photo    43.592854\n",
       "           video    49.969068\n",
       "40-50      audio    48.528638\n",
       "           gif      49.425926\n",
       "           photo    41.532586\n",
       "           video    46.318078\n",
       "Name: Duration, dtype: float64"
      ]
     },
     "execution_count": 24,
     "metadata": {},
     "output_type": "execute_result"
    }
   ],
   "source": [
    "data.groupby(['Age Group', 'Type'])['Duration'].mean()"
   ]
  },
  {
   "cell_type": "code",
   "execution_count": 25,
   "id": "dbe33d77",
   "metadata": {},
   "outputs": [
    {
     "data": {
      "image/png": "[encoded data removed]",
      "text/plain": [
       "<Figure size 864x432 with 1 Axes>"
      ]
     },
     "metadata": {
      "needs_background": "light"
     },
     "output_type": "display_data"
    }
   ],
   "source": [
    "# Lets plot above data using a barplot for better understanding\n",
    "plt.figure(figsize=(12,6))\n",
    "sns.barplot(x='Age Group', y='Duration', data=data, hue='Type', ci=None, estimator=np.mean)\n",
    "plt.xlabel('Age Group')\n",
    "plt.ylabel('Average Duration')\n",
    "plt.title('Average Duration of the Content Type watched by People from different Age Groups')\n",
    "plt.show()"
   ]
  },
  {
   "cell_type": "markdown",
   "id": "3a4d72d5",
   "metadata": {},
   "source": [
    "After observing above barplot, we made following conclusions :\n",
    "\n",
    " - Age Group <10 spend more time watching Content Type : photo, video, audio.\n",
    " - Age Group 10-20 and 40-50 spend more time watching Content Type : audio, gif.\n",
    " - Age Group 20-30 spend more time watching Content Type : photo, audio.\n",
    " - Age Group 30-40 spend more time watching Content Type : video."
   ]
  },
  {
   "cell_type": "markdown",
   "id": "fbceff63",
   "metadata": {},
   "source": [
    "#### Top 5 Content Category by Total Score"
   ]
  },
  {
   "cell_type": "code",
   "execution_count": 26,
   "id": "15bf1502",
   "metadata": {},
   "outputs": [
    {
     "data": {
      "text/plain": [
       "Category\n",
       "Technology    127925\n",
       "Animals       127454\n",
       "Travel        126349\n",
       "Science       122075\n",
       "Culture       120810\n",
       "Name: Score, dtype: int64"
      ]
     },
     "execution_count": 26,
     "metadata": {},
     "output_type": "execute_result"
    }
   ],
   "source": [
    "category = data.groupby(['Category'])['Score'].sum().sort_values(ascending=False).head()\n",
    "category"
   ]
  },
  {
   "cell_type": "code",
   "execution_count": 27,
   "id": "5714d87a",
   "metadata": {},
   "outputs": [
    {
     "data": {
      "text/plain": [
       "Index(['Technology', 'Animals', 'Travel', 'Science', 'Culture'], dtype='object', name='Category')"
      ]
     },
     "execution_count": 27,
     "metadata": {},
     "output_type": "execute_result"
    }
   ],
   "source": [
    "category.index"
   ]
  },
  {
   "cell_type": "code",
   "execution_count": 28,
   "id": "e280e562",
   "metadata": {},
   "outputs": [
    {
     "data": {
      "image/png": "[encoded data removed]",
      "text/plain": [
       "<Figure size 792x792 with 1 Axes>"
      ]
     },
     "metadata": {},
     "output_type": "display_data"
    }
   ],
   "source": [
    "# Lets plot above data using a Pie Chart for better understanding\n",
    "plt.figure(figsize=(11,11))\n",
    "\n",
    "labels = ['Technology', 'Animals', 'Travel', 'Science', 'Culture']\n",
    "\n",
    "def make_autopct(values):\n",
    "    def my_autopct(pct):\n",
    "        total = sum(category.values)\n",
    "        val = int(round(pct*total/100.0))\n",
    "        return '{p:.2f}% ({v:d})'.format(p=pct,v=val)\n",
    "    return my_autopct\n",
    "\n",
    "\n",
    "plt.pie(x=category, labels=labels, autopct=make_autopct(category.values))\n",
    "plt.title('Top 5 Content Category by Total Score')\n",
    "plt.show()"
   ]
  },
  {
   "cell_type": "markdown",
   "id": "78cc3efa",
   "metadata": {},
   "source": [
    "Above Pie Chart tells us that 'Technology', 'Animals', 'Travel', 'Science', 'Culture' are the Top 5 Content Category by Total Score."
   ]
  },
  {
   "cell_type": "code",
   "execution_count": 31,
   "id": "03da3c6a",
   "metadata": {},
   "outputs": [
    {
     "data": {
      "text/plain": [
       "Index(['Content ID', 'User ID', 'Age', 'Duration', 'Type', 'Category',\n",
       "       'ReactionType', 'Year', 'Month', 'Sentiment', 'Score', 'Age Group'],\n",
       "      dtype='object')"
      ]
     },
     "execution_count": 31,
     "metadata": {},
     "output_type": "execute_result"
    }
   ],
   "source": [
    "data.columns"
   ]
  },
  {
   "cell_type": "code",
   "execution_count": 40,
   "id": "3d48fdbf",
   "metadata": {},
   "outputs": [
    {
     "data": {
      "text/plain": [
       "video    11676\n",
       "photo    11649\n",
       "gif      10980\n",
       "audio    10501\n",
       "Name: Type, dtype: int64"
      ]
     },
     "execution_count": 40,
     "metadata": {},
     "output_type": "execute_result"
    }
   ],
   "source": [
    "data['Type'].value_counts()"
   ]
  },
  {
   "cell_type": "code",
   "execution_count": null,
   "id": "8860cce2",
   "metadata": {},
   "outputs": [],
   "source": []
  }
 ],
 "metadata": {
  "kernelspec": {
   "display_name": "Python 3 (ipykernel)",
   "language": "python",
   "name": "python3"
  },
  "language_info": {
   "codemirror_mode": {
    "name": "ipython",
    "version": 3
   },
   "file_extension": ".py",
   "mimetype": "text/x-python",
   "name": "python",
   "nbconvert_exporter": "python",
   "pygments_lexer": "ipython3",
   "version": "3.9.12"
  }
 },
 "nbformat": 4,
 "nbformat_minor": 5
}
