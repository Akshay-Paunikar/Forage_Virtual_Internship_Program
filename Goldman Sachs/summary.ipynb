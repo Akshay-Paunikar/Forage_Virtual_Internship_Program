{
 "cells": [
  {
   "cell_type": "markdown",
   "metadata": {},
   "source": [
    "### Goldman Sachs Excel Skills for Business Job Simulation on Forage\n",
    "\n",
    " - Acquired proficient command of Excel functionalities and data analysis techniques, including data cleansing, and manipulation, and conditional\n",
    "   formatting techniques.\n",
    " - Acquired proficiency in automation by learning to record macros and script in Visual Basic for Applications (VBA), developing two functional macros integrated with buttons using account sales data.\n",
    " - Gained expertise in data visualization and storytelling using Excel and PowerPoint by creating impactful charts and interactive dashboards."
   ]
  }
 ],
 "metadata": {
  "language_info": {
   "name": "python"
  }
 },
 "nbformat": 4,
 "nbformat_minor": 2
}
