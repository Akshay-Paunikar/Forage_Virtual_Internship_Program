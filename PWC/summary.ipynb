{
 "cells": [
  {
   "cell_type": "markdown",
   "metadata": {},
   "source": [
    "### PwC Switzerland Power BI Job Simulation on Forage\n",
    "\n",
    " - Completed a job simulation where I strengthened my PowerBI skills to better understand clients and their data visualisation needs.\n",
    " - Demonstrated expertise in data visualization through the creation of Power BI dashboards that effectively conveyed KPIs, showcasing the ability to respond to client requests with well-designed solutions.\n",
    " - Strong communication skills reflected in the concise and informative email communication with engagement partners, delivering valuable insights and actionable suggestions based on data analysis.\n",
    " - Leveraged analytical problem-solving skills to examine HR data, particularly focusing on gender-related KPIs, and identified root causes for gender balance issues at the executive management level, highlighting a commitment to data-driven decision-making."
   ]
  },
  {
   "cell_type": "markdown",
   "metadata": {},
   "source": [
    " - Client: Call Center\n",
    " - Role: PowerBI Developer\n",
    " - Task 1: Introduction\n",
    " - Task 2: Call Centre Trends\n",
    " - Task 3: Customer Retention\n",
    " - Task 4: Diversity & Inclusion"
   ]
  }
 ],
 "metadata": {
  "kernelspec": {
   "display_name": "Deep_Learning",
   "language": "python",
   "name": "python3"
  },
  "language_info": {
   "name": "python",
   "version": "3.9.18"
  }
 },
 "nbformat": 4,
 "nbformat_minor": 2
}
